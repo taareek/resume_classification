{
  "nbformat": 4,
  "nbformat_minor": 0,
  "metadata": {
    "colab": {
      "provenance": [],
      "authorship_tag": "ABX9TyNB8FWWIigiOD9ixr6S8juG",
      "include_colab_link": true
    },
    "kernelspec": {
      "name": "python3",
      "display_name": "Python 3"
    },
    "language_info": {
      "name": "python"
    }
  },
  "cells": [
    {
      "cell_type": "markdown",
      "metadata": {
        "id": "view-in-github",
        "colab_type": "text"
      },
      "source": [
        "<a href=\"https://colab.research.google.com/github/taareek/resume_classification/blob/main/ML_XGBoost_final.ipynb\" target=\"_parent\"><img src=\"https://colab.research.google.com/assets/colab-badge.svg\" alt=\"Open In Colab\"/></a>"
      ]
    },
    {
      "cell_type": "code",
      "execution_count": null,
      "metadata": {
        "colab": {
          "base_uri": "https://localhost:8080/"
        },
        "id": "DLYkyqPAZLjR",
        "outputId": "182235b2-9248-47d0-a158-281b9d23cc1d"
      },
      "outputs": [
        {
          "output_type": "stream",
          "name": "stdout",
          "text": [
            "Drive already mounted at /content/drive; to attempt to forcibly remount, call drive.mount(\"/content/drive\", force_remount=True).\n"
          ]
        }
      ],
      "source": [
        "# getting drive\n",
        "from google.colab import drive\n",
        "drive.mount('/content/drive')"
      ]
    },
    {
      "cell_type": "code",
      "source": [
        "!pip install nltk\n",
        "!pip install gensim\n",
        "!pip install wordcloud\n",
        "!pip install PyPDF2"
      ],
      "metadata": {
        "id": "23IokoJjbXk_"
      },
      "execution_count": null,
      "outputs": []
    },
    {
      "cell_type": "code",
      "source": [
        "import pandas as pd\n",
        "import numpy as np\n",
        "import matplotlib.pyplot as plt"
      ],
      "metadata": {
        "id": "qgIpIHs9gV8l"
      },
      "execution_count": null,
      "outputs": []
    },
    {
      "cell_type": "code",
      "source": [
        "# loading train, test, and validation data\n",
        "train_data_path = '/content/drive/MyDrive/IC_Evaluation/final_train.csv'\n",
        "val_data_path = '/content/drive/MyDrive/IC_Evaluation/final_validation.csv'\n",
        "test_data_path = '/content/drive/MyDrive/IC_Evaluation/final_test.csv'"
      ],
      "metadata": {
        "id": "epSUS_5GgxdZ"
      },
      "execution_count": null,
      "outputs": []
    },
    {
      "cell_type": "code",
      "source": [
        "train_data = pd.read_csv(train_data_path)\n",
        "val_data = pd.read_csv(val_data_path)\n",
        "test_data = pd.read_csv(test_data_path)"
      ],
      "metadata": {
        "id": "1jNVm8Vohj5U"
      },
      "execution_count": null,
      "outputs": []
    },
    {
      "cell_type": "code",
      "source": [
        "# train data\n",
        "train_data.head(3)"
      ],
      "metadata": {
        "colab": {
          "base_uri": "https://localhost:8080/",
          "height": 143
        },
        "id": "xmzPuFwRhj8M",
        "outputId": "d7ab6411-0ede-45a5-deee-0ecea45411ee"
      },
      "execution_count": null,
      "outputs": [
        {
          "output_type": "execute_result",
          "data": {
            "text/plain": [
              "                                                path  \\\n",
              "0  /content/drive/MyDrive/IC_Evaluation/archive/d...   \n",
              "1  /content/drive/MyDrive/IC_Evaluation/archive/d...   \n",
              "2  /content/drive/MyDrive/IC_Evaluation/archive/d...   \n",
              "\n",
              "                                              resume                category  \\\n",
              "0  supervisor ountant professional summary motiva...              ACCOUNTANT   \n",
              "1  program manager financial manager facilities m...                 BANKING   \n",
              "2  information technology manager summary dedicat...  INFORMATION-TECHNOLOGY   \n",
              "\n",
              "   category_label  \n",
              "0               5  \n",
              "1               7  \n",
              "2              21  "
            ],
            "text/html": [
              "\n",
              "\n",
              "  <div id=\"df-8886e93f-ae8a-4b04-8787-a8852def6401\">\n",
              "    <div class=\"colab-df-container\">\n",
              "      <div>\n",
              "<style scoped>\n",
              "    .dataframe tbody tr th:only-of-type {\n",
              "        vertical-align: middle;\n",
              "    }\n",
              "\n",
              "    .dataframe tbody tr th {\n",
              "        vertical-align: top;\n",
              "    }\n",
              "\n",
              "    .dataframe thead th {\n",
              "        text-align: right;\n",
              "    }\n",
              "</style>\n",
              "<table border=\"1\" class=\"dataframe\">\n",
              "  <thead>\n",
              "    <tr style=\"text-align: right;\">\n",
              "      <th></th>\n",
              "      <th>path</th>\n",
              "      <th>resume</th>\n",
              "      <th>category</th>\n",
              "      <th>category_label</th>\n",
              "    </tr>\n",
              "  </thead>\n",
              "  <tbody>\n",
              "    <tr>\n",
              "      <th>0</th>\n",
              "      <td>/content/drive/MyDrive/IC_Evaluation/archive/d...</td>\n",
              "      <td>supervisor ountant professional summary motiva...</td>\n",
              "      <td>ACCOUNTANT</td>\n",
              "      <td>5</td>\n",
              "    </tr>\n",
              "    <tr>\n",
              "      <th>1</th>\n",
              "      <td>/content/drive/MyDrive/IC_Evaluation/archive/d...</td>\n",
              "      <td>program manager financial manager facilities m...</td>\n",
              "      <td>BANKING</td>\n",
              "      <td>7</td>\n",
              "    </tr>\n",
              "    <tr>\n",
              "      <th>2</th>\n",
              "      <td>/content/drive/MyDrive/IC_Evaluation/archive/d...</td>\n",
              "      <td>information technology manager summary dedicat...</td>\n",
              "      <td>INFORMATION-TECHNOLOGY</td>\n",
              "      <td>21</td>\n",
              "    </tr>\n",
              "  </tbody>\n",
              "</table>\n",
              "</div>\n",
              "      <button class=\"colab-df-convert\" onclick=\"convertToInteractive('df-8886e93f-ae8a-4b04-8787-a8852def6401')\"\n",
              "              title=\"Convert this dataframe to an interactive table.\"\n",
              "              style=\"display:none;\">\n",
              "\n",
              "  <svg xmlns=\"http://www.w3.org/2000/svg\" height=\"24px\"viewBox=\"0 0 24 24\"\n",
              "       width=\"24px\">\n",
              "    <path d=\"M0 0h24v24H0V0z\" fill=\"none\"/>\n",
              "    <path d=\"M18.56 5.44l.94 2.06.94-2.06 2.06-.94-2.06-.94-.94-2.06-.94 2.06-2.06.94zm-11 1L8.5 8.5l.94-2.06 2.06-.94-2.06-.94L8.5 2.5l-.94 2.06-2.06.94zm10 10l.94 2.06.94-2.06 2.06-.94-2.06-.94-.94-2.06-.94 2.06-2.06.94z\"/><path d=\"M17.41 7.96l-1.37-1.37c-.4-.4-.92-.59-1.43-.59-.52 0-1.04.2-1.43.59L10.3 9.45l-7.72 7.72c-.78.78-.78 2.05 0 2.83L4 21.41c.39.39.9.59 1.41.59.51 0 1.02-.2 1.41-.59l7.78-7.78 2.81-2.81c.8-.78.8-2.07 0-2.86zM5.41 20L4 18.59l7.72-7.72 1.47 1.35L5.41 20z\"/>\n",
              "  </svg>\n",
              "      </button>\n",
              "\n",
              "\n",
              "\n",
              "    <div id=\"df-abd31ea5-889d-45dc-af86-38631fe5a751\">\n",
              "      <button class=\"colab-df-quickchart\" onclick=\"quickchart('df-abd31ea5-889d-45dc-af86-38631fe5a751')\"\n",
              "              title=\"Suggest charts.\"\n",
              "              style=\"display:none;\">\n",
              "\n",
              "<svg xmlns=\"http://www.w3.org/2000/svg\" height=\"24px\"viewBox=\"0 0 24 24\"\n",
              "     width=\"24px\">\n",
              "    <g>\n",
              "        <path d=\"M19 3H5c-1.1 0-2 .9-2 2v14c0 1.1.9 2 2 2h14c1.1 0 2-.9 2-2V5c0-1.1-.9-2-2-2zM9 17H7v-7h2v7zm4 0h-2V7h2v10zm4 0h-2v-4h2v4z\"/>\n",
              "    </g>\n",
              "</svg>\n",
              "      </button>\n",
              "    </div>\n",
              "\n",
              "<style>\n",
              "  .colab-df-quickchart {\n",
              "    background-color: #E8F0FE;\n",
              "    border: none;\n",
              "    border-radius: 50%;\n",
              "    cursor: pointer;\n",
              "    display: none;\n",
              "    fill: #1967D2;\n",
              "    height: 32px;\n",
              "    padding: 0 0 0 0;\n",
              "    width: 32px;\n",
              "  }\n",
              "\n",
              "  .colab-df-quickchart:hover {\n",
              "    background-color: #E2EBFA;\n",
              "    box-shadow: 0px 1px 2px rgba(60, 64, 67, 0.3), 0px 1px 3px 1px rgba(60, 64, 67, 0.15);\n",
              "    fill: #174EA6;\n",
              "  }\n",
              "\n",
              "  [theme=dark] .colab-df-quickchart {\n",
              "    background-color: #3B4455;\n",
              "    fill: #D2E3FC;\n",
              "  }\n",
              "\n",
              "  [theme=dark] .colab-df-quickchart:hover {\n",
              "    background-color: #434B5C;\n",
              "    box-shadow: 0px 1px 3px 1px rgba(0, 0, 0, 0.15);\n",
              "    filter: drop-shadow(0px 1px 2px rgba(0, 0, 0, 0.3));\n",
              "    fill: #FFFFFF;\n",
              "  }\n",
              "</style>\n",
              "\n",
              "    <script>\n",
              "      async function quickchart(key) {\n",
              "        const containerElement = document.querySelector('#' + key);\n",
              "        const charts = await google.colab.kernel.invokeFunction(\n",
              "            'suggestCharts', [key], {});\n",
              "      }\n",
              "    </script>\n",
              "\n",
              "      <script>\n",
              "\n",
              "function displayQuickchartButton(domScope) {\n",
              "  let quickchartButtonEl =\n",
              "    domScope.querySelector('#df-abd31ea5-889d-45dc-af86-38631fe5a751 button.colab-df-quickchart');\n",
              "  quickchartButtonEl.style.display =\n",
              "    google.colab.kernel.accessAllowed ? 'block' : 'none';\n",
              "}\n",
              "\n",
              "        displayQuickchartButton(document);\n",
              "      </script>\n",
              "      <style>\n",
              "    .colab-df-container {\n",
              "      display:flex;\n",
              "      flex-wrap:wrap;\n",
              "      gap: 12px;\n",
              "    }\n",
              "\n",
              "    .colab-df-convert {\n",
              "      background-color: #E8F0FE;\n",
              "      border: none;\n",
              "      border-radius: 50%;\n",
              "      cursor: pointer;\n",
              "      display: none;\n",
              "      fill: #1967D2;\n",
              "      height: 32px;\n",
              "      padding: 0 0 0 0;\n",
              "      width: 32px;\n",
              "    }\n",
              "\n",
              "    .colab-df-convert:hover {\n",
              "      background-color: #E2EBFA;\n",
              "      box-shadow: 0px 1px 2px rgba(60, 64, 67, 0.3), 0px 1px 3px 1px rgba(60, 64, 67, 0.15);\n",
              "      fill: #174EA6;\n",
              "    }\n",
              "\n",
              "    [theme=dark] .colab-df-convert {\n",
              "      background-color: #3B4455;\n",
              "      fill: #D2E3FC;\n",
              "    }\n",
              "\n",
              "    [theme=dark] .colab-df-convert:hover {\n",
              "      background-color: #434B5C;\n",
              "      box-shadow: 0px 1px 3px 1px rgba(0, 0, 0, 0.15);\n",
              "      filter: drop-shadow(0px 1px 2px rgba(0, 0, 0, 0.3));\n",
              "      fill: #FFFFFF;\n",
              "    }\n",
              "  </style>\n",
              "\n",
              "      <script>\n",
              "        const buttonEl =\n",
              "          document.querySelector('#df-8886e93f-ae8a-4b04-8787-a8852def6401 button.colab-df-convert');\n",
              "        buttonEl.style.display =\n",
              "          google.colab.kernel.accessAllowed ? 'block' : 'none';\n",
              "\n",
              "        async function convertToInteractive(key) {\n",
              "          const element = document.querySelector('#df-8886e93f-ae8a-4b04-8787-a8852def6401');\n",
              "          const dataTable =\n",
              "            await google.colab.kernel.invokeFunction('convertToInteractive',\n",
              "                                                     [key], {});\n",
              "          if (!dataTable) return;\n",
              "\n",
              "          const docLinkHtml = 'Like what you see? Visit the ' +\n",
              "            '<a target=\"_blank\" href=https://colab.research.google.com/notebooks/data_table.ipynb>data table notebook</a>'\n",
              "            + ' to learn more about interactive tables.';\n",
              "          element.innerHTML = '';\n",
              "          dataTable['output_type'] = 'display_data';\n",
              "          await google.colab.output.renderOutput(dataTable, element);\n",
              "          const docLink = document.createElement('div');\n",
              "          docLink.innerHTML = docLinkHtml;\n",
              "          element.appendChild(docLink);\n",
              "        }\n",
              "      </script>\n",
              "    </div>\n",
              "  </div>\n"
            ]
          },
          "metadata": {},
          "execution_count": 94
        }
      ]
    },
    {
      "cell_type": "code",
      "source": [
        "# discarding rows if there any null values\n",
        "train_data = train_data.dropna()"
      ],
      "metadata": {
        "id": "08Vlo40gneC7"
      },
      "execution_count": null,
      "outputs": []
    },
    {
      "cell_type": "code",
      "source": [
        "train_data.isnull().sum()"
      ],
      "metadata": {
        "colab": {
          "base_uri": "https://localhost:8080/"
        },
        "id": "wVK02geNn6jr",
        "outputId": "f32f5035-8cf1-4884-87e5-83cef342ce20"
      },
      "execution_count": null,
      "outputs": [
        {
          "output_type": "execute_result",
          "data": {
            "text/plain": [
              "path              0\n",
              "resume            0\n",
              "category          0\n",
              "category_label    0\n",
              "dtype: int64"
            ]
          },
          "metadata": {},
          "execution_count": 96
        }
      ]
    },
    {
      "cell_type": "code",
      "source": [
        "# plotting bar chart for train data\n",
        "train_data['category'].value_counts().sort_index().plot(kind='bar',\n",
        "                                                             figsize=(12, 4),\n",
        "                                                             fontsize= 12)\n",
        "plt.title(\"Bar chart for each Resume category in train data\", fontsize= 20)"
      ],
      "metadata": {
        "colab": {
          "base_uri": "https://localhost:8080/",
          "height": 637
        },
        "id": "dW7nFGbEhj_G",
        "outputId": "2acff465-735f-4594-866c-25b9edaf410a"
      },
      "execution_count": null,
      "outputs": [
        {
          "output_type": "execute_result",
          "data": {
            "text/plain": [
              "Text(0.5, 1.0, 'Bar chart for each Resume category in train data')"
            ]
          },
          "metadata": {},
          "execution_count": 97
        },
        {
          "output_type": "display_data",
          "data": {
            "text/plain": [
              "<Figure size 1200x400 with 1 Axes>"
            ],
            "image/png": "[encoded data removed]"
          },
          "metadata": {}
        }
      ]
    },
    {
      "cell_type": "code",
      "source": [
        "# test data head\n",
        "test_data.head(2)"
      ],
      "metadata": {
        "colab": {
          "base_uri": "https://localhost:8080/",
          "height": 112
        },
        "id": "ZXs5KD_RhkB9",
        "outputId": "896989c4-96c0-4364-9e1d-7ed7a9ae19dd"
      },
      "execution_count": null,
      "outputs": [
        {
          "output_type": "execute_result",
          "data": {
            "text/plain": [
              "                                                path  \\\n",
              "0  /content/drive/MyDrive/IC_Evaluation/test/AUTO...   \n",
              "1  /content/drive/MyDrive/IC_Evaluation/test/AUTO...   \n",
              "\n",
              "                                              resume    category  \\\n",
              "0  general liability claim representative summary...  AUTOMOBILE   \n",
              "1  manager summary product manager bringing years...  AUTOMOBILE   \n",
              "\n",
              "   category_label  \n",
              "0               0  \n",
              "1               0  "
            ],
            "text/html": [
              "\n",
              "\n",
              "  <div id=\"df-4fd7f7ab-cde3-4270-8a6d-784ae9313711\">\n",
              "    <div class=\"colab-df-container\">\n",
              "      <div>\n",
              "<style scoped>\n",
              "    .dataframe tbody tr th:only-of-type {\n",
              "        vertical-align: middle;\n",
              "    }\n",
              "\n",
              "    .dataframe tbody tr th {\n",
              "        vertical-align: top;\n",
              "    }\n",
              "\n",
              "    .dataframe thead th {\n",
              "        text-align: right;\n",
              "    }\n",
              "</style>\n",
              "<table border=\"1\" class=\"dataframe\">\n",
              "  <thead>\n",
              "    <tr style=\"text-align: right;\">\n",
              "      <th></th>\n",
              "      <th>path</th>\n",
              "      <th>resume</th>\n",
              "      <th>category</th>\n",
              "      <th>category_label</th>\n",
              "    </tr>\n",
              "  </thead>\n",
              "  <tbody>\n",
              "    <tr>\n",
              "      <th>0</th>\n",
              "      <td>/content/drive/MyDrive/IC_Evaluation/test/AUTO...</td>\n",
              "      <td>general liability claim representative summary...</td>\n",
              "      <td>AUTOMOBILE</td>\n",
              "      <td>0</td>\n",
              "    </tr>\n",
              "    <tr>\n",
              "      <th>1</th>\n",
              "      <td>/content/drive/MyDrive/IC_Evaluation/test/AUTO...</td>\n",
              "      <td>manager summary product manager bringing years...</td>\n",
              "      <td>AUTOMOBILE</td>\n",
              "      <td>0</td>\n",
              "    </tr>\n",
              "  </tbody>\n",
              "</table>\n",
              "</div>\n",
              "      <button class=\"colab-df-convert\" onclick=\"convertToInteractive('df-4fd7f7ab-cde3-4270-8a6d-784ae9313711')\"\n",
              "              title=\"Convert this dataframe to an interactive table.\"\n",
              "              style=\"display:none;\">\n",
              "\n",
              "  <svg xmlns=\"http://www.w3.org/2000/svg\" height=\"24px\"viewBox=\"0 0 24 24\"\n",
              "       width=\"24px\">\n",
              "    <path d=\"M0 0h24v24H0V0z\" fill=\"none\"/>\n",
              "    <path d=\"M18.56 5.44l.94 2.06.94-2.06 2.06-.94-2.06-.94-.94-2.06-.94 2.06-2.06.94zm-11 1L8.5 8.5l.94-2.06 2.06-.94-2.06-.94L8.5 2.5l-.94 2.06-2.06.94zm10 10l.94 2.06.94-2.06 2.06-.94-2.06-.94-.94-2.06-.94 2.06-2.06.94z\"/><path d=\"M17.41 7.96l-1.37-1.37c-.4-.4-.92-.59-1.43-.59-.52 0-1.04.2-1.43.59L10.3 9.45l-7.72 7.72c-.78.78-.78 2.05 0 2.83L4 21.41c.39.39.9.59 1.41.59.51 0 1.02-.2 1.41-.59l7.78-7.78 2.81-2.81c.8-.78.8-2.07 0-2.86zM5.41 20L4 18.59l7.72-7.72 1.47 1.35L5.41 20z\"/>\n",
              "  </svg>\n",
              "      </button>\n",
              "\n",
              "\n",
              "\n",
              "    <div id=\"df-168b4ea0-682f-48a1-b900-833b2ed1458c\">\n",
              "      <button class=\"colab-df-quickchart\" onclick=\"quickchart('df-168b4ea0-682f-48a1-b900-833b2ed1458c')\"\n",
              "              title=\"Suggest charts.\"\n",
              "              style=\"display:none;\">\n",
              "\n",
              "<svg xmlns=\"http://www.w3.org/2000/svg\" height=\"24px\"viewBox=\"0 0 24 24\"\n",
              "     width=\"24px\">\n",
              "    <g>\n",
              "        <path d=\"M19 3H5c-1.1 0-2 .9-2 2v14c0 1.1.9 2 2 2h14c1.1 0 2-.9 2-2V5c0-1.1-.9-2-2-2zM9 17H7v-7h2v7zm4 0h-2V7h2v10zm4 0h-2v-4h2v4z\"/>\n",
              "    </g>\n",
              "</svg>\n",
              "      </button>\n",
              "    </div>\n",
              "\n",
              "<style>\n",
              "  .colab-df-quickchart {\n",
              "    background-color: #E8F0FE;\n",
              "    border: none;\n",
              "    border-radius: 50%;\n",
              "    cursor: pointer;\n",
              "    display: none;\n",
              "    fill: #1967D2;\n",
              "    height: 32px;\n",
              "    padding: 0 0 0 0;\n",
              "    width: 32px;\n",
              "  }\n",
              "\n",
              "  .colab-df-quickchart:hover {\n",
              "    background-color: #E2EBFA;\n",
              "    box-shadow: 0px 1px 2px rgba(60, 64, 67, 0.3), 0px 1px 3px 1px rgba(60, 64, 67, 0.15);\n",
              "    fill: #174EA6;\n",
              "  }\n",
              "\n",
              "  [theme=dark] .colab-df-quickchart {\n",
              "    background-color: #3B4455;\n",
              "    fill: #D2E3FC;\n",
              "  }\n",
              "\n",
              "  [theme=dark] .colab-df-quickchart:hover {\n",
              "    background-color: #434B5C;\n",
              "    box-shadow: 0px 1px 3px 1px rgba(0, 0, 0, 0.15);\n",
              "    filter: drop-shadow(0px 1px 2px rgba(0, 0, 0, 0.3));\n",
              "    fill: #FFFFFF;\n",
              "  }\n",
              "</style>\n",
              "\n",
              "    <script>\n",
              "      async function quickchart(key) {\n",
              "        const containerElement = document.querySelector('#' + key);\n",
              "        const charts = await google.colab.kernel.invokeFunction(\n",
              "            'suggestCharts', [key], {});\n",
              "      }\n",
              "    </script>\n",
              "\n",
              "      <script>\n",
              "\n",
              "function displayQuickchartButton(domScope) {\n",
              "  let quickchartButtonEl =\n",
              "    domScope.querySelector('#df-168b4ea0-682f-48a1-b900-833b2ed1458c button.colab-df-quickchart');\n",
              "  quickchartButtonEl.style.display =\n",
              "    google.colab.kernel.accessAllowed ? 'block' : 'none';\n",
              "}\n",
              "\n",
              "        displayQuickchartButton(document);\n",
              "      </script>\n",
              "      <style>\n",
              "    .colab-df-container {\n",
              "      display:flex;\n",
              "      flex-wrap:wrap;\n",
              "      gap: 12px;\n",
              "    }\n",
              "\n",
              "    .colab-df-convert {\n",
              "      background-color: #E8F0FE;\n",
              "      border: none;\n",
              "      border-radius: 50%;\n",
              "      cursor: pointer;\n",
              "      display: none;\n",
              "      fill: #1967D2;\n",
              "      height: 32px;\n",
              "      padding: 0 0 0 0;\n",
              "      width: 32px;\n",
              "    }\n",
              "\n",
              "    .colab-df-convert:hover {\n",
              "      background-color: #E2EBFA;\n",
              "      box-shadow: 0px 1px 2px rgba(60, 64, 67, 0.3), 0px 1px 3px 1px rgba(60, 64, 67, 0.15);\n",
              "      fill: #174EA6;\n",
              "    }\n",
              "\n",
              "    [theme=dark] .colab-df-convert {\n",
              "      background-color: #3B4455;\n",
              "      fill: #D2E3FC;\n",
              "    }\n",
              "\n",
              "    [theme=dark] .colab-df-convert:hover {\n",
              "      background-color: #434B5C;\n",
              "      box-shadow: 0px 1px 3px 1px rgba(0, 0, 0, 0.15);\n",
              "      filter: drop-shadow(0px 1px 2px rgba(0, 0, 0, 0.3));\n",
              "      fill: #FFFFFF;\n",
              "    }\n",
              "  </style>\n",
              "\n",
              "      <script>\n",
              "        const buttonEl =\n",
              "          document.querySelector('#df-4fd7f7ab-cde3-4270-8a6d-784ae9313711 button.colab-df-convert');\n",
              "        buttonEl.style.display =\n",
              "          google.colab.kernel.accessAllowed ? 'block' : 'none';\n",
              "\n",
              "        async function convertToInteractive(key) {\n",
              "          const element = document.querySelector('#df-4fd7f7ab-cde3-4270-8a6d-784ae9313711');\n",
              "          const dataTable =\n",
              "            await google.colab.kernel.invokeFunction('convertToInteractive',\n",
              "                                                     [key], {});\n",
              "          if (!dataTable) return;\n",
              "\n",
              "          const docLinkHtml = 'Like what you see? Visit the ' +\n",
              "            '<a target=\"_blank\" href=https://colab.research.google.com/notebooks/data_table.ipynb>data table notebook</a>'\n",
              "            + ' to learn more about interactive tables.';\n",
              "          element.innerHTML = '';\n",
              "          dataTable['output_type'] = 'display_data';\n",
              "          await google.colab.output.renderOutput(dataTable, element);\n",
              "          const docLink = document.createElement('div');\n",
              "          docLink.innerHTML = docLinkHtml;\n",
              "          element.appendChild(docLink);\n",
              "        }\n",
              "      </script>\n",
              "    </div>\n",
              "  </div>\n"
            ]
          },
          "metadata": {},
          "execution_count": 98
        }
      ]
    },
    {
      "cell_type": "code",
      "source": [
        "# discarding null values (if any)\n",
        "test_data = test_data.dropna()"
      ],
      "metadata": {
        "id": "Bpgm8tm9odDw"
      },
      "execution_count": null,
      "outputs": []
    },
    {
      "cell_type": "code",
      "source": [
        "test_data.isnull().sum()"
      ],
      "metadata": {
        "colab": {
          "base_uri": "https://localhost:8080/"
        },
        "id": "XblM5jT2omm1",
        "outputId": "56dc5a76-723d-483e-c1e5-28d314bf334e"
      },
      "execution_count": null,
      "outputs": [
        {
          "output_type": "execute_result",
          "data": {
            "text/plain": [
              "path              0\n",
              "resume            0\n",
              "category          0\n",
              "category_label    0\n",
              "dtype: int64"
            ]
          },
          "metadata": {},
          "execution_count": 100
        }
      ]
    },
    {
      "cell_type": "code",
      "source": [
        "# plotting for bar chart for test data\n",
        "test_data['category'].value_counts().sort_index().plot(kind='bar',\n",
        "                                                             figsize=(12, 4),\n",
        "                                                             fontsize= 12)\n",
        "plt.title(\"Bar chart for each Resume category in test data\", fontsize= 20)"
      ],
      "metadata": {
        "colab": {
          "base_uri": "https://localhost:8080/",
          "height": 637
        },
        "id": "TuLyPusihkEs",
        "outputId": "a4cb0726-54df-4eec-eeb3-4e176a8a19fb"
      },
      "execution_count": null,
      "outputs": [
        {
          "output_type": "execute_result",
          "data": {
            "text/plain": [
              "Text(0.5, 1.0, 'Bar chart for each Resume category in test data')"
            ]
          },
          "metadata": {},
          "execution_count": 101
        },
        {
          "output_type": "display_data",
          "data": {
            "text/plain": [
              "<Figure size 1200x400 with 1 Axes>"
            ],
            "image/png": "[encoded data removed]"
          },
          "metadata": {}
        }
      ]
    },
    {
      "cell_type": "code",
      "source": [
        "# for validation data\n",
        "val_data.head(2)"
      ],
      "metadata": {
        "colab": {
          "base_uri": "https://localhost:8080/",
          "height": 112
        },
        "id": "yT7Z7HFAhkHh",
        "outputId": "9aa59a28-0ae2-465d-e1d9-b52b40e6c843"
      },
      "execution_count": null,
      "outputs": [
        {
          "output_type": "execute_result",
          "data": {
            "text/plain": [
              "                                                path  \\\n",
              "0  /content/drive/MyDrive/IC_Evaluation/archive/d...   \n",
              "1  /content/drive/MyDrive/IC_Evaluation/archive/d...   \n",
              "\n",
              "                                              resume  category  category_label  \n",
              "0  customer advocate summary obtain position comp...  ADVOCATE               8  \n",
              "1  co owner executive chef career focus performan...      CHEF              17  "
            ],
            "text/html": [
              "\n",
              "\n",
              "  <div id=\"df-d07bec31-0f30-4f1d-960d-1b66fb529dfc\">\n",
              "    <div class=\"colab-df-container\">\n",
              "      <div>\n",
              "<style scoped>\n",
              "    .dataframe tbody tr th:only-of-type {\n",
              "        vertical-align: middle;\n",
              "    }\n",
              "\n",
              "    .dataframe tbody tr th {\n",
              "        vertical-align: top;\n",
              "    }\n",
              "\n",
              "    .dataframe thead th {\n",
              "        text-align: right;\n",
              "    }\n",
              "</style>\n",
              "<table border=\"1\" class=\"dataframe\">\n",
              "  <thead>\n",
              "    <tr style=\"text-align: right;\">\n",
              "      <th></th>\n",
              "      <th>path</th>\n",
              "      <th>resume</th>\n",
              "      <th>category</th>\n",
              "      <th>category_label</th>\n",
              "    </tr>\n",
              "  </thead>\n",
              "  <tbody>\n",
              "    <tr>\n",
              "      <th>0</th>\n",
              "      <td>/content/drive/MyDrive/IC_Evaluation/archive/d...</td>\n",
              "      <td>customer advocate summary obtain position comp...</td>\n",
              "      <td>ADVOCATE</td>\n",
              "      <td>8</td>\n",
              "    </tr>\n",
              "    <tr>\n",
              "      <th>1</th>\n",
              "      <td>/content/drive/MyDrive/IC_Evaluation/archive/d...</td>\n",
              "      <td>co owner executive chef career focus performan...</td>\n",
              "      <td>CHEF</td>\n",
              "      <td>17</td>\n",
              "    </tr>\n",
              "  </tbody>\n",
              "</table>\n",
              "</div>\n",
              "      <button class=\"colab-df-convert\" onclick=\"convertToInteractive('df-d07bec31-0f30-4f1d-960d-1b66fb529dfc')\"\n",
              "              title=\"Convert this dataframe to an interactive table.\"\n",
              "              style=\"display:none;\">\n",
              "\n",
              "  <svg xmlns=\"http://www.w3.org/2000/svg\" height=\"24px\"viewBox=\"0 0 24 24\"\n",
              "       width=\"24px\">\n",
              "    <path d=\"M0 0h24v24H0V0z\" fill=\"none\"/>\n",
              "    <path d=\"M18.56 5.44l.94 2.06.94-2.06 2.06-.94-2.06-.94-.94-2.06-.94 2.06-2.06.94zm-11 1L8.5 8.5l.94-2.06 2.06-.94-2.06-.94L8.5 2.5l-.94 2.06-2.06.94zm10 10l.94 2.06.94-2.06 2.06-.94-2.06-.94-.94-2.06-.94 2.06-2.06.94z\"/><path d=\"M17.41 7.96l-1.37-1.37c-.4-.4-.92-.59-1.43-.59-.52 0-1.04.2-1.43.59L10.3 9.45l-7.72 7.72c-.78.78-.78 2.05 0 2.83L4 21.41c.39.39.9.59 1.41.59.51 0 1.02-.2 1.41-.59l7.78-7.78 2.81-2.81c.8-.78.8-2.07 0-2.86zM5.41 20L4 18.59l7.72-7.72 1.47 1.35L5.41 20z\"/>\n",
              "  </svg>\n",
              "      </button>\n",
              "\n",
              "\n",
              "\n",
              "    <div id=\"df-d6b461b6-92b4-40e5-a3ff-494b6dd778f8\">\n",
              "      <button class=\"colab-df-quickchart\" onclick=\"quickchart('df-d6b461b6-92b4-40e5-a3ff-494b6dd778f8')\"\n",
              "              title=\"Suggest charts.\"\n",
              "              style=\"display:none;\">\n",
              "\n",
              "<svg xmlns=\"http://www.w3.org/2000/svg\" height=\"24px\"viewBox=\"0 0 24 24\"\n",
              "     width=\"24px\">\n",
              "    <g>\n",
              "        <path d=\"M19 3H5c-1.1 0-2 .9-2 2v14c0 1.1.9 2 2 2h14c1.1 0 2-.9 2-2V5c0-1.1-.9-2-2-2zM9 17H7v-7h2v7zm4 0h-2V7h2v10zm4 0h-2v-4h2v4z\"/>\n",
              "    </g>\n",
              "</svg>\n",
              "      </button>\n",
              "    </div>\n",
              "\n",
              "<style>\n",
              "  .colab-df-quickchart {\n",
              "    background-color: #E8F0FE;\n",
              "    border: none;\n",
              "    border-radius: 50%;\n",
              "    cursor: pointer;\n",
              "    display: none;\n",
              "    fill: #1967D2;\n",
              "    height: 32px;\n",
              "    padding: 0 0 0 0;\n",
              "    width: 32px;\n",
              "  }\n",
              "\n",
              "  .colab-df-quickchart:hover {\n",
              "    background-color: #E2EBFA;\n",
              "    box-shadow: 0px 1px 2px rgba(60, 64, 67, 0.3), 0px 1px 3px 1px rgba(60, 64, 67, 0.15);\n",
              "    fill: #174EA6;\n",
              "  }\n",
              "\n",
              "  [theme=dark] .colab-df-quickchart {\n",
              "    background-color: #3B4455;\n",
              "    fill: #D2E3FC;\n",
              "  }\n",
              "\n",
              "  [theme=dark] .colab-df-quickchart:hover {\n",
              "    background-color: #434B5C;\n",
              "    box-shadow: 0px 1px 3px 1px rgba(0, 0, 0, 0.15);\n",
              "    filter: drop-shadow(0px 1px 2px rgba(0, 0, 0, 0.3));\n",
              "    fill: #FFFFFF;\n",
              "  }\n",
              "</style>\n",
              "\n",
              "    <script>\n",
              "      async function quickchart(key) {\n",
              "        const containerElement = document.querySelector('#' + key);\n",
              "        const charts = await google.colab.kernel.invokeFunction(\n",
              "            'suggestCharts', [key], {});\n",
              "      }\n",
              "    </script>\n",
              "\n",
              "      <script>\n",
              "\n",
              "function displayQuickchartButton(domScope) {\n",
              "  let quickchartButtonEl =\n",
              "    domScope.querySelector('#df-d6b461b6-92b4-40e5-a3ff-494b6dd778f8 button.colab-df-quickchart');\n",
              "  quickchartButtonEl.style.display =\n",
              "    google.colab.kernel.accessAllowed ? 'block' : 'none';\n",
              "}\n",
              "\n",
              "        displayQuickchartButton(document);\n",
              "      </script>\n",
              "      <style>\n",
              "    .colab-df-container {\n",
              "      display:flex;\n",
              "      flex-wrap:wrap;\n",
              "      gap: 12px;\n",
              "    }\n",
              "\n",
              "    .colab-df-convert {\n",
              "      background-color: #E8F0FE;\n",
              "      border: none;\n",
              "      border-radius: 50%;\n",
              "      cursor: pointer;\n",
              "      display: none;\n",
              "      fill: #1967D2;\n",
              "      height: 32px;\n",
              "      padding: 0 0 0 0;\n",
              "      width: 32px;\n",
              "    }\n",
              "\n",
              "    .colab-df-convert:hover {\n",
              "      background-color: #E2EBFA;\n",
              "      box-shadow: 0px 1px 2px rgba(60, 64, 67, 0.3), 0px 1px 3px 1px rgba(60, 64, 67, 0.15);\n",
              "      fill: #174EA6;\n",
              "    }\n",
              "\n",
              "    [theme=dark] .colab-df-convert {\n",
              "      background-color: #3B4455;\n",
              "      fill: #D2E3FC;\n",
              "    }\n",
              "\n",
              "    [theme=dark] .colab-df-convert:hover {\n",
              "      background-color: #434B5C;\n",
              "      box-shadow: 0px 1px 3px 1px rgba(0, 0, 0, 0.15);\n",
              "      filter: drop-shadow(0px 1px 2px rgba(0, 0, 0, 0.3));\n",
              "      fill: #FFFFFF;\n",
              "    }\n",
              "  </style>\n",
              "\n",
              "      <script>\n",
              "        const buttonEl =\n",
              "          document.querySelector('#df-d07bec31-0f30-4f1d-960d-1b66fb529dfc button.colab-df-convert');\n",
              "        buttonEl.style.display =\n",
              "          google.colab.kernel.accessAllowed ? 'block' : 'none';\n",
              "\n",
              "        async function convertToInteractive(key) {\n",
              "          const element = document.querySelector('#df-d07bec31-0f30-4f1d-960d-1b66fb529dfc');\n",
              "          const dataTable =\n",
              "            await google.colab.kernel.invokeFunction('convertToInteractive',\n",
              "                                                     [key], {});\n",
              "          if (!dataTable) return;\n",
              "\n",
              "          const docLinkHtml = 'Like what you see? Visit the ' +\n",
              "            '<a target=\"_blank\" href=https://colab.research.google.com/notebooks/data_table.ipynb>data table notebook</a>'\n",
              "            + ' to learn more about interactive tables.';\n",
              "          element.innerHTML = '';\n",
              "          dataTable['output_type'] = 'display_data';\n",
              "          await google.colab.output.renderOutput(dataTable, element);\n",
              "          const docLink = document.createElement('div');\n",
              "          docLink.innerHTML = docLinkHtml;\n",
              "          element.appendChild(docLink);\n",
              "        }\n",
              "      </script>\n",
              "    </div>\n",
              "  </div>\n"
            ]
          },
          "metadata": {},
          "execution_count": 102
        }
      ]
    },
    {
      "cell_type": "code",
      "source": [
        "# discarding null values (if any)\n",
        "val_data = val_data.dropna()"
      ],
      "metadata": {
        "id": "PpoHDvZgoruj"
      },
      "execution_count": null,
      "outputs": []
    },
    {
      "cell_type": "code",
      "source": [
        "val_data.isnull().sum()"
      ],
      "metadata": {
        "colab": {
          "base_uri": "https://localhost:8080/"
        },
        "id": "xrLsv_DSovhH",
        "outputId": "b4e3cb4e-5881-43a9-e9fe-afe1961ef1c7"
      },
      "execution_count": null,
      "outputs": [
        {
          "output_type": "execute_result",
          "data": {
            "text/plain": [
              "path              0\n",
              "resume            0\n",
              "category          0\n",
              "category_label    0\n",
              "dtype: int64"
            ]
          },
          "metadata": {},
          "execution_count": 104
        }
      ]
    },
    {
      "cell_type": "code",
      "source": [
        "# bar chart for validation data\n",
        "val_data['category'].value_counts().sort_index().plot(kind='bar',\n",
        "                                                             figsize=(12, 4),\n",
        "                                                             fontsize= 12)\n",
        "plt.title(\"Bar chart for each Resume category in validation data\", fontsize= 20)"
      ],
      "metadata": {
        "colab": {
          "base_uri": "https://localhost:8080/",
          "height": 637
        },
        "id": "izSR4Za_hkLC",
        "outputId": "22527af3-f13d-4835-a7f7-270e52824edc"
      },
      "execution_count": null,
      "outputs": [
        {
          "output_type": "execute_result",
          "data": {
            "text/plain": [
              "Text(0.5, 1.0, 'Bar chart for each Resume category in validation data')"
            ]
          },
          "metadata": {},
          "execution_count": 105
        },
        {
          "output_type": "display_data",
          "data": {
            "text/plain": [
              "<Figure size 1200x400 with 1 Axes>"
            ],
            "image/png": "[encoded data removed]"
          },
          "metadata": {}
        }
      ]
    },
    {
      "cell_type": "code",
      "source": [
        "## our defined category-integer mapping\n",
        "labels_dict = {\n",
        "    'AUTOMOBILE': 0,\n",
        "    'AVIATION': 1,\n",
        "    'BUSINESS-DEVELOPMENT': 2,\n",
        "    'APPAREL': 3, 'ARTS': 4,\n",
        "    'ACCOUNTANT': 5,\n",
        "    'BPO': 6,\n",
        "    'BANKING': 7,\n",
        "    'ADVOCATE': 8,\n",
        "    'AGRICULTURE': 9,\n",
        "    'CONSTRUCTION': 10,\n",
        "    'FITNESS': 11,\n",
        "    'CONSULTANT': 12,\n",
        "    'DIGITAL-MEDIA': 13,\n",
        "    'ENGINEERING': 14,\n",
        "    'DESIGNER': 15,\n",
        "    'FINANCE': 16,\n",
        "    'CHEF': 17,\n",
        "    'HR': 18,\n",
        "    'HEALTHCARE': 19,\n",
        "    'PUBLIC-RELATIONS': 20,\n",
        "    'INFORMATION-TECHNOLOGY': 21,\n",
        "    'SALES': 22,\n",
        "    'TEACHER': 23\n",
        "    }"
      ],
      "metadata": {
        "id": "w-YuQ33RkWR8"
      },
      "execution_count": null,
      "outputs": []
    },
    {
      "cell_type": "code",
      "source": [
        "# function to convert all characters in lower case and remove unnecessay characters and words\n",
        "import re\n",
        "import nltk\n",
        "\n",
        "def preprocess_text(txt):\n",
        "    # convert all characters in the string to lower case\n",
        "    txt = txt.lower()\n",
        "    # remove non-english characters, punctuation and numbers\n",
        "    txt = re.sub('[^a-zA-Z]', ' ', txt)\n",
        "    txt = re.sub('http\\S+\\s*', ' ', txt)  # remove URLs\n",
        "    txt = re.sub('RT|cc', ' ', txt)  # remove RT and cc\n",
        "    txt = re.sub('#\\S+', '', txt)  # remove hashtags\n",
        "    txt = re.sub('@\\S+', '  ', txt)  # remove mentions\n",
        "    txt = re.sub('\\s+', ' ', txt)  # remove extra whitespace\n",
        "    # tokenize word\n",
        "    txt = nltk.tokenize.word_tokenize(txt)\n",
        "    # remove stop words\n",
        "    txt = [w for w in txt if not w in nltk.corpus.stopwords.words('english')]\n",
        "\n",
        "    return ' '.join(txt)"
      ],
      "metadata": {
        "id": "BukZTqmVg03E"
      },
      "execution_count": null,
      "outputs": []
    },
    {
      "cell_type": "code",
      "source": [
        "# initializing NLTK resources\n",
        "nltk.download('punkt')\n",
        "nltk.download('wordnet')\n",
        "nltk.download('stopwords')"
      ],
      "metadata": {
        "colab": {
          "base_uri": "https://localhost:8080/"
        },
        "id": "_Ld5ceswhDFc",
        "outputId": "bea96455-4f7b-4d30-a318-ca7509f23f24"
      },
      "execution_count": null,
      "outputs": [
        {
          "output_type": "stream",
          "name": "stderr",
          "text": [
            "[nltk_data] Downloading package punkt to /root/nltk_data...\n",
            "[nltk_data]   Package punkt is already up-to-date!\n",
            "[nltk_data] Downloading package wordnet to /root/nltk_data...\n",
            "[nltk_data]   Package wordnet is already up-to-date!\n",
            "[nltk_data] Downloading package stopwords to /root/nltk_data...\n",
            "[nltk_data]   Package stopwords is already up-to-date!\n"
          ]
        },
        {
          "output_type": "execute_result",
          "data": {
            "text/plain": [
              "True"
            ]
          },
          "metadata": {},
          "execution_count": 108
        }
      ]
    },
    {
      "cell_type": "code",
      "source": [
        "import PyPDF2\n",
        "from nltk.tokenize import word_tokenize, sent_tokenize\n",
        "from nltk import pos_tag"
      ],
      "metadata": {
        "id": "chq13szShFzu"
      },
      "execution_count": null,
      "outputs": []
    },
    {
      "cell_type": "code",
      "source": [
        "# function to extract text from a PDF file\n",
        "def extract_text_from_pdf(pdf_path):\n",
        "    with open(pdf_path, \"rb\") as pdf_file:\n",
        "        pdf_reader = PyPDF2.PdfReader(pdf_file)\n",
        "        text = \"\"\n",
        "        for page in pdf_reader.pages:\n",
        "            text += page.extract_text()\n",
        "    return text"
      ],
      "metadata": {
        "id": "dt3Xo9wChVGK"
      },
      "execution_count": null,
      "outputs": []
    },
    {
      "cell_type": "markdown",
      "source": [
        "### developing and training XGBoost model"
      ],
      "metadata": {
        "id": "jjqwTR5SlOF7"
      }
    },
    {
      "cell_type": "code",
      "source": [
        "# extracting features and splitting into train and test data\n",
        "import pickle\n",
        "\n",
        "from sklearn.feature_extraction.text import TfidfVectorizer\n",
        "from scipy.sparse import hstack\n",
        "\n",
        "# defining train, validation, test features and lables\n",
        "train_resume = train_data['resume'].values\n",
        "train_y = train_data['category_label'].values\n",
        "\n",
        "val_resume = val_data['resume'].values\n",
        "val_y = val_data['category_label'].values\n",
        "\n",
        "test_resume = test_data['resume'].values\n",
        "test_y = test_data['category_label'].values\n",
        "\n",
        "# vectorizing resume texts\n",
        "word_vectorizer = TfidfVectorizer(\n",
        "    sublinear_tf=True,\n",
        "    stop_words='english')\n",
        "\n",
        "word_vectorizer.fit(train_resume)\n",
        "\n",
        "train_x = word_vectorizer.transform(train_resume)\n",
        "val_x = word_vectorizer.transform(val_resume)\n",
        "test_x = word_vectorizer.transform(test_resume)\n",
        "\n",
        "# saving the feature extractor for further usage\n",
        "pickle_out_word_vectorizer = open(\"/content/drive/MyDrive/IC_Evaluation/fe_xgb_tfid\", \"wb\")\n",
        "pickle.dump(word_vectorizer, pickle_out_word_vectorizer)\n",
        "pickle_out_word_vectorizer.close()\n",
        "\n",
        "print (\"Feature extraction completed.....!\")"
      ],
      "metadata": {
        "colab": {
          "base_uri": "https://localhost:8080/"
        },
        "id": "TPYE0gK1hXuu",
        "outputId": "f5a1c6e9-6891-4862-ac86-00ea927b045d"
      },
      "execution_count": null,
      "outputs": [
        {
          "output_type": "stream",
          "name": "stdout",
          "text": [
            "Feature extraction completed.....!\n"
          ]
        }
      ]
    },
    {
      "cell_type": "code",
      "source": [
        "print(f\"train data shape after feature extraction: {train_x.shape}\")\n",
        "print(f\"validation data shape after feature extraction: {val_x.shape}\")\n",
        "print(f\"test data shape after feature extraction: {test_x.shape}\")"
      ],
      "metadata": {
        "colab": {
          "base_uri": "https://localhost:8080/"
        },
        "id": "6KUFpEp0l-sN",
        "outputId": "f62c59e2-e6c0-4c64-ae63-20901d14741d"
      },
      "execution_count": null,
      "outputs": [
        {
          "output_type": "stream",
          "name": "stdout",
          "text": [
            "train data shape after feature extraction: (1772, 32008)\n",
            "validation data shape after feature extraction: (444, 32008)\n",
            "test data shape after feature extraction: (277, 32008)\n"
          ]
        }
      ]
    },
    {
      "cell_type": "code",
      "source": [
        "from sklearn import metrics\n",
        "from sklearn.metrics import accuracy_score\n",
        "from sklearn.metrics import roc_auc_score\n",
        "from sklearn.metrics import matthews_corrcoef\n",
        "import xgboost as xgb\n",
        "from imblearn.metrics import specificity_score\n",
        "from sklearn.metrics import classification_report"
      ],
      "metadata": {
        "id": "iDtVBOzUl_Ow"
      },
      "execution_count": null,
      "outputs": []
    },
    {
      "cell_type": "code",
      "source": [
        "xgb_model = xgb.XGBClassifier()\n",
        "\n",
        "# fit to the model\n",
        "xgb_model.fit(train_x, train_y)\n",
        "\n",
        "# train accuracy\n",
        "tr_score = xgb_model.score(train_x, train_y)\n",
        "print(f\"Training score of XGBoost: {100*tr_score:.2f}%\")\n",
        "\n",
        "# prediction for test data\n",
        "prediction = xgb_model.predict(val_x)\n",
        "\n",
        "# accuracy\n",
        "acc = metrics.accuracy_score(val_y, prediction)\n",
        "print(f\"Accuracy: {100*acc:.2f}%\")\n",
        "# ROC-AUC\n",
        "roc_auc = roc_auc_score(val_y, xgb_model.predict_proba(val_x),  multi_class=\"ovr\")\n",
        "print(\"ROC-AUC score is: \", round(100*roc_auc, 2), \"%\")\n",
        "\n",
        "# Matthew's coefficent\n",
        "mcc = matthews_corrcoef(val_y, prediction)\n",
        "print(\"The Matthews correlation coefficinet (MCC) is: \", round(100*mcc, 2), \"%\")\n",
        "\n",
        "# specificity\n",
        "sp = specificity_score(val_y, prediction, average='weighted')\n",
        "print(f\"Weighted specificity: {100*sp:.2f}%\")\n",
        "\n",
        "# classification reports\n",
        "print(classification_report(val_y, prediction))"
      ],
      "metadata": {
        "colab": {
          "base_uri": "https://localhost:8080/"
        },
        "id": "KLyBQ4B_p6Az",
        "outputId": "b5b4301e-f5c5-445b-a9b3-271d71d166c3"
      },
      "execution_count": null,
      "outputs": [
        {
          "output_type": "stream",
          "name": "stdout",
          "text": [
            "Training score of XGBoost: 100.00%\n",
            "Accuracy: 73.87%\n",
            "ROC-AUC score is:  97.42 %\n",
            "The Matthews correlation coefficinet (MCC) is:  72.71 %\n",
            "Weighted specificity: 98.83%\n",
            "              precision    recall  f1-score   support\n",
            "\n",
            "           0       0.17      0.20      0.18         5\n",
            "           1       0.61      0.82      0.70        17\n",
            "           2       0.62      0.84      0.71        19\n",
            "           3       0.67      0.50      0.57        16\n",
            "           4       0.63      0.71      0.67        17\n",
            "           5       0.87      0.76      0.81        17\n",
            "           6       0.67      0.50      0.57         4\n",
            "           7       0.75      0.50      0.60        30\n",
            "           8       0.88      0.75      0.81        20\n",
            "           9       0.60      0.46      0.52        13\n",
            "          10       0.76      0.87      0.81        15\n",
            "          11       0.94      0.80      0.86        20\n",
            "          12       0.62      0.62      0.62        16\n",
            "          13       0.76      0.72      0.74        18\n",
            "          14       0.84      0.78      0.81        27\n",
            "          15       0.81      0.91      0.86        23\n",
            "          16       0.59      0.83      0.69        23\n",
            "          17       0.91      0.87      0.89        23\n",
            "          18       0.81      0.89      0.85        19\n",
            "          19       0.67      0.70      0.68        20\n",
            "          20       0.85      0.71      0.77        24\n",
            "          21       0.83      0.91      0.87        22\n",
            "          22       0.67      0.60      0.63        20\n",
            "          23       0.76      0.81      0.79        16\n",
            "\n",
            "    accuracy                           0.74       444\n",
            "   macro avg       0.72      0.71      0.71       444\n",
            "weighted avg       0.75      0.74      0.74       444\n",
            "\n"
          ]
        }
      ]
    },
    {
      "cell_type": "markdown",
      "source": [
        "### applying feature selection"
      ],
      "metadata": {
        "id": "oc1H300RRD5R"
      }
    },
    {
      "cell_type": "code",
      "source": [
        "## applying feature selection\n",
        "from sklearn.feature_selection import SelectKBest\n",
        "from sklearn.feature_selection import chi2\n",
        "\n",
        "chi2_features = SelectKBest(chi2, k = int((train_x.shape[1]*60)/100))"
      ],
      "metadata": {
        "id": "4sUPHCrlq7uq"
      },
      "execution_count": null,
      "outputs": []
    },
    {
      "cell_type": "code",
      "source": [
        "chi2_features.fit(train_x, train_y)\n",
        "train_x_s = chi2_features.transform(train_x)\n",
        "val_x_s = chi2_features.transform(val_x)\n",
        "\n",
        "print(train_x_s.shape)\n",
        "print(val_x_s.shape)"
      ],
      "metadata": {
        "colab": {
          "base_uri": "https://localhost:8080/"
        },
        "id": "Hs7NwGsCr2Ns",
        "outputId": "acf994e2-26ad-49f0-9f29-5380cd1605e2"
      },
      "execution_count": null,
      "outputs": [
        {
          "output_type": "stream",
          "name": "stdout",
          "text": [
            "(1772, 19204)\n",
            "(444, 19204)\n"
          ]
        }
      ]
    },
    {
      "cell_type": "code",
      "source": [
        "# save feature selector\n",
        "# saving the feature extractor for further usage\n",
        "pickle_out_ft_selector = open(\"/content/drive/MyDrive/IC_Evaluation/ft_selection_xgb_tfid\", \"wb\")\n",
        "pickle.dump(chi2_features, pickle_out_ft_selector)\n",
        "pickle_out_ft_selector.close()"
      ],
      "metadata": {
        "id": "13b6FOpJu7hn"
      },
      "execution_count": null,
      "outputs": []
    },
    {
      "cell_type": "code",
      "source": [
        "xgb_model = xgb.XGBClassifier()\n",
        "\n",
        "# fit to the model\n",
        "xgb_model.fit(train_x_s, train_y)\n",
        "\n",
        "# train accuracy\n",
        "tr_score = xgb_model.score(train_x_s, train_y)\n",
        "print(f\"Training score of XGBoost: {100*tr_score:.2f}%\")\n",
        "\n",
        "# prediction for test data\n",
        "prediction = xgb_model.predict(val_x_s)\n",
        "\n",
        "# accuracy\n",
        "acc = metrics.accuracy_score(val_y, prediction)\n",
        "print(f\"Accuracy: {100*acc:.2f}%\")\n",
        "# ROC-AUC\n",
        "roc_auc = roc_auc_score(val_y, xgb_model.predict_proba(val_x_s),  multi_class=\"ovr\")\n",
        "print(\"ROC-AUC score is: \", round(100*roc_auc, 2), \"%\")\n",
        "\n",
        "# Matthew's coefficent\n",
        "mcc = matthews_corrcoef(val_y, prediction)\n",
        "print(\"The Matthews correlation coefficinet (MCC) is: \", round(100*mcc, 2), \"%\")\n",
        "\n",
        "# specificity\n",
        "sp = specificity_score(val_y, prediction, average='weighted')\n",
        "print(f\"Weighted specificity: {100*sp:.2f}%\")\n",
        "\n",
        "# classification reports\n",
        "print(classification_report(val_y, prediction))"
      ],
      "metadata": {
        "colab": {
          "base_uri": "https://localhost:8080/"
        },
        "id": "NA8mi-ZpscSN",
        "outputId": "92d557fe-7cb9-4ff6-d10f-93a1d0f30c0e"
      },
      "execution_count": null,
      "outputs": [
        {
          "output_type": "stream",
          "name": "stdout",
          "text": [
            "Training score of XGBoost: 100.00%\n",
            "Accuracy: 76.58%\n",
            "ROC-AUC score is:  97.51 %\n",
            "The Matthews correlation coefficinet (MCC) is:  75.53 %\n",
            "Weighted specificity: 98.93%\n",
            "              precision    recall  f1-score   support\n",
            "\n",
            "           0       0.20      0.20      0.20         5\n",
            "           1       0.67      0.82      0.74        17\n",
            "           2       0.68      0.89      0.77        19\n",
            "           3       0.73      0.50      0.59        16\n",
            "           4       0.57      0.71      0.63        17\n",
            "           5       0.94      0.88      0.91        17\n",
            "           6       1.00      0.50      0.67         4\n",
            "           7       0.86      0.60      0.71        30\n",
            "           8       0.89      0.80      0.84        20\n",
            "           9       0.60      0.46      0.52        13\n",
            "          10       0.87      0.87      0.87        15\n",
            "          11       0.94      0.85      0.89        20\n",
            "          12       0.67      0.50      0.57        16\n",
            "          13       0.86      0.67      0.75        18\n",
            "          14       0.89      0.89      0.89        27\n",
            "          15       0.85      0.96      0.90        23\n",
            "          16       0.59      0.83      0.69        23\n",
            "          17       0.81      0.96      0.88        23\n",
            "          18       0.80      0.84      0.82        19\n",
            "          19       0.65      0.75      0.70        20\n",
            "          20       0.89      0.67      0.76        24\n",
            "          21       0.80      0.91      0.85        22\n",
            "          22       0.71      0.75      0.73        20\n",
            "          23       0.75      0.75      0.75        16\n",
            "\n",
            "    accuracy                           0.77       444\n",
            "   macro avg       0.76      0.73      0.73       444\n",
            "weighted avg       0.78      0.77      0.76       444\n",
            "\n"
          ]
        }
      ]
    },
    {
      "cell_type": "markdown",
      "source": [
        "### tuning after feature selection"
      ],
      "metadata": {
        "id": "gudOoAmNRJv9"
      }
    },
    {
      "cell_type": "code",
      "source": [
        "# with our final model\n",
        "\n",
        "model = xgb.XGBClassifier(\n",
        "      learning_rate=0.01,\n",
        "      colsample_bytree=0.8,\n",
        "      subsample=0.8,\n",
        "      objective='multi:softmax',\n",
        "      n_estimators=200,\n",
        "      reg_alpha=0.8,\n",
        "      max_depth=11,\n",
        "      gamma=9\n",
        "  )\n",
        "\n",
        "eval_set = [(train_x_s, train_y), (val_x_s, val_y)]\n",
        "eval_metric = [\"merror\", \"mlogloss\"]  # Multi-class evaluation metrics\n",
        "\n",
        "%time model.fit(train_x_s, train_y, eval_metric=eval_metric, eval_set=eval_set, verbose=True)"
      ],
      "metadata": {
        "colab": {
          "base_uri": "https://localhost:8080/",
          "height": 1000
        },
        "id": "_iOWOE4Xsxsf",
        "outputId": "9f62aa2b-ccfa-47dd-cd71-ab10f5e3440a"
      },
      "execution_count": null,
      "outputs": [
        {
          "output_type": "stream",
          "name": "stdout",
          "text": [
            "[0]\tvalidation_0-merror:0.27257\tvalidation_0-mlogloss:3.12465\tvalidation_1-merror:0.34910\tvalidation_1-mlogloss:3.13038\n",
            "[1]\tvalidation_0-merror:0.23251\tvalidation_0-mlogloss:3.07464\tvalidation_1-merror:0.31757\tvalidation_1-mlogloss:3.08609\n",
            "[2]\tvalidation_0-merror:0.20542\tvalidation_0-mlogloss:3.03115\tvalidation_1-merror:0.30631\tvalidation_1-mlogloss:3.04809\n",
            "[3]\tvalidation_0-merror:0.19865\tvalidation_0-mlogloss:2.98826\tvalidation_1-merror:0.28604\tvalidation_1-mlogloss:3.00908\n",
            "[4]\tvalidation_0-merror:0.19752\tvalidation_0-mlogloss:2.94541\tvalidation_1-merror:0.27477\tvalidation_1-mlogloss:2.97044\n",
            "[5]\tvalidation_0-merror:0.18962\tvalidation_0-mlogloss:2.90401\tvalidation_1-merror:0.27477\tvalidation_1-mlogloss:2.93250\n",
            "[6]\tvalidation_0-merror:0.18059\tvalidation_0-mlogloss:2.86526\tvalidation_1-merror:0.26577\tvalidation_1-mlogloss:2.89805\n",
            "[7]\tvalidation_0-merror:0.17720\tvalidation_0-mlogloss:2.82802\tvalidation_1-merror:0.27252\tvalidation_1-mlogloss:2.86404\n",
            "[8]\tvalidation_0-merror:0.17551\tvalidation_0-mlogloss:2.79518\tvalidation_1-merror:0.25901\tvalidation_1-mlogloss:2.83466\n",
            "[9]\tvalidation_0-merror:0.17156\tvalidation_0-mlogloss:2.76214\tvalidation_1-merror:0.25450\tvalidation_1-mlogloss:2.80559\n",
            "[10]\tvalidation_0-merror:0.16930\tvalidation_0-mlogloss:2.73077\tvalidation_1-merror:0.24775\tvalidation_1-mlogloss:2.77826\n",
            "[11]\tvalidation_0-merror:0.16874\tvalidation_0-mlogloss:2.69698\tvalidation_1-merror:0.24550\tvalidation_1-mlogloss:2.74759\n",
            "[12]\tvalidation_0-merror:0.16479\tvalidation_0-mlogloss:2.66647\tvalidation_1-merror:0.24775\tvalidation_1-mlogloss:2.72060\n",
            "[13]\tvalidation_0-merror:0.16648\tvalidation_0-mlogloss:2.63467\tvalidation_1-merror:0.24775\tvalidation_1-mlogloss:2.69398\n",
            "[14]\tvalidation_0-merror:0.16309\tvalidation_0-mlogloss:2.60487\tvalidation_1-merror:0.25450\tvalidation_1-mlogloss:2.66712\n",
            "[15]\tvalidation_0-merror:0.15971\tvalidation_0-mlogloss:2.57790\tvalidation_1-merror:0.25450\tvalidation_1-mlogloss:2.64392\n",
            "[16]\tvalidation_0-merror:0.15801\tvalidation_0-mlogloss:2.54878\tvalidation_1-merror:0.25225\tvalidation_1-mlogloss:2.61908\n",
            "[17]\tvalidation_0-merror:0.15632\tvalidation_0-mlogloss:2.52075\tvalidation_1-merror:0.25225\tvalidation_1-mlogloss:2.59321\n",
            "[18]\tvalidation_0-merror:0.15801\tvalidation_0-mlogloss:2.49259\tvalidation_1-merror:0.25000\tvalidation_1-mlogloss:2.56926\n",
            "[19]\tvalidation_0-merror:0.15632\tvalidation_0-mlogloss:2.46815\tvalidation_1-merror:0.25676\tvalidation_1-mlogloss:2.54779\n",
            "[20]\tvalidation_0-merror:0.15801\tvalidation_0-mlogloss:2.44265\tvalidation_1-merror:0.25676\tvalidation_1-mlogloss:2.52529\n",
            "[21]\tvalidation_0-merror:0.15632\tvalidation_0-mlogloss:2.41946\tvalidation_1-merror:0.25225\tvalidation_1-mlogloss:2.50581\n",
            "[22]\tvalidation_0-merror:0.15406\tvalidation_0-mlogloss:2.39521\tvalidation_1-merror:0.25450\tvalidation_1-mlogloss:2.48392\n",
            "[23]\tvalidation_0-merror:0.15745\tvalidation_0-mlogloss:2.37168\tvalidation_1-merror:0.24775\tvalidation_1-mlogloss:2.46217\n",
            "[24]\tvalidation_0-merror:0.15632\tvalidation_0-mlogloss:2.34903\tvalidation_1-merror:0.25676\tvalidation_1-mlogloss:2.44077\n",
            "[25]\tvalidation_0-merror:0.15688\tvalidation_0-mlogloss:2.32604\tvalidation_1-merror:0.25225\tvalidation_1-mlogloss:2.42000\n",
            "[26]\tvalidation_0-merror:0.15688\tvalidation_0-mlogloss:2.30423\tvalidation_1-merror:0.25225\tvalidation_1-mlogloss:2.40101\n",
            "[27]\tvalidation_0-merror:0.15688\tvalidation_0-mlogloss:2.28326\tvalidation_1-merror:0.25225\tvalidation_1-mlogloss:2.38158\n",
            "[28]\tvalidation_0-merror:0.15858\tvalidation_0-mlogloss:2.26312\tvalidation_1-merror:0.25225\tvalidation_1-mlogloss:2.36435\n",
            "[29]\tvalidation_0-merror:0.16084\tvalidation_0-mlogloss:2.24281\tvalidation_1-merror:0.25000\tvalidation_1-mlogloss:2.34643\n",
            "[30]\tvalidation_0-merror:0.15971\tvalidation_0-mlogloss:2.22350\tvalidation_1-merror:0.24775\tvalidation_1-mlogloss:2.32949\n",
            "[31]\tvalidation_0-merror:0.16084\tvalidation_0-mlogloss:2.20509\tvalidation_1-merror:0.24550\tvalidation_1-mlogloss:2.31248\n",
            "[32]\tvalidation_0-merror:0.16196\tvalidation_0-mlogloss:2.18744\tvalidation_1-merror:0.24775\tvalidation_1-mlogloss:2.29650\n",
            "[33]\tvalidation_0-merror:0.15801\tvalidation_0-mlogloss:2.17087\tvalidation_1-merror:0.24775\tvalidation_1-mlogloss:2.28155\n",
            "[34]\tvalidation_0-merror:0.15914\tvalidation_0-mlogloss:2.15226\tvalidation_1-merror:0.25000\tvalidation_1-mlogloss:2.26476\n",
            "[35]\tvalidation_0-merror:0.15914\tvalidation_0-mlogloss:2.13555\tvalidation_1-merror:0.25225\tvalidation_1-mlogloss:2.24985\n",
            "[36]\tvalidation_0-merror:0.15801\tvalidation_0-mlogloss:2.11851\tvalidation_1-merror:0.25225\tvalidation_1-mlogloss:2.23401\n",
            "[37]\tvalidation_0-merror:0.15801\tvalidation_0-mlogloss:2.10252\tvalidation_1-merror:0.25225\tvalidation_1-mlogloss:2.21933\n",
            "[38]\tvalidation_0-merror:0.15971\tvalidation_0-mlogloss:2.08681\tvalidation_1-merror:0.25225\tvalidation_1-mlogloss:2.20461\n",
            "[39]\tvalidation_0-merror:0.16084\tvalidation_0-mlogloss:2.07120\tvalidation_1-merror:0.25225\tvalidation_1-mlogloss:2.19017\n",
            "[40]\tvalidation_0-merror:0.16140\tvalidation_0-mlogloss:2.05502\tvalidation_1-merror:0.24775\tvalidation_1-mlogloss:2.17524\n",
            "[41]\tvalidation_0-merror:0.16140\tvalidation_0-mlogloss:2.04007\tvalidation_1-merror:0.24775\tvalidation_1-mlogloss:2.16172\n",
            "[42]\tvalidation_0-merror:0.16196\tvalidation_0-mlogloss:2.02549\tvalidation_1-merror:0.25000\tvalidation_1-mlogloss:2.14811\n",
            "[43]\tvalidation_0-merror:0.16084\tvalidation_0-mlogloss:2.01016\tvalidation_1-merror:0.25000\tvalidation_1-mlogloss:2.13439\n",
            "[44]\tvalidation_0-merror:0.15971\tvalidation_0-mlogloss:1.99647\tvalidation_1-merror:0.24775\tvalidation_1-mlogloss:2.12154\n",
            "[45]\tvalidation_0-merror:0.15971\tvalidation_0-mlogloss:1.98247\tvalidation_1-merror:0.24775\tvalidation_1-mlogloss:2.10828\n",
            "[46]\tvalidation_0-merror:0.15971\tvalidation_0-mlogloss:1.96869\tvalidation_1-merror:0.24550\tvalidation_1-mlogloss:2.09532\n",
            "[47]\tvalidation_0-merror:0.16027\tvalidation_0-mlogloss:1.95526\tvalidation_1-merror:0.24550\tvalidation_1-mlogloss:2.08285\n",
            "[48]\tvalidation_0-merror:0.16196\tvalidation_0-mlogloss:1.94274\tvalidation_1-merror:0.24324\tvalidation_1-mlogloss:2.07058\n",
            "[49]\tvalidation_0-merror:0.16084\tvalidation_0-mlogloss:1.93046\tvalidation_1-merror:0.24550\tvalidation_1-mlogloss:2.05895\n",
            "[50]\tvalidation_0-merror:0.16309\tvalidation_0-mlogloss:1.91772\tvalidation_1-merror:0.24550\tvalidation_1-mlogloss:2.04610\n",
            "[51]\tvalidation_0-merror:0.16253\tvalidation_0-mlogloss:1.90549\tvalidation_1-merror:0.24775\tvalidation_1-mlogloss:2.03404\n",
            "[52]\tvalidation_0-merror:0.16366\tvalidation_0-mlogloss:1.89334\tvalidation_1-merror:0.25000\tvalidation_1-mlogloss:2.02207\n",
            "[53]\tvalidation_0-merror:0.16309\tvalidation_0-mlogloss:1.88104\tvalidation_1-merror:0.24775\tvalidation_1-mlogloss:2.00957\n",
            "[54]\tvalidation_0-merror:0.16366\tvalidation_0-mlogloss:1.87058\tvalidation_1-merror:0.25000\tvalidation_1-mlogloss:1.99902\n",
            "[55]\tvalidation_0-merror:0.16140\tvalidation_0-mlogloss:1.85925\tvalidation_1-merror:0.25000\tvalidation_1-mlogloss:1.98886\n",
            "[56]\tvalidation_0-merror:0.16309\tvalidation_0-mlogloss:1.84719\tvalidation_1-merror:0.25000\tvalidation_1-mlogloss:1.97674\n",
            "[57]\tvalidation_0-merror:0.16422\tvalidation_0-mlogloss:1.83611\tvalidation_1-merror:0.24775\tvalidation_1-mlogloss:1.96556\n",
            "[58]\tvalidation_0-merror:0.16422\tvalidation_0-mlogloss:1.82468\tvalidation_1-merror:0.24775\tvalidation_1-mlogloss:1.95439\n",
            "[59]\tvalidation_0-merror:0.16309\tvalidation_0-mlogloss:1.81429\tvalidation_1-merror:0.24775\tvalidation_1-mlogloss:1.94409\n",
            "[60]\tvalidation_0-merror:0.16309\tvalidation_0-mlogloss:1.80423\tvalidation_1-merror:0.25225\tvalidation_1-mlogloss:1.93406\n",
            "[61]\tvalidation_0-merror:0.16366\tvalidation_0-mlogloss:1.79421\tvalidation_1-merror:0.25225\tvalidation_1-mlogloss:1.92399\n",
            "[62]\tvalidation_0-merror:0.16535\tvalidation_0-mlogloss:1.78452\tvalidation_1-merror:0.25450\tvalidation_1-mlogloss:1.91423\n",
            "[63]\tvalidation_0-merror:0.16479\tvalidation_0-mlogloss:1.77541\tvalidation_1-merror:0.25676\tvalidation_1-mlogloss:1.90499\n",
            "[64]\tvalidation_0-merror:0.16309\tvalidation_0-mlogloss:1.76578\tvalidation_1-merror:0.25450\tvalidation_1-mlogloss:1.89588\n",
            "[65]\tvalidation_0-merror:0.16422\tvalidation_0-mlogloss:1.75642\tvalidation_1-merror:0.25225\tvalidation_1-mlogloss:1.88674\n",
            "[66]\tvalidation_0-merror:0.16479\tvalidation_0-mlogloss:1.74732\tvalidation_1-merror:0.25450\tvalidation_1-mlogloss:1.87761\n",
            "[67]\tvalidation_0-merror:0.16591\tvalidation_0-mlogloss:1.73803\tvalidation_1-merror:0.25000\tvalidation_1-mlogloss:1.86892\n",
            "[68]\tvalidation_0-merror:0.16591\tvalidation_0-mlogloss:1.72944\tvalidation_1-merror:0.25225\tvalidation_1-mlogloss:1.86048\n",
            "[69]\tvalidation_0-merror:0.16535\tvalidation_0-mlogloss:1.71979\tvalidation_1-merror:0.25000\tvalidation_1-mlogloss:1.85101\n",
            "[70]\tvalidation_0-merror:0.16422\tvalidation_0-mlogloss:1.71071\tvalidation_1-merror:0.25225\tvalidation_1-mlogloss:1.84204\n",
            "[71]\tvalidation_0-merror:0.16535\tvalidation_0-mlogloss:1.70165\tvalidation_1-merror:0.25225\tvalidation_1-mlogloss:1.83321\n",
            "[72]\tvalidation_0-merror:0.16479\tvalidation_0-mlogloss:1.69285\tvalidation_1-merror:0.25225\tvalidation_1-mlogloss:1.82440\n",
            "[73]\tvalidation_0-merror:0.16704\tvalidation_0-mlogloss:1.68437\tvalidation_1-merror:0.25000\tvalidation_1-mlogloss:1.81603\n",
            "[74]\tvalidation_0-merror:0.16591\tvalidation_0-mlogloss:1.67612\tvalidation_1-merror:0.25225\tvalidation_1-mlogloss:1.80794\n",
            "[75]\tvalidation_0-merror:0.16591\tvalidation_0-mlogloss:1.66743\tvalidation_1-merror:0.25000\tvalidation_1-mlogloss:1.79933\n",
            "[76]\tvalidation_0-merror:0.16648\tvalidation_0-mlogloss:1.65844\tvalidation_1-merror:0.25000\tvalidation_1-mlogloss:1.79016\n",
            "[77]\tvalidation_0-merror:0.16704\tvalidation_0-mlogloss:1.65043\tvalidation_1-merror:0.25000\tvalidation_1-mlogloss:1.78227\n",
            "[78]\tvalidation_0-merror:0.16591\tvalidation_0-mlogloss:1.64286\tvalidation_1-merror:0.25225\tvalidation_1-mlogloss:1.77479\n",
            "[79]\tvalidation_0-merror:0.16479\tvalidation_0-mlogloss:1.63564\tvalidation_1-merror:0.25000\tvalidation_1-mlogloss:1.76800\n",
            "[80]\tvalidation_0-merror:0.16535\tvalidation_0-mlogloss:1.62845\tvalidation_1-merror:0.24775\tvalidation_1-mlogloss:1.76090\n",
            "[81]\tvalidation_0-merror:0.16591\tvalidation_0-mlogloss:1.62040\tvalidation_1-merror:0.24775\tvalidation_1-mlogloss:1.75266\n",
            "[82]\tvalidation_0-merror:0.16648\tvalidation_0-mlogloss:1.61242\tvalidation_1-merror:0.24775\tvalidation_1-mlogloss:1.74481\n",
            "[83]\tvalidation_0-merror:0.16591\tvalidation_0-mlogloss:1.60431\tvalidation_1-merror:0.24550\tvalidation_1-mlogloss:1.73695\n",
            "[84]\tvalidation_0-merror:0.16535\tvalidation_0-mlogloss:1.59665\tvalidation_1-merror:0.24775\tvalidation_1-mlogloss:1.72921\n",
            "[85]\tvalidation_0-merror:0.16422\tvalidation_0-mlogloss:1.58917\tvalidation_1-merror:0.24775\tvalidation_1-mlogloss:1.72180\n",
            "[86]\tvalidation_0-merror:0.16479\tvalidation_0-mlogloss:1.58203\tvalidation_1-merror:0.24775\tvalidation_1-mlogloss:1.71444\n",
            "[87]\tvalidation_0-merror:0.16422\tvalidation_0-mlogloss:1.57533\tvalidation_1-merror:0.24775\tvalidation_1-mlogloss:1.70769\n",
            "[88]\tvalidation_0-merror:0.16479\tvalidation_0-mlogloss:1.56850\tvalidation_1-merror:0.24550\tvalidation_1-mlogloss:1.70098\n",
            "[89]\tvalidation_0-merror:0.16704\tvalidation_0-mlogloss:1.56152\tvalidation_1-merror:0.24550\tvalidation_1-mlogloss:1.69406\n",
            "[90]\tvalidation_0-merror:0.16874\tvalidation_0-mlogloss:1.55463\tvalidation_1-merror:0.24550\tvalidation_1-mlogloss:1.68721\n",
            "[91]\tvalidation_0-merror:0.16874\tvalidation_0-mlogloss:1.54737\tvalidation_1-merror:0.24775\tvalidation_1-mlogloss:1.68015\n",
            "[92]\tvalidation_0-merror:0.16817\tvalidation_0-mlogloss:1.54010\tvalidation_1-merror:0.24550\tvalidation_1-mlogloss:1.67306\n",
            "[93]\tvalidation_0-merror:0.16817\tvalidation_0-mlogloss:1.53297\tvalidation_1-merror:0.24550\tvalidation_1-mlogloss:1.66594\n",
            "[94]\tvalidation_0-merror:0.16817\tvalidation_0-mlogloss:1.52653\tvalidation_1-merror:0.24550\tvalidation_1-mlogloss:1.65962\n",
            "[95]\tvalidation_0-merror:0.16874\tvalidation_0-mlogloss:1.52018\tvalidation_1-merror:0.24550\tvalidation_1-mlogloss:1.65277\n",
            "[96]\tvalidation_0-merror:0.16874\tvalidation_0-mlogloss:1.51385\tvalidation_1-merror:0.24550\tvalidation_1-mlogloss:1.64639\n",
            "[97]\tvalidation_0-merror:0.16874\tvalidation_0-mlogloss:1.50714\tvalidation_1-merror:0.24550\tvalidation_1-mlogloss:1.63967\n",
            "[98]\tvalidation_0-merror:0.16930\tvalidation_0-mlogloss:1.50026\tvalidation_1-merror:0.24550\tvalidation_1-mlogloss:1.63280\n",
            "[99]\tvalidation_0-merror:0.16930\tvalidation_0-mlogloss:1.49374\tvalidation_1-merror:0.24550\tvalidation_1-mlogloss:1.62611\n",
            "[100]\tvalidation_0-merror:0.16930\tvalidation_0-mlogloss:1.48738\tvalidation_1-merror:0.24550\tvalidation_1-mlogloss:1.61969\n",
            "[101]\tvalidation_0-merror:0.16930\tvalidation_0-mlogloss:1.48154\tvalidation_1-merror:0.24550\tvalidation_1-mlogloss:1.61395\n",
            "[102]\tvalidation_0-merror:0.16930\tvalidation_0-mlogloss:1.47559\tvalidation_1-merror:0.24550\tvalidation_1-mlogloss:1.60780\n",
            "[103]\tvalidation_0-merror:0.16930\tvalidation_0-mlogloss:1.47002\tvalidation_1-merror:0.24775\tvalidation_1-mlogloss:1.60223\n",
            "[104]\tvalidation_0-merror:0.16930\tvalidation_0-mlogloss:1.46413\tvalidation_1-merror:0.24775\tvalidation_1-mlogloss:1.59649\n",
            "[105]\tvalidation_0-merror:0.16930\tvalidation_0-mlogloss:1.45850\tvalidation_1-merror:0.24775\tvalidation_1-mlogloss:1.59089\n",
            "[106]\tvalidation_0-merror:0.16874\tvalidation_0-mlogloss:1.45256\tvalidation_1-merror:0.24775\tvalidation_1-mlogloss:1.58479\n",
            "[107]\tvalidation_0-merror:0.16930\tvalidation_0-mlogloss:1.44660\tvalidation_1-merror:0.24550\tvalidation_1-mlogloss:1.57892\n",
            "[108]\tvalidation_0-merror:0.16930\tvalidation_0-mlogloss:1.44080\tvalidation_1-merror:0.24550\tvalidation_1-mlogloss:1.57311\n",
            "[109]\tvalidation_0-merror:0.16930\tvalidation_0-mlogloss:1.43508\tvalidation_1-merror:0.24550\tvalidation_1-mlogloss:1.56734\n",
            "[110]\tvalidation_0-merror:0.16986\tvalidation_0-mlogloss:1.42958\tvalidation_1-merror:0.24550\tvalidation_1-mlogloss:1.56213\n",
            "[111]\tvalidation_0-merror:0.16874\tvalidation_0-mlogloss:1.42415\tvalidation_1-merror:0.24550\tvalidation_1-mlogloss:1.55672\n",
            "[112]\tvalidation_0-merror:0.16930\tvalidation_0-mlogloss:1.41893\tvalidation_1-merror:0.24550\tvalidation_1-mlogloss:1.55114\n",
            "[113]\tvalidation_0-merror:0.16930\tvalidation_0-mlogloss:1.41402\tvalidation_1-merror:0.24550\tvalidation_1-mlogloss:1.54617\n",
            "[114]\tvalidation_0-merror:0.16930\tvalidation_0-mlogloss:1.40853\tvalidation_1-merror:0.24550\tvalidation_1-mlogloss:1.54064\n",
            "[115]\tvalidation_0-merror:0.16930\tvalidation_0-mlogloss:1.40365\tvalidation_1-merror:0.24550\tvalidation_1-mlogloss:1.53560\n",
            "[116]\tvalidation_0-merror:0.16930\tvalidation_0-mlogloss:1.39827\tvalidation_1-merror:0.24550\tvalidation_1-mlogloss:1.53023\n",
            "[117]\tvalidation_0-merror:0.16930\tvalidation_0-mlogloss:1.39338\tvalidation_1-merror:0.24550\tvalidation_1-mlogloss:1.52533\n",
            "[118]\tvalidation_0-merror:0.16930\tvalidation_0-mlogloss:1.38800\tvalidation_1-merror:0.24550\tvalidation_1-mlogloss:1.52024\n",
            "[119]\tvalidation_0-merror:0.16930\tvalidation_0-mlogloss:1.38296\tvalidation_1-merror:0.24550\tvalidation_1-mlogloss:1.51524\n",
            "[120]\tvalidation_0-merror:0.16930\tvalidation_0-mlogloss:1.37862\tvalidation_1-merror:0.24550\tvalidation_1-mlogloss:1.51086\n",
            "[121]\tvalidation_0-merror:0.16930\tvalidation_0-mlogloss:1.37361\tvalidation_1-merror:0.24550\tvalidation_1-mlogloss:1.50556\n",
            "[122]\tvalidation_0-merror:0.16930\tvalidation_0-mlogloss:1.36862\tvalidation_1-merror:0.24550\tvalidation_1-mlogloss:1.50074\n",
            "[123]\tvalidation_0-merror:0.16930\tvalidation_0-mlogloss:1.36413\tvalidation_1-merror:0.24550\tvalidation_1-mlogloss:1.49605\n",
            "[124]\tvalidation_0-merror:0.16874\tvalidation_0-mlogloss:1.35955\tvalidation_1-merror:0.24550\tvalidation_1-mlogloss:1.49158\n",
            "[125]\tvalidation_0-merror:0.16930\tvalidation_0-mlogloss:1.35495\tvalidation_1-merror:0.24550\tvalidation_1-mlogloss:1.48721\n",
            "[126]\tvalidation_0-merror:0.16930\tvalidation_0-mlogloss:1.35060\tvalidation_1-merror:0.24550\tvalidation_1-mlogloss:1.48283\n",
            "[127]\tvalidation_0-merror:0.16874\tvalidation_0-mlogloss:1.34566\tvalidation_1-merror:0.24550\tvalidation_1-mlogloss:1.47777\n",
            "[128]\tvalidation_0-merror:0.16874\tvalidation_0-mlogloss:1.34120\tvalidation_1-merror:0.24550\tvalidation_1-mlogloss:1.47315\n",
            "[129]\tvalidation_0-merror:0.16874\tvalidation_0-mlogloss:1.33632\tvalidation_1-merror:0.24550\tvalidation_1-mlogloss:1.46823\n",
            "[130]\tvalidation_0-merror:0.16874\tvalidation_0-mlogloss:1.33222\tvalidation_1-merror:0.24775\tvalidation_1-mlogloss:1.46479\n",
            "[131]\tvalidation_0-merror:0.16874\tvalidation_0-mlogloss:1.32776\tvalidation_1-merror:0.24775\tvalidation_1-mlogloss:1.46013\n",
            "[132]\tvalidation_0-merror:0.16874\tvalidation_0-mlogloss:1.32330\tvalidation_1-merror:0.24775\tvalidation_1-mlogloss:1.45555\n",
            "[133]\tvalidation_0-merror:0.16930\tvalidation_0-mlogloss:1.31914\tvalidation_1-merror:0.24775\tvalidation_1-mlogloss:1.45133\n",
            "[134]\tvalidation_0-merror:0.16930\tvalidation_0-mlogloss:1.31456\tvalidation_1-merror:0.24775\tvalidation_1-mlogloss:1.44652\n",
            "[135]\tvalidation_0-merror:0.16930\tvalidation_0-mlogloss:1.31059\tvalidation_1-merror:0.24775\tvalidation_1-mlogloss:1.44259\n",
            "[136]\tvalidation_0-merror:0.16874\tvalidation_0-mlogloss:1.30642\tvalidation_1-merror:0.24550\tvalidation_1-mlogloss:1.43803\n",
            "[137]\tvalidation_0-merror:0.16986\tvalidation_0-mlogloss:1.30209\tvalidation_1-merror:0.24550\tvalidation_1-mlogloss:1.43363\n",
            "[138]\tvalidation_0-merror:0.16986\tvalidation_0-mlogloss:1.29789\tvalidation_1-merror:0.24775\tvalidation_1-mlogloss:1.42952\n",
            "[139]\tvalidation_0-merror:0.16986\tvalidation_0-mlogloss:1.29387\tvalidation_1-merror:0.24775\tvalidation_1-mlogloss:1.42550\n",
            "[140]\tvalidation_0-merror:0.16930\tvalidation_0-mlogloss:1.28995\tvalidation_1-merror:0.24775\tvalidation_1-mlogloss:1.42130\n",
            "[141]\tvalidation_0-merror:0.16930\tvalidation_0-mlogloss:1.28610\tvalidation_1-merror:0.24775\tvalidation_1-mlogloss:1.41759\n",
            "[142]\tvalidation_0-merror:0.16817\tvalidation_0-mlogloss:1.28233\tvalidation_1-merror:0.24775\tvalidation_1-mlogloss:1.41387\n",
            "[143]\tvalidation_0-merror:0.16817\tvalidation_0-mlogloss:1.27831\tvalidation_1-merror:0.24775\tvalidation_1-mlogloss:1.40970\n",
            "[144]\tvalidation_0-merror:0.16817\tvalidation_0-mlogloss:1.27463\tvalidation_1-merror:0.24775\tvalidation_1-mlogloss:1.40589\n",
            "[145]\tvalidation_0-merror:0.16874\tvalidation_0-mlogloss:1.27082\tvalidation_1-merror:0.24775\tvalidation_1-mlogloss:1.40200\n",
            "[146]\tvalidation_0-merror:0.16986\tvalidation_0-mlogloss:1.26702\tvalidation_1-merror:0.24775\tvalidation_1-mlogloss:1.39810\n",
            "[147]\tvalidation_0-merror:0.16986\tvalidation_0-mlogloss:1.26323\tvalidation_1-merror:0.24775\tvalidation_1-mlogloss:1.39422\n",
            "[148]\tvalidation_0-merror:0.16986\tvalidation_0-mlogloss:1.25973\tvalidation_1-merror:0.24775\tvalidation_1-mlogloss:1.39055\n",
            "[149]\tvalidation_0-merror:0.16930\tvalidation_0-mlogloss:1.25572\tvalidation_1-merror:0.24775\tvalidation_1-mlogloss:1.38640\n",
            "[150]\tvalidation_0-merror:0.16986\tvalidation_0-mlogloss:1.25251\tvalidation_1-merror:0.24775\tvalidation_1-mlogloss:1.38326\n",
            "[151]\tvalidation_0-merror:0.16930\tvalidation_0-mlogloss:1.24884\tvalidation_1-merror:0.24775\tvalidation_1-mlogloss:1.37976\n",
            "[152]\tvalidation_0-merror:0.17043\tvalidation_0-mlogloss:1.24514\tvalidation_1-merror:0.24775\tvalidation_1-mlogloss:1.37613\n",
            "[153]\tvalidation_0-merror:0.17043\tvalidation_0-mlogloss:1.24125\tvalidation_1-merror:0.24775\tvalidation_1-mlogloss:1.37227\n",
            "[154]\tvalidation_0-merror:0.17043\tvalidation_0-mlogloss:1.23781\tvalidation_1-merror:0.24775\tvalidation_1-mlogloss:1.36881\n",
            "[155]\tvalidation_0-merror:0.17099\tvalidation_0-mlogloss:1.23401\tvalidation_1-merror:0.24775\tvalidation_1-mlogloss:1.36495\n",
            "[156]\tvalidation_0-merror:0.17099\tvalidation_0-mlogloss:1.23039\tvalidation_1-merror:0.24775\tvalidation_1-mlogloss:1.36156\n",
            "[157]\tvalidation_0-merror:0.17099\tvalidation_0-mlogloss:1.22690\tvalidation_1-merror:0.24550\tvalidation_1-mlogloss:1.35776\n",
            "[158]\tvalidation_0-merror:0.17043\tvalidation_0-mlogloss:1.22334\tvalidation_1-merror:0.24550\tvalidation_1-mlogloss:1.35415\n",
            "[159]\tvalidation_0-merror:0.17099\tvalidation_0-mlogloss:1.21991\tvalidation_1-merror:0.24550\tvalidation_1-mlogloss:1.35055\n",
            "[160]\tvalidation_0-merror:0.17043\tvalidation_0-mlogloss:1.21632\tvalidation_1-merror:0.24550\tvalidation_1-mlogloss:1.34693\n",
            "[161]\tvalidation_0-merror:0.17043\tvalidation_0-mlogloss:1.21293\tvalidation_1-merror:0.24550\tvalidation_1-mlogloss:1.34345\n",
            "[162]\tvalidation_0-merror:0.17156\tvalidation_0-mlogloss:1.20962\tvalidation_1-merror:0.24550\tvalidation_1-mlogloss:1.34018\n",
            "[163]\tvalidation_0-merror:0.17043\tvalidation_0-mlogloss:1.20637\tvalidation_1-merror:0.24550\tvalidation_1-mlogloss:1.33684\n",
            "[164]\tvalidation_0-merror:0.16986\tvalidation_0-mlogloss:1.20271\tvalidation_1-merror:0.24550\tvalidation_1-mlogloss:1.33304\n",
            "[165]\tvalidation_0-merror:0.17099\tvalidation_0-mlogloss:1.19957\tvalidation_1-merror:0.24550\tvalidation_1-mlogloss:1.33001\n",
            "[166]\tvalidation_0-merror:0.17156\tvalidation_0-mlogloss:1.19620\tvalidation_1-merror:0.24550\tvalidation_1-mlogloss:1.32671\n",
            "[167]\tvalidation_0-merror:0.17156\tvalidation_0-mlogloss:1.19296\tvalidation_1-merror:0.24550\tvalidation_1-mlogloss:1.32336\n",
            "[168]\tvalidation_0-merror:0.17156\tvalidation_0-mlogloss:1.18995\tvalidation_1-merror:0.24550\tvalidation_1-mlogloss:1.32029\n",
            "[169]\tvalidation_0-merror:0.17212\tvalidation_0-mlogloss:1.18708\tvalidation_1-merror:0.24550\tvalidation_1-mlogloss:1.31734\n",
            "[170]\tvalidation_0-merror:0.17212\tvalidation_0-mlogloss:1.18416\tvalidation_1-merror:0.24550\tvalidation_1-mlogloss:1.31431\n",
            "[171]\tvalidation_0-merror:0.17212\tvalidation_0-mlogloss:1.18124\tvalidation_1-merror:0.24550\tvalidation_1-mlogloss:1.31130\n",
            "[172]\tvalidation_0-merror:0.17212\tvalidation_0-mlogloss:1.17806\tvalidation_1-merror:0.24550\tvalidation_1-mlogloss:1.30813\n",
            "[173]\tvalidation_0-merror:0.17325\tvalidation_0-mlogloss:1.17530\tvalidation_1-merror:0.24550\tvalidation_1-mlogloss:1.30533\n",
            "[174]\tvalidation_0-merror:0.17325\tvalidation_0-mlogloss:1.17201\tvalidation_1-merror:0.24550\tvalidation_1-mlogloss:1.30198\n",
            "[175]\tvalidation_0-merror:0.17325\tvalidation_0-mlogloss:1.16904\tvalidation_1-merror:0.24550\tvalidation_1-mlogloss:1.29879\n",
            "[176]\tvalidation_0-merror:0.17325\tvalidation_0-mlogloss:1.16619\tvalidation_1-merror:0.24550\tvalidation_1-mlogloss:1.29574\n",
            "[177]\tvalidation_0-merror:0.17325\tvalidation_0-mlogloss:1.16363\tvalidation_1-merror:0.24550\tvalidation_1-mlogloss:1.29299\n",
            "[178]\tvalidation_0-merror:0.17325\tvalidation_0-mlogloss:1.16053\tvalidation_1-merror:0.24550\tvalidation_1-mlogloss:1.28966\n",
            "[179]\tvalidation_0-merror:0.17381\tvalidation_0-mlogloss:1.15750\tvalidation_1-merror:0.24550\tvalidation_1-mlogloss:1.28655\n",
            "[180]\tvalidation_0-merror:0.17381\tvalidation_0-mlogloss:1.15452\tvalidation_1-merror:0.24550\tvalidation_1-mlogloss:1.28377\n",
            "[181]\tvalidation_0-merror:0.17381\tvalidation_0-mlogloss:1.15204\tvalidation_1-merror:0.24550\tvalidation_1-mlogloss:1.28131\n",
            "[182]\tvalidation_0-merror:0.17438\tvalidation_0-mlogloss:1.14904\tvalidation_1-merror:0.24550\tvalidation_1-mlogloss:1.27834\n",
            "[183]\tvalidation_0-merror:0.17438\tvalidation_0-mlogloss:1.14645\tvalidation_1-merror:0.24550\tvalidation_1-mlogloss:1.27582\n",
            "[184]\tvalidation_0-merror:0.17438\tvalidation_0-mlogloss:1.14387\tvalidation_1-merror:0.24550\tvalidation_1-mlogloss:1.27315\n",
            "[185]\tvalidation_0-merror:0.17494\tvalidation_0-mlogloss:1.14110\tvalidation_1-merror:0.24324\tvalidation_1-mlogloss:1.27043\n",
            "[186]\tvalidation_0-merror:0.17551\tvalidation_0-mlogloss:1.13831\tvalidation_1-merror:0.24324\tvalidation_1-mlogloss:1.26753\n",
            "[187]\tvalidation_0-merror:0.17551\tvalidation_0-mlogloss:1.13567\tvalidation_1-merror:0.24550\tvalidation_1-mlogloss:1.26495\n",
            "[188]\tvalidation_0-merror:0.17551\tvalidation_0-mlogloss:1.13322\tvalidation_1-merror:0.24550\tvalidation_1-mlogloss:1.26251\n",
            "[189]\tvalidation_0-merror:0.17551\tvalidation_0-mlogloss:1.13045\tvalidation_1-merror:0.24550\tvalidation_1-mlogloss:1.25967\n",
            "[190]\tvalidation_0-merror:0.17551\tvalidation_0-mlogloss:1.12812\tvalidation_1-merror:0.24550\tvalidation_1-mlogloss:1.25728\n",
            "[191]\tvalidation_0-merror:0.17551\tvalidation_0-mlogloss:1.12538\tvalidation_1-merror:0.24550\tvalidation_1-mlogloss:1.25437\n",
            "[192]\tvalidation_0-merror:0.17551\tvalidation_0-mlogloss:1.12301\tvalidation_1-merror:0.24550\tvalidation_1-mlogloss:1.25192\n",
            "[193]\tvalidation_0-merror:0.17551\tvalidation_0-mlogloss:1.12061\tvalidation_1-merror:0.24550\tvalidation_1-mlogloss:1.24948\n",
            "[194]\tvalidation_0-merror:0.17438\tvalidation_0-mlogloss:1.11808\tvalidation_1-merror:0.24324\tvalidation_1-mlogloss:1.24687\n",
            "[195]\tvalidation_0-merror:0.17607\tvalidation_0-mlogloss:1.11555\tvalidation_1-merror:0.24550\tvalidation_1-mlogloss:1.24419\n",
            "[196]\tvalidation_0-merror:0.17494\tvalidation_0-mlogloss:1.11313\tvalidation_1-merror:0.24775\tvalidation_1-mlogloss:1.24169\n",
            "[197]\tvalidation_0-merror:0.17494\tvalidation_0-mlogloss:1.11046\tvalidation_1-merror:0.24550\tvalidation_1-mlogloss:1.23921\n",
            "[198]\tvalidation_0-merror:0.17551\tvalidation_0-mlogloss:1.10787\tvalidation_1-merror:0.24775\tvalidation_1-mlogloss:1.23659\n",
            "[199]\tvalidation_0-merror:0.17551\tvalidation_0-mlogloss:1.10538\tvalidation_1-merror:0.24550\tvalidation_1-mlogloss:1.23409\n",
            "CPU times: user 10min 18s, sys: 1.33 s, total: 10min 19s\n",
            "Wall time: 7min 9s\n"
          ]
        },
        {
          "output_type": "execute_result",
          "data": {
            "text/plain": [
              "XGBClassifier(base_score=None, booster=None, callbacks=None,\n",
              "              colsample_bylevel=None, colsample_bynode=None,\n",
              "              colsample_bytree=0.8, early_stopping_rounds=None,\n",
              "              enable_categorical=False, eval_metric=None, feature_types=None,\n",
              "              gamma=9, gpu_id=None, grow_policy=None, importance_type=None,\n",
              "              interaction_constraints=None, learning_rate=0.01, max_bin=None,\n",
              "              max_cat_threshold=None, max_cat_to_onehot=None,\n",
              "              max_delta_step=None, max_depth=11, max_leaves=None,\n",
              "              min_child_weight=None, missing=nan, monotone_constraints=None,\n",
              "              n_estimators=200, n_jobs=None, num_parallel_tree=None,\n",
              "              objective='multi:softmax', predictor=None, ...)"
            ],
            "text/html": [
              "<style>#sk-container-id-12 {color: black;background-color: white;}#sk-container-id-12 pre{padding: 0;}#sk-container-id-12 div.sk-toggleable {background-color: white;}#sk-container-id-12 label.sk-toggleable__label {cursor: pointer;display: block;width: 100%;margin-bottom: 0;padding: 0.3em;box-sizing: border-box;text-align: center;}#sk-container-id-12 label.sk-toggleable__label-arrow:before {content: \"▸\";float: left;margin-right: 0.25em;color: #696969;}#sk-container-id-12 label.sk-toggleable__label-arrow:hover:before {color: black;}#sk-container-id-12 div.sk-estimator:hover label.sk-toggleable__label-arrow:before {color: black;}#sk-container-id-12 div.sk-toggleable__content {max-height: 0;max-width: 0;overflow: hidden;text-align: left;background-color: #f0f8ff;}#sk-container-id-12 div.sk-toggleable__content pre {margin: 0.2em;color: black;border-radius: 0.25em;background-color: #f0f8ff;}#sk-container-id-12 input.sk-toggleable__control:checked~div.sk-toggleable__content {max-height: 200px;max-width: 100%;overflow: auto;}#sk-container-id-12 input.sk-toggleable__control:checked~label.sk-toggleable__label-arrow:before {content: \"▾\";}#sk-container-id-12 div.sk-estimator input.sk-toggleable__control:checked~label.sk-toggleable__label {background-color: #d4ebff;}#sk-container-id-12 div.sk-label input.sk-toggleable__control:checked~label.sk-toggleable__label {background-color: #d4ebff;}#sk-container-id-12 input.sk-hidden--visually {border: 0;clip: rect(1px 1px 1px 1px);clip: rect(1px, 1px, 1px, 1px);height: 1px;margin: -1px;overflow: hidden;padding: 0;position: absolute;width: 1px;}#sk-container-id-12 div.sk-estimator {font-family: monospace;background-color: #f0f8ff;border: 1px dotted black;border-radius: 0.25em;box-sizing: border-box;margin-bottom: 0.5em;}#sk-container-id-12 div.sk-estimator:hover {background-color: #d4ebff;}#sk-container-id-12 div.sk-parallel-item::after {content: \"\";width: 100%;border-bottom: 1px solid gray;flex-grow: 1;}#sk-container-id-12 div.sk-label:hover label.sk-toggleable__label {background-color: #d4ebff;}#sk-container-id-12 div.sk-serial::before {content: \"\";position: absolute;border-left: 1px solid gray;box-sizing: border-box;top: 0;bottom: 0;left: 50%;z-index: 0;}#sk-container-id-12 div.sk-serial {display: flex;flex-direction: column;align-items: center;background-color: white;padding-right: 0.2em;padding-left: 0.2em;position: relative;}#sk-container-id-12 div.sk-item {position: relative;z-index: 1;}#sk-container-id-12 div.sk-parallel {display: flex;align-items: stretch;justify-content: center;background-color: white;position: relative;}#sk-container-id-12 div.sk-item::before, #sk-container-id-12 div.sk-parallel-item::before {content: \"\";position: absolute;border-left: 1px solid gray;box-sizing: border-box;top: 0;bottom: 0;left: 50%;z-index: -1;}#sk-container-id-12 div.sk-parallel-item {display: flex;flex-direction: column;z-index: 1;position: relative;background-color: white;}#sk-container-id-12 div.sk-parallel-item:first-child::after {align-self: flex-end;width: 50%;}#sk-container-id-12 div.sk-parallel-item:last-child::after {align-self: flex-start;width: 50%;}#sk-container-id-12 div.sk-parallel-item:only-child::after {width: 0;}#sk-container-id-12 div.sk-dashed-wrapped {border: 1px dashed gray;margin: 0 0.4em 0.5em 0.4em;box-sizing: border-box;padding-bottom: 0.4em;background-color: white;}#sk-container-id-12 div.sk-label label {font-family: monospace;font-weight: bold;display: inline-block;line-height: 1.2em;}#sk-container-id-12 div.sk-label-container {text-align: center;}#sk-container-id-12 div.sk-container {/* jupyter's `normalize.less` sets `[hidden] { display: none; }` but bootstrap.min.css set `[hidden] { display: none !important; }` so we also need the `!important` here to be able to override the default hidden behavior on the sphinx rendered scikit-learn.org. See: https://github.com/scikit-learn/scikit-learn/issues/21755 */display: inline-block !important;position: relative;}#sk-container-id-12 div.sk-text-repr-fallback {display: none;}</style><div id=\"sk-container-id-12\" class=\"sk-top-container\"><div class=\"sk-text-repr-fallback\"><pre>XGBClassifier(base_score=None, booster=None, callbacks=None,\n",
              "              colsample_bylevel=None, colsample_bynode=None,\n",
              "              colsample_bytree=0.8, early_stopping_rounds=None,\n",
              "              enable_categorical=False, eval_metric=None, feature_types=None,\n",
              "              gamma=9, gpu_id=None, grow_policy=None, importance_type=None,\n",
              "              interaction_constraints=None, learning_rate=0.01, max_bin=None,\n",
              "              max_cat_threshold=None, max_cat_to_onehot=None,\n",
              "              max_delta_step=None, max_depth=11, max_leaves=None,\n",
              "              min_child_weight=None, missing=nan, monotone_constraints=None,\n",
              "              n_estimators=200, n_jobs=None, num_parallel_tree=None,\n",
              "              objective=&#x27;multi:softmax&#x27;, predictor=None, ...)</pre><b>In a Jupyter environment, please rerun this cell to show the HTML representation or trust the notebook. <br />On GitHub, the HTML representation is unable to render, please try loading this page with nbviewer.org.</b></div><div class=\"sk-container\" hidden><div class=\"sk-item\"><div class=\"sk-estimator sk-toggleable\"><input class=\"sk-toggleable__control sk-hidden--visually\" id=\"sk-estimator-id-12\" type=\"checkbox\" checked><label for=\"sk-estimator-id-12\" class=\"sk-toggleable__label sk-toggleable__label-arrow\">XGBClassifier</label><div class=\"sk-toggleable__content\"><pre>XGBClassifier(base_score=None, booster=None, callbacks=None,\n",
              "              colsample_bylevel=None, colsample_bynode=None,\n",
              "              colsample_bytree=0.8, early_stopping_rounds=None,\n",
              "              enable_categorical=False, eval_metric=None, feature_types=None,\n",
              "              gamma=9, gpu_id=None, grow_policy=None, importance_type=None,\n",
              "              interaction_constraints=None, learning_rate=0.01, max_bin=None,\n",
              "              max_cat_threshold=None, max_cat_to_onehot=None,\n",
              "              max_delta_step=None, max_depth=11, max_leaves=None,\n",
              "              min_child_weight=None, missing=nan, monotone_constraints=None,\n",
              "              n_estimators=200, n_jobs=None, num_parallel_tree=None,\n",
              "              objective=&#x27;multi:softmax&#x27;, predictor=None, ...)</pre></div></div></div></div></div>"
            ]
          },
          "metadata": {},
          "execution_count": 157
        }
      ]
    },
    {
      "cell_type": "code",
      "source": [
        "# plotting training and validation loss and error\n",
        "# retrieve performance metrics\n",
        "results = model.evals_result()\n",
        "epochs = len(results['validation_0']['merror'])\n",
        "x_axis = range(0, epochs)\n",
        "# plot log loss\n",
        "fig, ax = plt.subplots()\n",
        "ax.plot(x_axis, results['validation_0']['mlogloss'], label='Train')\n",
        "ax.plot(x_axis, results['validation_1']['mlogloss'], label='Validation')\n",
        "ax.legend()\n",
        "plt.ylabel('Log Loss')\n",
        "plt.title('XGBoost Log Loss')\n",
        "plt.show()\n",
        "# plot classification error\n",
        "fig, ax = plt.subplots()\n",
        "ax.plot(x_axis, results['validation_0']['merror'], label='Train')\n",
        "ax.plot(x_axis, results['validation_1']['merror'], label='Validation')\n",
        "ax.legend()\n",
        "plt.ylabel('Classification Error')\n",
        "plt.title('XGBoost Classification Error')\n",
        "plt.show()"
      ],
      "metadata": {
        "colab": {
          "base_uri": "https://localhost:8080/",
          "height": 887
        },
        "id": "Vf7bBOzcx3tP",
        "outputId": "e5de7032-9c93-450b-c9bd-05258b8ceab8"
      },
      "execution_count": null,
      "outputs": [
        {
          "output_type": "display_data",
          "data": {
            "text/plain": [
              "<Figure size 640x480 with 1 Axes>"
            ],
            "image/png": "[encoded data removed]"
          },
          "metadata": {}
        },
        {
          "output_type": "display_data",
          "data": {
            "text/plain": [
              "<Figure size 640x480 with 1 Axes>"
            ],
            "image/png": "[encoded data removed]"
          },
          "metadata": {}
        }
      ]
    },
    {
      "cell_type": "code",
      "source": [
        "# function to get evaluation results\n",
        "\n",
        "def get_evaluation(model, X_train, y_train, X_test, y_test):\n",
        "  # train accuracy\n",
        "  tr_score = model.score(X_train, y_train)\n",
        "  print(f\"Training score of XGBoost: {100*tr_score:.2f}%\")\n",
        "\n",
        "  # prediction for test data\n",
        "  prediction = model.predict(X_test)\n",
        "\n",
        "  # accuracy\n",
        "  acc = metrics.accuracy_score(y_test, prediction)\n",
        "  print(f\"Accuracy: {100*acc:.2f}%\")\n",
        "  # ROC-AUC\n",
        "  roc_auc = roc_auc_score(y_test, model.predict_proba(X_test),  multi_class=\"ovr\")\n",
        "  print(\"ROC-AUC score is: \", round(100*roc_auc, 2), \"%\")\n",
        "\n",
        "  # Matthew's coefficent\n",
        "  mcc = matthews_corrcoef(y_test, prediction)\n",
        "  print(\"The Matthews correlation coefficinet (MCC) is: \", round(100*mcc, 2), \"%\")\n",
        "\n",
        "  # specificity\n",
        "  sp = specificity_score(y_test, prediction, average='weighted')\n",
        "  print(f\"Weighted specificity: {100*sp:.2f}%\")\n",
        "\n",
        "  # classification reports\n",
        "  print(classification_report(y_test, prediction))"
      ],
      "metadata": {
        "id": "aCMhBkrZvddu"
      },
      "execution_count": null,
      "outputs": []
    },
    {
      "cell_type": "code",
      "source": [
        "# getting validation set results\n",
        "get_evaluation(model, train_x_s, train_y, val_x_s, val_y)"
      ],
      "metadata": {
        "colab": {
          "base_uri": "https://localhost:8080/"
        },
        "id": "rjY543lxxzul",
        "outputId": "5e37813b-0fea-4b3c-b10a-3a2277bd0e61"
      },
      "execution_count": null,
      "outputs": [
        {
          "output_type": "stream",
          "name": "stdout",
          "text": [
            "Training score of XGBoost: 82.45%\n",
            "Accuracy: 75.45%\n",
            "ROC-AUC score is:  97.56 %\n",
            "The Matthews correlation coefficinet (MCC) is:  74.35 %\n",
            "Weighted specificity: 98.85%\n",
            "              precision    recall  f1-score   support\n",
            "\n",
            "           0       0.50      0.20      0.29         5\n",
            "           1       0.68      0.76      0.72        17\n",
            "           2       0.71      0.89      0.79        19\n",
            "           3       1.00      0.44      0.61        16\n",
            "           4       0.52      0.65      0.58        17\n",
            "           5       0.75      0.88      0.81        17\n",
            "           6       0.00      0.00      0.00         4\n",
            "           7       0.91      0.67      0.77        30\n",
            "           8       0.73      0.80      0.76        20\n",
            "           9       1.00      0.38      0.56        13\n",
            "          10       0.76      0.87      0.81        15\n",
            "          11       0.94      0.85      0.89        20\n",
            "          12       0.92      0.69      0.79        16\n",
            "          13       0.76      0.72      0.74        18\n",
            "          14       0.85      0.85      0.85        27\n",
            "          15       0.81      0.96      0.88        23\n",
            "          16       0.65      0.74      0.69        23\n",
            "          17       0.88      0.96      0.92        23\n",
            "          18       0.81      0.89      0.85        19\n",
            "          19       0.63      0.60      0.62        20\n",
            "          20       0.80      0.67      0.73        24\n",
            "          21       0.67      0.91      0.77        22\n",
            "          22       0.58      0.70      0.64        20\n",
            "          23       0.68      0.81      0.74        16\n",
            "\n",
            "    accuracy                           0.75       444\n",
            "   macro avg       0.73      0.70      0.70       444\n",
            "weighted avg       0.77      0.75      0.75       444\n",
            "\n"
          ]
        },
        {
          "output_type": "stream",
          "name": "stderr",
          "text": [
            "/usr/local/lib/python3.10/dist-packages/sklearn/metrics/_classification.py:1344: UndefinedMetricWarning: Precision and F-score are ill-defined and being set to 0.0 in labels with no predicted samples. Use `zero_division` parameter to control this behavior.\n",
            "  _warn_prf(average, modifier, msg_start, len(result))\n",
            "/usr/local/lib/python3.10/dist-packages/sklearn/metrics/_classification.py:1344: UndefinedMetricWarning: Precision and F-score are ill-defined and being set to 0.0 in labels with no predicted samples. Use `zero_division` parameter to control this behavior.\n",
            "  _warn_prf(average, modifier, msg_start, len(result))\n",
            "/usr/local/lib/python3.10/dist-packages/sklearn/metrics/_classification.py:1344: UndefinedMetricWarning: Precision and F-score are ill-defined and being set to 0.0 in labels with no predicted samples. Use `zero_division` parameter to control this behavior.\n",
            "  _warn_prf(average, modifier, msg_start, len(result))\n"
          ]
        }
      ]
    },
    {
      "cell_type": "markdown",
      "source": [
        "### tuning without feature selection"
      ],
      "metadata": {
        "id": "LcVGJRedRP6v"
      }
    },
    {
      "cell_type": "code",
      "source": [
        "# with our final model\n",
        "\n",
        "model_ft = xgb.XGBClassifier(\n",
        "      learning_rate=0.01,\n",
        "      colsample_bytree=0.4,\n",
        "      subsample=0.7,\n",
        "      objective='multi:softmax',\n",
        "      n_estimators=500,\n",
        "      reg_alpha=0.9,\n",
        "      max_depth=11,\n",
        "      gamma=9\n",
        "  )\n",
        "\n",
        "eval_set = [(train_x, train_y), (val_x, val_y)]\n",
        "eval_metric = [\"merror\", \"mlogloss\"]  # Multi-class evaluation metrics\n",
        "\n",
        "%time model_ft.fit(train_x, train_y, eval_metric=eval_metric, eval_set=eval_set, verbose=True)"
      ],
      "metadata": {
        "colab": {
          "base_uri": "https://localhost:8080/",
          "height": 1000
        },
        "id": "sudRwnNrPME3",
        "outputId": "f5ef5bdd-55e8-4ea5-fa09-af8daebf97ea"
      },
      "execution_count": null,
      "outputs": [
        {
          "output_type": "stream",
          "name": "stdout",
          "text": [
            "[0]\tvalidation_0-merror:0.40971\tvalidation_0-mlogloss:3.14166\tvalidation_1-merror:0.48649\tvalidation_1-mlogloss:3.14434\n",
            "[1]\tvalidation_0-merror:0.30926\tvalidation_0-mlogloss:3.10518\tvalidation_1-merror:0.42568\tvalidation_1-mlogloss:3.11458\n",
            "[2]\tvalidation_0-merror:0.27935\tvalidation_0-mlogloss:3.07408\tvalidation_1-merror:0.38964\tvalidation_1-mlogloss:3.08925\n",
            "[3]\tvalidation_0-merror:0.27540\tvalidation_0-mlogloss:3.04551\tvalidation_1-merror:0.36486\tvalidation_1-mlogloss:3.06583\n",
            "[4]\tvalidation_0-merror:0.26072\tvalidation_0-mlogloss:3.01588\tvalidation_1-merror:0.35586\tvalidation_1-mlogloss:3.04273\n",
            "[5]\tvalidation_0-merror:0.25282\tvalidation_0-mlogloss:2.98629\tvalidation_1-merror:0.34009\tvalidation_1-mlogloss:3.01831\n",
            "[6]\tvalidation_0-merror:0.24210\tvalidation_0-mlogloss:2.95262\tvalidation_1-merror:0.33108\tvalidation_1-mlogloss:2.98680\n",
            "[7]\tvalidation_0-merror:0.23420\tvalidation_0-mlogloss:2.92217\tvalidation_1-merror:0.30631\tvalidation_1-mlogloss:2.95945\n",
            "[8]\tvalidation_0-merror:0.22968\tvalidation_0-mlogloss:2.89702\tvalidation_1-merror:0.31081\tvalidation_1-mlogloss:2.93709\n",
            "[9]\tvalidation_0-merror:0.22743\tvalidation_0-mlogloss:2.87118\tvalidation_1-merror:0.30405\tvalidation_1-mlogloss:2.91517\n",
            "[10]\tvalidation_0-merror:0.23081\tvalidation_0-mlogloss:2.84575\tvalidation_1-merror:0.29730\tvalidation_1-mlogloss:2.89276\n",
            "[11]\tvalidation_0-merror:0.22404\tvalidation_0-mlogloss:2.82009\tvalidation_1-merror:0.29505\tvalidation_1-mlogloss:2.87206\n",
            "[12]\tvalidation_0-merror:0.22348\tvalidation_0-mlogloss:2.79508\tvalidation_1-merror:0.29955\tvalidation_1-mlogloss:2.85189\n",
            "[13]\tvalidation_0-merror:0.21388\tvalidation_0-mlogloss:2.76918\tvalidation_1-merror:0.30405\tvalidation_1-mlogloss:2.83219\n",
            "[14]\tvalidation_0-merror:0.20429\tvalidation_0-mlogloss:2.74266\tvalidation_1-merror:0.30405\tvalidation_1-mlogloss:2.80928\n",
            "[15]\tvalidation_0-merror:0.20542\tvalidation_0-mlogloss:2.71939\tvalidation_1-merror:0.31081\tvalidation_1-mlogloss:2.78926\n",
            "[16]\tvalidation_0-merror:0.19639\tvalidation_0-mlogloss:2.69398\tvalidation_1-merror:0.30405\tvalidation_1-mlogloss:2.76721\n",
            "[17]\tvalidation_0-merror:0.19695\tvalidation_0-mlogloss:2.67058\tvalidation_1-merror:0.29955\tvalidation_1-mlogloss:2.74770\n",
            "[18]\tvalidation_0-merror:0.19357\tvalidation_0-mlogloss:2.65159\tvalidation_1-merror:0.29730\tvalidation_1-mlogloss:2.73164\n",
            "[19]\tvalidation_0-merror:0.18905\tvalidation_0-mlogloss:2.62920\tvalidation_1-merror:0.29279\tvalidation_1-mlogloss:2.71307\n",
            "[20]\tvalidation_0-merror:0.18792\tvalidation_0-mlogloss:2.60895\tvalidation_1-merror:0.28604\tvalidation_1-mlogloss:2.69558\n",
            "[21]\tvalidation_0-merror:0.18849\tvalidation_0-mlogloss:2.58863\tvalidation_1-merror:0.29279\tvalidation_1-mlogloss:2.67959\n",
            "[22]\tvalidation_0-merror:0.18567\tvalidation_0-mlogloss:2.56612\tvalidation_1-merror:0.29279\tvalidation_1-mlogloss:2.66036\n",
            "[23]\tvalidation_0-merror:0.18397\tvalidation_0-mlogloss:2.54589\tvalidation_1-merror:0.29054\tvalidation_1-mlogloss:2.64386\n",
            "[24]\tvalidation_0-merror:0.18341\tvalidation_0-mlogloss:2.52681\tvalidation_1-merror:0.29054\tvalidation_1-mlogloss:2.62725\n",
            "[25]\tvalidation_0-merror:0.18284\tvalidation_0-mlogloss:2.50499\tvalidation_1-merror:0.28829\tvalidation_1-mlogloss:2.60804\n",
            "[26]\tvalidation_0-merror:0.18284\tvalidation_0-mlogloss:2.48792\tvalidation_1-merror:0.28829\tvalidation_1-mlogloss:2.59395\n",
            "[27]\tvalidation_0-merror:0.18341\tvalidation_0-mlogloss:2.46841\tvalidation_1-merror:0.29279\tvalidation_1-mlogloss:2.57688\n",
            "[28]\tvalidation_0-merror:0.18172\tvalidation_0-mlogloss:2.45157\tvalidation_1-merror:0.28604\tvalidation_1-mlogloss:2.56163\n",
            "[29]\tvalidation_0-merror:0.18284\tvalidation_0-mlogloss:2.43146\tvalidation_1-merror:0.28153\tvalidation_1-mlogloss:2.54262\n",
            "[30]\tvalidation_0-merror:0.17777\tvalidation_0-mlogloss:2.41186\tvalidation_1-merror:0.28153\tvalidation_1-mlogloss:2.52598\n",
            "[31]\tvalidation_0-merror:0.17607\tvalidation_0-mlogloss:2.39691\tvalidation_1-merror:0.27928\tvalidation_1-mlogloss:2.51300\n",
            "[32]\tvalidation_0-merror:0.17607\tvalidation_0-mlogloss:2.38104\tvalidation_1-merror:0.28153\tvalidation_1-mlogloss:2.49797\n",
            "[33]\tvalidation_0-merror:0.17551\tvalidation_0-mlogloss:2.36743\tvalidation_1-merror:0.28378\tvalidation_1-mlogloss:2.48649\n",
            "[34]\tvalidation_0-merror:0.17438\tvalidation_0-mlogloss:2.35290\tvalidation_1-merror:0.27928\tvalidation_1-mlogloss:2.47388\n",
            "[35]\tvalidation_0-merror:0.17438\tvalidation_0-mlogloss:2.33639\tvalidation_1-merror:0.28153\tvalidation_1-mlogloss:2.45828\n",
            "[36]\tvalidation_0-merror:0.17269\tvalidation_0-mlogloss:2.32047\tvalidation_1-merror:0.28829\tvalidation_1-mlogloss:2.44384\n",
            "[37]\tvalidation_0-merror:0.17212\tvalidation_0-mlogloss:2.30421\tvalidation_1-merror:0.28378\tvalidation_1-mlogloss:2.42987\n",
            "[38]\tvalidation_0-merror:0.17494\tvalidation_0-mlogloss:2.28767\tvalidation_1-merror:0.28378\tvalidation_1-mlogloss:2.41535\n",
            "[39]\tvalidation_0-merror:0.17551\tvalidation_0-mlogloss:2.27066\tvalidation_1-merror:0.28604\tvalidation_1-mlogloss:2.39923\n",
            "[40]\tvalidation_0-merror:0.17551\tvalidation_0-mlogloss:2.25710\tvalidation_1-merror:0.29054\tvalidation_1-mlogloss:2.38777\n",
            "[41]\tvalidation_0-merror:0.17664\tvalidation_0-mlogloss:2.24396\tvalidation_1-merror:0.29279\tvalidation_1-mlogloss:2.37522\n",
            "[42]\tvalidation_0-merror:0.17494\tvalidation_0-mlogloss:2.22788\tvalidation_1-merror:0.29279\tvalidation_1-mlogloss:2.36074\n",
            "[43]\tvalidation_0-merror:0.17438\tvalidation_0-mlogloss:2.21332\tvalidation_1-merror:0.29279\tvalidation_1-mlogloss:2.34756\n",
            "[44]\tvalidation_0-merror:0.17381\tvalidation_0-mlogloss:2.20199\tvalidation_1-merror:0.29054\tvalidation_1-mlogloss:2.33716\n",
            "[45]\tvalidation_0-merror:0.17551\tvalidation_0-mlogloss:2.18899\tvalidation_1-merror:0.29505\tvalidation_1-mlogloss:2.32488\n",
            "[46]\tvalidation_0-merror:0.17551\tvalidation_0-mlogloss:2.17548\tvalidation_1-merror:0.29279\tvalidation_1-mlogloss:2.31378\n",
            "[47]\tvalidation_0-merror:0.17607\tvalidation_0-mlogloss:2.16378\tvalidation_1-merror:0.29054\tvalidation_1-mlogloss:2.30395\n",
            "[48]\tvalidation_0-merror:0.17607\tvalidation_0-mlogloss:2.15368\tvalidation_1-merror:0.29054\tvalidation_1-mlogloss:2.29459\n",
            "[49]\tvalidation_0-merror:0.17551\tvalidation_0-mlogloss:2.14274\tvalidation_1-merror:0.29279\tvalidation_1-mlogloss:2.28442\n",
            "[50]\tvalidation_0-merror:0.17381\tvalidation_0-mlogloss:2.13051\tvalidation_1-merror:0.29279\tvalidation_1-mlogloss:2.27360\n",
            "[51]\tvalidation_0-merror:0.17494\tvalidation_0-mlogloss:2.11884\tvalidation_1-merror:0.29505\tvalidation_1-mlogloss:2.26226\n",
            "[52]\tvalidation_0-merror:0.17325\tvalidation_0-mlogloss:2.10821\tvalidation_1-merror:0.29505\tvalidation_1-mlogloss:2.25204\n",
            "[53]\tvalidation_0-merror:0.17438\tvalidation_0-mlogloss:2.09827\tvalidation_1-merror:0.29054\tvalidation_1-mlogloss:2.24253\n",
            "[54]\tvalidation_0-merror:0.17212\tvalidation_0-mlogloss:2.08642\tvalidation_1-merror:0.28829\tvalidation_1-mlogloss:2.23174\n",
            "[55]\tvalidation_0-merror:0.17212\tvalidation_0-mlogloss:2.07684\tvalidation_1-merror:0.29054\tvalidation_1-mlogloss:2.22374\n",
            "[56]\tvalidation_0-merror:0.17099\tvalidation_0-mlogloss:2.06491\tvalidation_1-merror:0.28604\tvalidation_1-mlogloss:2.21304\n",
            "[57]\tvalidation_0-merror:0.17099\tvalidation_0-mlogloss:2.05530\tvalidation_1-merror:0.28829\tvalidation_1-mlogloss:2.20392\n",
            "[58]\tvalidation_0-merror:0.17043\tvalidation_0-mlogloss:2.04511\tvalidation_1-merror:0.28604\tvalidation_1-mlogloss:2.19506\n",
            "[59]\tvalidation_0-merror:0.17212\tvalidation_0-mlogloss:2.03627\tvalidation_1-merror:0.27703\tvalidation_1-mlogloss:2.18767\n",
            "[60]\tvalidation_0-merror:0.17212\tvalidation_0-mlogloss:2.02739\tvalidation_1-merror:0.28378\tvalidation_1-mlogloss:2.17915\n",
            "[61]\tvalidation_0-merror:0.17269\tvalidation_0-mlogloss:2.01700\tvalidation_1-merror:0.28153\tvalidation_1-mlogloss:2.16930\n",
            "[62]\tvalidation_0-merror:0.17212\tvalidation_0-mlogloss:2.00791\tvalidation_1-merror:0.28153\tvalidation_1-mlogloss:2.16069\n",
            "[63]\tvalidation_0-merror:0.17438\tvalidation_0-mlogloss:1.99811\tvalidation_1-merror:0.28153\tvalidation_1-mlogloss:2.15155\n",
            "[64]\tvalidation_0-merror:0.17325\tvalidation_0-mlogloss:1.98637\tvalidation_1-merror:0.28153\tvalidation_1-mlogloss:2.14016\n",
            "[65]\tvalidation_0-merror:0.17099\tvalidation_0-mlogloss:1.97631\tvalidation_1-merror:0.27928\tvalidation_1-mlogloss:2.13045\n",
            "[66]\tvalidation_0-merror:0.17325\tvalidation_0-mlogloss:1.96756\tvalidation_1-merror:0.27928\tvalidation_1-mlogloss:2.12224\n",
            "[67]\tvalidation_0-merror:0.17325\tvalidation_0-mlogloss:1.95829\tvalidation_1-merror:0.27703\tvalidation_1-mlogloss:2.11387\n",
            "[68]\tvalidation_0-merror:0.17381\tvalidation_0-mlogloss:1.95018\tvalidation_1-merror:0.27703\tvalidation_1-mlogloss:2.10596\n",
            "[69]\tvalidation_0-merror:0.17269\tvalidation_0-mlogloss:1.94272\tvalidation_1-merror:0.27703\tvalidation_1-mlogloss:2.09850\n",
            "[70]\tvalidation_0-merror:0.17381\tvalidation_0-mlogloss:1.93397\tvalidation_1-merror:0.27703\tvalidation_1-mlogloss:2.08959\n",
            "[71]\tvalidation_0-merror:0.17325\tvalidation_0-mlogloss:1.92463\tvalidation_1-merror:0.27703\tvalidation_1-mlogloss:2.08101\n",
            "[72]\tvalidation_0-merror:0.17325\tvalidation_0-mlogloss:1.91578\tvalidation_1-merror:0.27928\tvalidation_1-mlogloss:2.07193\n",
            "[73]\tvalidation_0-merror:0.17381\tvalidation_0-mlogloss:1.90707\tvalidation_1-merror:0.27703\tvalidation_1-mlogloss:2.06375\n",
            "[74]\tvalidation_0-merror:0.17325\tvalidation_0-mlogloss:1.89838\tvalidation_1-merror:0.27928\tvalidation_1-mlogloss:2.05539\n",
            "[75]\tvalidation_0-merror:0.17438\tvalidation_0-mlogloss:1.88932\tvalidation_1-merror:0.28153\tvalidation_1-mlogloss:2.04644\n",
            "[76]\tvalidation_0-merror:0.17494\tvalidation_0-mlogloss:1.88129\tvalidation_1-merror:0.28378\tvalidation_1-mlogloss:2.03906\n",
            "[77]\tvalidation_0-merror:0.17551\tvalidation_0-mlogloss:1.87288\tvalidation_1-merror:0.28153\tvalidation_1-mlogloss:2.03101\n",
            "[78]\tvalidation_0-merror:0.17438\tvalidation_0-mlogloss:1.86521\tvalidation_1-merror:0.27703\tvalidation_1-mlogloss:2.02445\n",
            "[79]\tvalidation_0-merror:0.17438\tvalidation_0-mlogloss:1.85722\tvalidation_1-merror:0.27703\tvalidation_1-mlogloss:2.01681\n",
            "[80]\tvalidation_0-merror:0.17438\tvalidation_0-mlogloss:1.84955\tvalidation_1-merror:0.27703\tvalidation_1-mlogloss:2.00944\n",
            "[81]\tvalidation_0-merror:0.17607\tvalidation_0-mlogloss:1.84239\tvalidation_1-merror:0.27477\tvalidation_1-mlogloss:2.00297\n",
            "[82]\tvalidation_0-merror:0.17664\tvalidation_0-mlogloss:1.83495\tvalidation_1-merror:0.27703\tvalidation_1-mlogloss:1.99562\n",
            "[83]\tvalidation_0-merror:0.17720\tvalidation_0-mlogloss:1.82733\tvalidation_1-merror:0.27703\tvalidation_1-mlogloss:1.98841\n",
            "[84]\tvalidation_0-merror:0.17551\tvalidation_0-mlogloss:1.81963\tvalidation_1-merror:0.27477\tvalidation_1-mlogloss:1.98056\n",
            "[85]\tvalidation_0-merror:0.17607\tvalidation_0-mlogloss:1.81141\tvalidation_1-merror:0.27477\tvalidation_1-mlogloss:1.97254\n",
            "[86]\tvalidation_0-merror:0.17607\tvalidation_0-mlogloss:1.80468\tvalidation_1-merror:0.27703\tvalidation_1-mlogloss:1.96585\n",
            "[87]\tvalidation_0-merror:0.17664\tvalidation_0-mlogloss:1.79887\tvalidation_1-merror:0.27703\tvalidation_1-mlogloss:1.96055\n",
            "[88]\tvalidation_0-merror:0.17777\tvalidation_0-mlogloss:1.79148\tvalidation_1-merror:0.27703\tvalidation_1-mlogloss:1.95347\n",
            "[89]\tvalidation_0-merror:0.17664\tvalidation_0-mlogloss:1.78554\tvalidation_1-merror:0.27928\tvalidation_1-mlogloss:1.94770\n",
            "[90]\tvalidation_0-merror:0.17664\tvalidation_0-mlogloss:1.77752\tvalidation_1-merror:0.27703\tvalidation_1-mlogloss:1.94014\n",
            "[91]\tvalidation_0-merror:0.17664\tvalidation_0-mlogloss:1.77104\tvalidation_1-merror:0.27928\tvalidation_1-mlogloss:1.93399\n",
            "[92]\tvalidation_0-merror:0.17664\tvalidation_0-mlogloss:1.76532\tvalidation_1-merror:0.27928\tvalidation_1-mlogloss:1.92840\n",
            "[93]\tvalidation_0-merror:0.17664\tvalidation_0-mlogloss:1.75708\tvalidation_1-merror:0.27928\tvalidation_1-mlogloss:1.91995\n",
            "[94]\tvalidation_0-merror:0.17551\tvalidation_0-mlogloss:1.75001\tvalidation_1-merror:0.27928\tvalidation_1-mlogloss:1.91280\n",
            "[95]\tvalidation_0-merror:0.17664\tvalidation_0-mlogloss:1.74342\tvalidation_1-merror:0.27928\tvalidation_1-mlogloss:1.90612\n",
            "[96]\tvalidation_0-merror:0.17551\tvalidation_0-mlogloss:1.73612\tvalidation_1-merror:0.28153\tvalidation_1-mlogloss:1.89919\n",
            "[97]\tvalidation_0-merror:0.17551\tvalidation_0-mlogloss:1.73012\tvalidation_1-merror:0.28153\tvalidation_1-mlogloss:1.89390\n",
            "[98]\tvalidation_0-merror:0.17664\tvalidation_0-mlogloss:1.72333\tvalidation_1-merror:0.28378\tvalidation_1-mlogloss:1.88751\n",
            "[99]\tvalidation_0-merror:0.17607\tvalidation_0-mlogloss:1.71718\tvalidation_1-merror:0.28378\tvalidation_1-mlogloss:1.88152\n",
            "[100]\tvalidation_0-merror:0.17607\tvalidation_0-mlogloss:1.71151\tvalidation_1-merror:0.28153\tvalidation_1-mlogloss:1.87583\n",
            "[101]\tvalidation_0-merror:0.17664\tvalidation_0-mlogloss:1.70580\tvalidation_1-merror:0.28153\tvalidation_1-mlogloss:1.87000\n",
            "[102]\tvalidation_0-merror:0.17720\tvalidation_0-mlogloss:1.69940\tvalidation_1-merror:0.28153\tvalidation_1-mlogloss:1.86409\n",
            "[103]\tvalidation_0-merror:0.17664\tvalidation_0-mlogloss:1.69342\tvalidation_1-merror:0.28153\tvalidation_1-mlogloss:1.85859\n",
            "[104]\tvalidation_0-merror:0.17664\tvalidation_0-mlogloss:1.68769\tvalidation_1-merror:0.28153\tvalidation_1-mlogloss:1.85288\n",
            "[105]\tvalidation_0-merror:0.17607\tvalidation_0-mlogloss:1.68144\tvalidation_1-merror:0.28153\tvalidation_1-mlogloss:1.84622\n",
            "[106]\tvalidation_0-merror:0.17664\tvalidation_0-mlogloss:1.67649\tvalidation_1-merror:0.28153\tvalidation_1-mlogloss:1.84147\n",
            "[107]\tvalidation_0-merror:0.17720\tvalidation_0-mlogloss:1.67040\tvalidation_1-merror:0.28153\tvalidation_1-mlogloss:1.83516\n",
            "[108]\tvalidation_0-merror:0.17607\tvalidation_0-mlogloss:1.66494\tvalidation_1-merror:0.27928\tvalidation_1-mlogloss:1.83013\n",
            "[109]\tvalidation_0-merror:0.17551\tvalidation_0-mlogloss:1.65936\tvalidation_1-merror:0.27928\tvalidation_1-mlogloss:1.82501\n",
            "[110]\tvalidation_0-merror:0.17551\tvalidation_0-mlogloss:1.65344\tvalidation_1-merror:0.27928\tvalidation_1-mlogloss:1.81939\n",
            "[111]\tvalidation_0-merror:0.17607\tvalidation_0-mlogloss:1.64889\tvalidation_1-merror:0.27928\tvalidation_1-mlogloss:1.81522\n",
            "[112]\tvalidation_0-merror:0.17494\tvalidation_0-mlogloss:1.64287\tvalidation_1-merror:0.27928\tvalidation_1-mlogloss:1.80938\n",
            "[113]\tvalidation_0-merror:0.17494\tvalidation_0-mlogloss:1.63661\tvalidation_1-merror:0.27928\tvalidation_1-mlogloss:1.80312\n",
            "[114]\tvalidation_0-merror:0.17438\tvalidation_0-mlogloss:1.63150\tvalidation_1-merror:0.27928\tvalidation_1-mlogloss:1.79800\n",
            "[115]\tvalidation_0-merror:0.17551\tvalidation_0-mlogloss:1.62603\tvalidation_1-merror:0.27928\tvalidation_1-mlogloss:1.79266\n",
            "[116]\tvalidation_0-merror:0.17381\tvalidation_0-mlogloss:1.62102\tvalidation_1-merror:0.27928\tvalidation_1-mlogloss:1.78816\n",
            "[117]\tvalidation_0-merror:0.17494\tvalidation_0-mlogloss:1.61534\tvalidation_1-merror:0.27928\tvalidation_1-mlogloss:1.78209\n",
            "[118]\tvalidation_0-merror:0.17494\tvalidation_0-mlogloss:1.61029\tvalidation_1-merror:0.28153\tvalidation_1-mlogloss:1.77700\n",
            "[119]\tvalidation_0-merror:0.17494\tvalidation_0-mlogloss:1.60493\tvalidation_1-merror:0.27928\tvalidation_1-mlogloss:1.77216\n",
            "[120]\tvalidation_0-merror:0.17438\tvalidation_0-mlogloss:1.59933\tvalidation_1-merror:0.27928\tvalidation_1-mlogloss:1.76670\n",
            "[121]\tvalidation_0-merror:0.17438\tvalidation_0-mlogloss:1.59449\tvalidation_1-merror:0.27928\tvalidation_1-mlogloss:1.76199\n",
            "[122]\tvalidation_0-merror:0.17438\tvalidation_0-mlogloss:1.58949\tvalidation_1-merror:0.27928\tvalidation_1-mlogloss:1.75714\n",
            "[123]\tvalidation_0-merror:0.17438\tvalidation_0-mlogloss:1.58400\tvalidation_1-merror:0.27928\tvalidation_1-mlogloss:1.75129\n",
            "[124]\tvalidation_0-merror:0.17381\tvalidation_0-mlogloss:1.57843\tvalidation_1-merror:0.27928\tvalidation_1-mlogloss:1.74610\n",
            "[125]\tvalidation_0-merror:0.17438\tvalidation_0-mlogloss:1.57378\tvalidation_1-merror:0.27928\tvalidation_1-mlogloss:1.74171\n",
            "[126]\tvalidation_0-merror:0.17494\tvalidation_0-mlogloss:1.56950\tvalidation_1-merror:0.27928\tvalidation_1-mlogloss:1.73721\n",
            "[127]\tvalidation_0-merror:0.17494\tvalidation_0-mlogloss:1.56515\tvalidation_1-merror:0.27928\tvalidation_1-mlogloss:1.73298\n",
            "[128]\tvalidation_0-merror:0.17551\tvalidation_0-mlogloss:1.56029\tvalidation_1-merror:0.27928\tvalidation_1-mlogloss:1.72825\n",
            "[129]\tvalidation_0-merror:0.17551\tvalidation_0-mlogloss:1.55537\tvalidation_1-merror:0.28153\tvalidation_1-mlogloss:1.72298\n",
            "[130]\tvalidation_0-merror:0.17551\tvalidation_0-mlogloss:1.55128\tvalidation_1-merror:0.27928\tvalidation_1-mlogloss:1.71893\n",
            "[131]\tvalidation_0-merror:0.17664\tvalidation_0-mlogloss:1.54666\tvalidation_1-merror:0.28153\tvalidation_1-mlogloss:1.71445\n",
            "[132]\tvalidation_0-merror:0.17664\tvalidation_0-mlogloss:1.54190\tvalidation_1-merror:0.28153\tvalidation_1-mlogloss:1.70950\n",
            "[133]\tvalidation_0-merror:0.17607\tvalidation_0-mlogloss:1.53795\tvalidation_1-merror:0.27928\tvalidation_1-mlogloss:1.70572\n",
            "[134]\tvalidation_0-merror:0.17664\tvalidation_0-mlogloss:1.53306\tvalidation_1-merror:0.28153\tvalidation_1-mlogloss:1.70068\n",
            "[135]\tvalidation_0-merror:0.17720\tvalidation_0-mlogloss:1.52784\tvalidation_1-merror:0.28153\tvalidation_1-mlogloss:1.69526\n",
            "[136]\tvalidation_0-merror:0.17664\tvalidation_0-mlogloss:1.52316\tvalidation_1-merror:0.28153\tvalidation_1-mlogloss:1.69017\n",
            "[137]\tvalidation_0-merror:0.17664\tvalidation_0-mlogloss:1.51914\tvalidation_1-merror:0.28153\tvalidation_1-mlogloss:1.68606\n",
            "[138]\tvalidation_0-merror:0.17664\tvalidation_0-mlogloss:1.51536\tvalidation_1-merror:0.28153\tvalidation_1-mlogloss:1.68238\n",
            "[139]\tvalidation_0-merror:0.17889\tvalidation_0-mlogloss:1.51161\tvalidation_1-merror:0.28153\tvalidation_1-mlogloss:1.67901\n",
            "[140]\tvalidation_0-merror:0.17833\tvalidation_0-mlogloss:1.50800\tvalidation_1-merror:0.27928\tvalidation_1-mlogloss:1.67556\n",
            "[141]\tvalidation_0-merror:0.17664\tvalidation_0-mlogloss:1.50371\tvalidation_1-merror:0.27703\tvalidation_1-mlogloss:1.67166\n",
            "[142]\tvalidation_0-merror:0.17720\tvalidation_0-mlogloss:1.49981\tvalidation_1-merror:0.27928\tvalidation_1-mlogloss:1.66772\n",
            "[143]\tvalidation_0-merror:0.17664\tvalidation_0-mlogloss:1.49619\tvalidation_1-merror:0.27928\tvalidation_1-mlogloss:1.66396\n",
            "[144]\tvalidation_0-merror:0.17833\tvalidation_0-mlogloss:1.49180\tvalidation_1-merror:0.27703\tvalidation_1-mlogloss:1.65951\n",
            "[145]\tvalidation_0-merror:0.17889\tvalidation_0-mlogloss:1.48793\tvalidation_1-merror:0.27703\tvalidation_1-mlogloss:1.65562\n",
            "[146]\tvalidation_0-merror:0.17833\tvalidation_0-mlogloss:1.48425\tvalidation_1-merror:0.27703\tvalidation_1-mlogloss:1.65195\n",
            "[147]\tvalidation_0-merror:0.17889\tvalidation_0-mlogloss:1.48093\tvalidation_1-merror:0.27703\tvalidation_1-mlogloss:1.64890\n",
            "[148]\tvalidation_0-merror:0.17946\tvalidation_0-mlogloss:1.47773\tvalidation_1-merror:0.27928\tvalidation_1-mlogloss:1.64574\n",
            "[149]\tvalidation_0-merror:0.17833\tvalidation_0-mlogloss:1.47331\tvalidation_1-merror:0.28153\tvalidation_1-mlogloss:1.64115\n",
            "[150]\tvalidation_0-merror:0.17777\tvalidation_0-mlogloss:1.47067\tvalidation_1-merror:0.28153\tvalidation_1-mlogloss:1.63842\n",
            "[151]\tvalidation_0-merror:0.17664\tvalidation_0-mlogloss:1.46710\tvalidation_1-merror:0.28153\tvalidation_1-mlogloss:1.63500\n",
            "[152]\tvalidation_0-merror:0.17664\tvalidation_0-mlogloss:1.46310\tvalidation_1-merror:0.28153\tvalidation_1-mlogloss:1.63091\n",
            "[153]\tvalidation_0-merror:0.17607\tvalidation_0-mlogloss:1.45901\tvalidation_1-merror:0.28153\tvalidation_1-mlogloss:1.62672\n",
            "[154]\tvalidation_0-merror:0.17607\tvalidation_0-mlogloss:1.45535\tvalidation_1-merror:0.27928\tvalidation_1-mlogloss:1.62282\n",
            "[155]\tvalidation_0-merror:0.17551\tvalidation_0-mlogloss:1.45174\tvalidation_1-merror:0.27928\tvalidation_1-mlogloss:1.61927\n",
            "[156]\tvalidation_0-merror:0.17551\tvalidation_0-mlogloss:1.44711\tvalidation_1-merror:0.27928\tvalidation_1-mlogloss:1.61448\n",
            "[157]\tvalidation_0-merror:0.17551\tvalidation_0-mlogloss:1.44341\tvalidation_1-merror:0.27928\tvalidation_1-mlogloss:1.61048\n",
            "[158]\tvalidation_0-merror:0.17664\tvalidation_0-mlogloss:1.43988\tvalidation_1-merror:0.27928\tvalidation_1-mlogloss:1.60697\n",
            "[159]\tvalidation_0-merror:0.17607\tvalidation_0-mlogloss:1.43668\tvalidation_1-merror:0.27477\tvalidation_1-mlogloss:1.60325\n",
            "[160]\tvalidation_0-merror:0.17777\tvalidation_0-mlogloss:1.43326\tvalidation_1-merror:0.27477\tvalidation_1-mlogloss:1.59970\n",
            "[161]\tvalidation_0-merror:0.17777\tvalidation_0-mlogloss:1.42983\tvalidation_1-merror:0.27477\tvalidation_1-mlogloss:1.59636\n",
            "[162]\tvalidation_0-merror:0.17889\tvalidation_0-mlogloss:1.42584\tvalidation_1-merror:0.27252\tvalidation_1-mlogloss:1.59263\n",
            "[163]\tvalidation_0-merror:0.17889\tvalidation_0-mlogloss:1.42305\tvalidation_1-merror:0.27477\tvalidation_1-mlogloss:1.58958\n",
            "[164]\tvalidation_0-merror:0.17889\tvalidation_0-mlogloss:1.41927\tvalidation_1-merror:0.27027\tvalidation_1-mlogloss:1.58569\n",
            "[165]\tvalidation_0-merror:0.17777\tvalidation_0-mlogloss:1.41532\tvalidation_1-merror:0.27027\tvalidation_1-mlogloss:1.58183\n",
            "[166]\tvalidation_0-merror:0.17833\tvalidation_0-mlogloss:1.41146\tvalidation_1-merror:0.27027\tvalidation_1-mlogloss:1.57759\n",
            "[167]\tvalidation_0-merror:0.17777\tvalidation_0-mlogloss:1.40854\tvalidation_1-merror:0.27027\tvalidation_1-mlogloss:1.57462\n",
            "[168]\tvalidation_0-merror:0.17833\tvalidation_0-mlogloss:1.40561\tvalidation_1-merror:0.27027\tvalidation_1-mlogloss:1.57147\n",
            "[169]\tvalidation_0-merror:0.17833\tvalidation_0-mlogloss:1.40198\tvalidation_1-merror:0.26802\tvalidation_1-mlogloss:1.56787\n",
            "[170]\tvalidation_0-merror:0.17777\tvalidation_0-mlogloss:1.39820\tvalidation_1-merror:0.26802\tvalidation_1-mlogloss:1.56419\n",
            "[171]\tvalidation_0-merror:0.17777\tvalidation_0-mlogloss:1.39452\tvalidation_1-merror:0.26802\tvalidation_1-mlogloss:1.56050\n",
            "[172]\tvalidation_0-merror:0.17720\tvalidation_0-mlogloss:1.39093\tvalidation_1-merror:0.26802\tvalidation_1-mlogloss:1.55687\n",
            "[173]\tvalidation_0-merror:0.17720\tvalidation_0-mlogloss:1.38738\tvalidation_1-merror:0.26577\tvalidation_1-mlogloss:1.55319\n",
            "[174]\tvalidation_0-merror:0.17720\tvalidation_0-mlogloss:1.38462\tvalidation_1-merror:0.26577\tvalidation_1-mlogloss:1.55019\n",
            "[175]\tvalidation_0-merror:0.17720\tvalidation_0-mlogloss:1.38130\tvalidation_1-merror:0.26577\tvalidation_1-mlogloss:1.54677\n",
            "[176]\tvalidation_0-merror:0.17720\tvalidation_0-mlogloss:1.37874\tvalidation_1-merror:0.26577\tvalidation_1-mlogloss:1.54449\n",
            "[177]\tvalidation_0-merror:0.17720\tvalidation_0-mlogloss:1.37608\tvalidation_1-merror:0.26577\tvalidation_1-mlogloss:1.54157\n",
            "[178]\tvalidation_0-merror:0.17777\tvalidation_0-mlogloss:1.37340\tvalidation_1-merror:0.26577\tvalidation_1-mlogloss:1.53893\n",
            "[179]\tvalidation_0-merror:0.17777\tvalidation_0-mlogloss:1.37013\tvalidation_1-merror:0.26351\tvalidation_1-mlogloss:1.53517\n",
            "[180]\tvalidation_0-merror:0.17720\tvalidation_0-mlogloss:1.36748\tvalidation_1-merror:0.26351\tvalidation_1-mlogloss:1.53229\n",
            "[181]\tvalidation_0-merror:0.17720\tvalidation_0-mlogloss:1.36393\tvalidation_1-merror:0.26351\tvalidation_1-mlogloss:1.52872\n",
            "[182]\tvalidation_0-merror:0.17720\tvalidation_0-mlogloss:1.36129\tvalidation_1-merror:0.26351\tvalidation_1-mlogloss:1.52608\n",
            "[183]\tvalidation_0-merror:0.17777\tvalidation_0-mlogloss:1.35865\tvalidation_1-merror:0.26351\tvalidation_1-mlogloss:1.52358\n",
            "[184]\tvalidation_0-merror:0.17777\tvalidation_0-mlogloss:1.35529\tvalidation_1-merror:0.26126\tvalidation_1-mlogloss:1.52004\n",
            "[185]\tvalidation_0-merror:0.17720\tvalidation_0-mlogloss:1.35271\tvalidation_1-merror:0.25901\tvalidation_1-mlogloss:1.51730\n",
            "[186]\tvalidation_0-merror:0.17720\tvalidation_0-mlogloss:1.34907\tvalidation_1-merror:0.26126\tvalidation_1-mlogloss:1.51370\n",
            "[187]\tvalidation_0-merror:0.17777\tvalidation_0-mlogloss:1.34595\tvalidation_1-merror:0.26126\tvalidation_1-mlogloss:1.51062\n",
            "[188]\tvalidation_0-merror:0.17777\tvalidation_0-mlogloss:1.34343\tvalidation_1-merror:0.26126\tvalidation_1-mlogloss:1.50802\n",
            "[189]\tvalidation_0-merror:0.17777\tvalidation_0-mlogloss:1.34046\tvalidation_1-merror:0.26126\tvalidation_1-mlogloss:1.50503\n",
            "[190]\tvalidation_0-merror:0.17777\tvalidation_0-mlogloss:1.33798\tvalidation_1-merror:0.26126\tvalidation_1-mlogloss:1.50231\n",
            "[191]\tvalidation_0-merror:0.17833\tvalidation_0-mlogloss:1.33562\tvalidation_1-merror:0.26126\tvalidation_1-mlogloss:1.50014\n",
            "[192]\tvalidation_0-merror:0.17833\tvalidation_0-mlogloss:1.33291\tvalidation_1-merror:0.26126\tvalidation_1-mlogloss:1.49741\n",
            "[193]\tvalidation_0-merror:0.17833\tvalidation_0-mlogloss:1.33058\tvalidation_1-merror:0.26126\tvalidation_1-mlogloss:1.49498\n",
            "[194]\tvalidation_0-merror:0.17833\tvalidation_0-mlogloss:1.32848\tvalidation_1-merror:0.26351\tvalidation_1-mlogloss:1.49298\n",
            "[195]\tvalidation_0-merror:0.17833\tvalidation_0-mlogloss:1.32587\tvalidation_1-merror:0.26351\tvalidation_1-mlogloss:1.49014\n",
            "[196]\tvalidation_0-merror:0.17833\tvalidation_0-mlogloss:1.32387\tvalidation_1-merror:0.26351\tvalidation_1-mlogloss:1.48831\n",
            "[197]\tvalidation_0-merror:0.17833\tvalidation_0-mlogloss:1.32151\tvalidation_1-merror:0.26351\tvalidation_1-mlogloss:1.48597\n",
            "[198]\tvalidation_0-merror:0.17777\tvalidation_0-mlogloss:1.31921\tvalidation_1-merror:0.26126\tvalidation_1-mlogloss:1.48359\n",
            "[199]\tvalidation_0-merror:0.17777\tvalidation_0-mlogloss:1.31657\tvalidation_1-merror:0.26126\tvalidation_1-mlogloss:1.48067\n",
            "[200]\tvalidation_0-merror:0.17777\tvalidation_0-mlogloss:1.31419\tvalidation_1-merror:0.26126\tvalidation_1-mlogloss:1.47822\n",
            "[201]\tvalidation_0-merror:0.17833\tvalidation_0-mlogloss:1.31137\tvalidation_1-merror:0.26126\tvalidation_1-mlogloss:1.47521\n",
            "[202]\tvalidation_0-merror:0.17720\tvalidation_0-mlogloss:1.30748\tvalidation_1-merror:0.26126\tvalidation_1-mlogloss:1.47110\n",
            "[203]\tvalidation_0-merror:0.17720\tvalidation_0-mlogloss:1.30519\tvalidation_1-merror:0.26126\tvalidation_1-mlogloss:1.46876\n",
            "[204]\tvalidation_0-merror:0.17664\tvalidation_0-mlogloss:1.30177\tvalidation_1-merror:0.26126\tvalidation_1-mlogloss:1.46544\n",
            "[205]\tvalidation_0-merror:0.17664\tvalidation_0-mlogloss:1.29877\tvalidation_1-merror:0.26126\tvalidation_1-mlogloss:1.46236\n",
            "[206]\tvalidation_0-merror:0.17720\tvalidation_0-mlogloss:1.29568\tvalidation_1-merror:0.26126\tvalidation_1-mlogloss:1.45921\n",
            "[207]\tvalidation_0-merror:0.17607\tvalidation_0-mlogloss:1.29321\tvalidation_1-merror:0.26126\tvalidation_1-mlogloss:1.45655\n",
            "[208]\tvalidation_0-merror:0.17607\tvalidation_0-mlogloss:1.29111\tvalidation_1-merror:0.26126\tvalidation_1-mlogloss:1.45456\n",
            "[209]\tvalidation_0-merror:0.17551\tvalidation_0-mlogloss:1.28854\tvalidation_1-merror:0.26126\tvalidation_1-mlogloss:1.45205\n",
            "[210]\tvalidation_0-merror:0.17720\tvalidation_0-mlogloss:1.28638\tvalidation_1-merror:0.26126\tvalidation_1-mlogloss:1.44988\n",
            "[211]\tvalidation_0-merror:0.17720\tvalidation_0-mlogloss:1.28433\tvalidation_1-merror:0.26126\tvalidation_1-mlogloss:1.44768\n",
            "[212]\tvalidation_0-merror:0.17720\tvalidation_0-mlogloss:1.28231\tvalidation_1-merror:0.26126\tvalidation_1-mlogloss:1.44563\n",
            "[213]\tvalidation_0-merror:0.17664\tvalidation_0-mlogloss:1.27983\tvalidation_1-merror:0.26126\tvalidation_1-mlogloss:1.44318\n",
            "[214]\tvalidation_0-merror:0.17777\tvalidation_0-mlogloss:1.27719\tvalidation_1-merror:0.26126\tvalidation_1-mlogloss:1.44033\n",
            "[215]\tvalidation_0-merror:0.17720\tvalidation_0-mlogloss:1.27488\tvalidation_1-merror:0.26126\tvalidation_1-mlogloss:1.43810\n",
            "[216]\tvalidation_0-merror:0.17720\tvalidation_0-mlogloss:1.27296\tvalidation_1-merror:0.26126\tvalidation_1-mlogloss:1.43580\n",
            "[217]\tvalidation_0-merror:0.17607\tvalidation_0-mlogloss:1.27100\tvalidation_1-merror:0.26126\tvalidation_1-mlogloss:1.43371\n",
            "[218]\tvalidation_0-merror:0.17720\tvalidation_0-mlogloss:1.26819\tvalidation_1-merror:0.26126\tvalidation_1-mlogloss:1.43101\n",
            "[219]\tvalidation_0-merror:0.17664\tvalidation_0-mlogloss:1.26561\tvalidation_1-merror:0.26126\tvalidation_1-mlogloss:1.42820\n",
            "[220]\tvalidation_0-merror:0.17664\tvalidation_0-mlogloss:1.26315\tvalidation_1-merror:0.26126\tvalidation_1-mlogloss:1.42543\n",
            "[221]\tvalidation_0-merror:0.17664\tvalidation_0-mlogloss:1.26118\tvalidation_1-merror:0.25901\tvalidation_1-mlogloss:1.42327\n",
            "[222]\tvalidation_0-merror:0.17664\tvalidation_0-mlogloss:1.25967\tvalidation_1-merror:0.25901\tvalidation_1-mlogloss:1.42159\n",
            "[223]\tvalidation_0-merror:0.17607\tvalidation_0-mlogloss:1.25821\tvalidation_1-merror:0.26126\tvalidation_1-mlogloss:1.42044\n",
            "[224]\tvalidation_0-merror:0.17664\tvalidation_0-mlogloss:1.25620\tvalidation_1-merror:0.25901\tvalidation_1-mlogloss:1.41825\n",
            "[225]\tvalidation_0-merror:0.17664\tvalidation_0-mlogloss:1.25430\tvalidation_1-merror:0.25901\tvalidation_1-mlogloss:1.41616\n",
            "[226]\tvalidation_0-merror:0.17664\tvalidation_0-mlogloss:1.25241\tvalidation_1-merror:0.25901\tvalidation_1-mlogloss:1.41423\n",
            "[227]\tvalidation_0-merror:0.17720\tvalidation_0-mlogloss:1.25053\tvalidation_1-merror:0.26126\tvalidation_1-mlogloss:1.41249\n",
            "[228]\tvalidation_0-merror:0.17777\tvalidation_0-mlogloss:1.24815\tvalidation_1-merror:0.26126\tvalidation_1-mlogloss:1.41005\n",
            "[229]\tvalidation_0-merror:0.17777\tvalidation_0-mlogloss:1.24624\tvalidation_1-merror:0.26126\tvalidation_1-mlogloss:1.40803\n",
            "[230]\tvalidation_0-merror:0.17720\tvalidation_0-mlogloss:1.24399\tvalidation_1-merror:0.26126\tvalidation_1-mlogloss:1.40584\n",
            "[231]\tvalidation_0-merror:0.17720\tvalidation_0-mlogloss:1.24232\tvalidation_1-merror:0.26126\tvalidation_1-mlogloss:1.40407\n",
            "[232]\tvalidation_0-merror:0.17777\tvalidation_0-mlogloss:1.24027\tvalidation_1-merror:0.26351\tvalidation_1-mlogloss:1.40197\n",
            "[233]\tvalidation_0-merror:0.17664\tvalidation_0-mlogloss:1.23805\tvalidation_1-merror:0.26126\tvalidation_1-mlogloss:1.39955\n",
            "[234]\tvalidation_0-merror:0.17720\tvalidation_0-mlogloss:1.23600\tvalidation_1-merror:0.26351\tvalidation_1-mlogloss:1.39740\n",
            "[235]\tvalidation_0-merror:0.17720\tvalidation_0-mlogloss:1.23394\tvalidation_1-merror:0.26351\tvalidation_1-mlogloss:1.39522\n",
            "[236]\tvalidation_0-merror:0.17720\tvalidation_0-mlogloss:1.23195\tvalidation_1-merror:0.26351\tvalidation_1-mlogloss:1.39319\n",
            "[237]\tvalidation_0-merror:0.17720\tvalidation_0-mlogloss:1.23008\tvalidation_1-merror:0.26126\tvalidation_1-mlogloss:1.39143\n",
            "[238]\tvalidation_0-merror:0.17720\tvalidation_0-mlogloss:1.22867\tvalidation_1-merror:0.26126\tvalidation_1-mlogloss:1.38978\n",
            "[239]\tvalidation_0-merror:0.17720\tvalidation_0-mlogloss:1.22703\tvalidation_1-merror:0.26126\tvalidation_1-mlogloss:1.38814\n",
            "[240]\tvalidation_0-merror:0.17720\tvalidation_0-mlogloss:1.22503\tvalidation_1-merror:0.26126\tvalidation_1-mlogloss:1.38588\n",
            "[241]\tvalidation_0-merror:0.17664\tvalidation_0-mlogloss:1.22341\tvalidation_1-merror:0.26126\tvalidation_1-mlogloss:1.38431\n",
            "[242]\tvalidation_0-merror:0.17720\tvalidation_0-mlogloss:1.22173\tvalidation_1-merror:0.26126\tvalidation_1-mlogloss:1.38263\n",
            "[243]\tvalidation_0-merror:0.17664\tvalidation_0-mlogloss:1.21994\tvalidation_1-merror:0.26126\tvalidation_1-mlogloss:1.38092\n",
            "[244]\tvalidation_0-merror:0.17720\tvalidation_0-mlogloss:1.21828\tvalidation_1-merror:0.26126\tvalidation_1-mlogloss:1.37910\n",
            "[245]\tvalidation_0-merror:0.17720\tvalidation_0-mlogloss:1.21646\tvalidation_1-merror:0.26126\tvalidation_1-mlogloss:1.37729\n",
            "[246]\tvalidation_0-merror:0.17720\tvalidation_0-mlogloss:1.21490\tvalidation_1-merror:0.26126\tvalidation_1-mlogloss:1.37553\n",
            "[247]\tvalidation_0-merror:0.17720\tvalidation_0-mlogloss:1.21279\tvalidation_1-merror:0.26126\tvalidation_1-mlogloss:1.37340\n",
            "[248]\tvalidation_0-merror:0.17720\tvalidation_0-mlogloss:1.21046\tvalidation_1-merror:0.26126\tvalidation_1-mlogloss:1.37097\n",
            "[249]\tvalidation_0-merror:0.17720\tvalidation_0-mlogloss:1.20818\tvalidation_1-merror:0.26351\tvalidation_1-mlogloss:1.36865\n",
            "[250]\tvalidation_0-merror:0.17664\tvalidation_0-mlogloss:1.20656\tvalidation_1-merror:0.26577\tvalidation_1-mlogloss:1.36681\n",
            "[251]\tvalidation_0-merror:0.17664\tvalidation_0-mlogloss:1.20483\tvalidation_1-merror:0.26577\tvalidation_1-mlogloss:1.36518\n",
            "[252]\tvalidation_0-merror:0.17777\tvalidation_0-mlogloss:1.20310\tvalidation_1-merror:0.26577\tvalidation_1-mlogloss:1.36328\n",
            "[253]\tvalidation_0-merror:0.17664\tvalidation_0-mlogloss:1.20145\tvalidation_1-merror:0.26577\tvalidation_1-mlogloss:1.36151\n",
            "[254]\tvalidation_0-merror:0.17720\tvalidation_0-mlogloss:1.19993\tvalidation_1-merror:0.26126\tvalidation_1-mlogloss:1.36006\n",
            "[255]\tvalidation_0-merror:0.17664\tvalidation_0-mlogloss:1.19741\tvalidation_1-merror:0.26351\tvalidation_1-mlogloss:1.35749\n",
            "[256]\tvalidation_0-merror:0.17664\tvalidation_0-mlogloss:1.19548\tvalidation_1-merror:0.26351\tvalidation_1-mlogloss:1.35514\n",
            "[257]\tvalidation_0-merror:0.17720\tvalidation_0-mlogloss:1.19375\tvalidation_1-merror:0.26351\tvalidation_1-mlogloss:1.35325\n",
            "[258]\tvalidation_0-merror:0.17720\tvalidation_0-mlogloss:1.19215\tvalidation_1-merror:0.26351\tvalidation_1-mlogloss:1.35147\n",
            "[259]\tvalidation_0-merror:0.17833\tvalidation_0-mlogloss:1.19083\tvalidation_1-merror:0.26351\tvalidation_1-mlogloss:1.35031\n",
            "[260]\tvalidation_0-merror:0.17720\tvalidation_0-mlogloss:1.18894\tvalidation_1-merror:0.26351\tvalidation_1-mlogloss:1.34851\n",
            "[261]\tvalidation_0-merror:0.17777\tvalidation_0-mlogloss:1.18784\tvalidation_1-merror:0.26351\tvalidation_1-mlogloss:1.34742\n",
            "[262]\tvalidation_0-merror:0.17833\tvalidation_0-mlogloss:1.18682\tvalidation_1-merror:0.26351\tvalidation_1-mlogloss:1.34631\n",
            "[263]\tvalidation_0-merror:0.17664\tvalidation_0-mlogloss:1.18575\tvalidation_1-merror:0.26577\tvalidation_1-mlogloss:1.34510\n",
            "[264]\tvalidation_0-merror:0.17720\tvalidation_0-mlogloss:1.18450\tvalidation_1-merror:0.26351\tvalidation_1-mlogloss:1.34387\n",
            "[265]\tvalidation_0-merror:0.17664\tvalidation_0-mlogloss:1.18314\tvalidation_1-merror:0.26577\tvalidation_1-mlogloss:1.34255\n",
            "[266]\tvalidation_0-merror:0.17664\tvalidation_0-mlogloss:1.18196\tvalidation_1-merror:0.26351\tvalidation_1-mlogloss:1.34125\n",
            "[267]\tvalidation_0-merror:0.17664\tvalidation_0-mlogloss:1.18025\tvalidation_1-merror:0.26126\tvalidation_1-mlogloss:1.33938\n",
            "[268]\tvalidation_0-merror:0.17664\tvalidation_0-mlogloss:1.17834\tvalidation_1-merror:0.26126\tvalidation_1-mlogloss:1.33732\n",
            "[269]\tvalidation_0-merror:0.17664\tvalidation_0-mlogloss:1.17614\tvalidation_1-merror:0.26351\tvalidation_1-mlogloss:1.33503\n",
            "[270]\tvalidation_0-merror:0.17720\tvalidation_0-mlogloss:1.17454\tvalidation_1-merror:0.26351\tvalidation_1-mlogloss:1.33317\n",
            "[271]\tvalidation_0-merror:0.17607\tvalidation_0-mlogloss:1.17255\tvalidation_1-merror:0.25901\tvalidation_1-mlogloss:1.33111\n",
            "[272]\tvalidation_0-merror:0.17664\tvalidation_0-mlogloss:1.17135\tvalidation_1-merror:0.25901\tvalidation_1-mlogloss:1.32986\n",
            "[273]\tvalidation_0-merror:0.17664\tvalidation_0-mlogloss:1.17008\tvalidation_1-merror:0.25901\tvalidation_1-mlogloss:1.32844\n",
            "[274]\tvalidation_0-merror:0.17720\tvalidation_0-mlogloss:1.16866\tvalidation_1-merror:0.25901\tvalidation_1-mlogloss:1.32689\n",
            "[275]\tvalidation_0-merror:0.17720\tvalidation_0-mlogloss:1.16694\tvalidation_1-merror:0.25901\tvalidation_1-mlogloss:1.32523\n",
            "[276]\tvalidation_0-merror:0.17777\tvalidation_0-mlogloss:1.16517\tvalidation_1-merror:0.25901\tvalidation_1-mlogloss:1.32344\n",
            "[277]\tvalidation_0-merror:0.17777\tvalidation_0-mlogloss:1.16327\tvalidation_1-merror:0.25901\tvalidation_1-mlogloss:1.32173\n",
            "[278]\tvalidation_0-merror:0.17720\tvalidation_0-mlogloss:1.16217\tvalidation_1-merror:0.25901\tvalidation_1-mlogloss:1.32065\n",
            "[279]\tvalidation_0-merror:0.17720\tvalidation_0-mlogloss:1.16041\tvalidation_1-merror:0.26126\tvalidation_1-mlogloss:1.31893\n",
            "[280]\tvalidation_0-merror:0.17720\tvalidation_0-mlogloss:1.15928\tvalidation_1-merror:0.26126\tvalidation_1-mlogloss:1.31756\n",
            "[281]\tvalidation_0-merror:0.17664\tvalidation_0-mlogloss:1.15796\tvalidation_1-merror:0.26126\tvalidation_1-mlogloss:1.31617\n",
            "[282]\tvalidation_0-merror:0.17664\tvalidation_0-mlogloss:1.15623\tvalidation_1-merror:0.26126\tvalidation_1-mlogloss:1.31432\n",
            "[283]\tvalidation_0-merror:0.17664\tvalidation_0-mlogloss:1.15465\tvalidation_1-merror:0.26126\tvalidation_1-mlogloss:1.31259\n",
            "[284]\tvalidation_0-merror:0.17720\tvalidation_0-mlogloss:1.15327\tvalidation_1-merror:0.26126\tvalidation_1-mlogloss:1.31107\n",
            "[285]\tvalidation_0-merror:0.17664\tvalidation_0-mlogloss:1.15116\tvalidation_1-merror:0.26126\tvalidation_1-mlogloss:1.30891\n",
            "[286]\tvalidation_0-merror:0.17664\tvalidation_0-mlogloss:1.14980\tvalidation_1-merror:0.26126\tvalidation_1-mlogloss:1.30752\n",
            "[287]\tvalidation_0-merror:0.17720\tvalidation_0-mlogloss:1.14839\tvalidation_1-merror:0.26126\tvalidation_1-mlogloss:1.30617\n",
            "[288]\tvalidation_0-merror:0.17720\tvalidation_0-mlogloss:1.14688\tvalidation_1-merror:0.26126\tvalidation_1-mlogloss:1.30482\n",
            "[289]\tvalidation_0-merror:0.17720\tvalidation_0-mlogloss:1.14528\tvalidation_1-merror:0.26126\tvalidation_1-mlogloss:1.30309\n",
            "[290]\tvalidation_0-merror:0.17720\tvalidation_0-mlogloss:1.14446\tvalidation_1-merror:0.26126\tvalidation_1-mlogloss:1.30222\n",
            "[291]\tvalidation_0-merror:0.17720\tvalidation_0-mlogloss:1.14306\tvalidation_1-merror:0.26126\tvalidation_1-mlogloss:1.30068\n",
            "[292]\tvalidation_0-merror:0.17720\tvalidation_0-mlogloss:1.14166\tvalidation_1-merror:0.26126\tvalidation_1-mlogloss:1.29895\n",
            "[293]\tvalidation_0-merror:0.17777\tvalidation_0-mlogloss:1.14065\tvalidation_1-merror:0.26126\tvalidation_1-mlogloss:1.29797\n",
            "[294]\tvalidation_0-merror:0.17720\tvalidation_0-mlogloss:1.13914\tvalidation_1-merror:0.26126\tvalidation_1-mlogloss:1.29649\n",
            "[295]\tvalidation_0-merror:0.17720\tvalidation_0-mlogloss:1.13742\tvalidation_1-merror:0.26126\tvalidation_1-mlogloss:1.29478\n",
            "[296]\tvalidation_0-merror:0.17777\tvalidation_0-mlogloss:1.13562\tvalidation_1-merror:0.26126\tvalidation_1-mlogloss:1.29277\n",
            "[297]\tvalidation_0-merror:0.17720\tvalidation_0-mlogloss:1.13414\tvalidation_1-merror:0.26126\tvalidation_1-mlogloss:1.29115\n",
            "[298]\tvalidation_0-merror:0.17777\tvalidation_0-mlogloss:1.13249\tvalidation_1-merror:0.26351\tvalidation_1-mlogloss:1.28961\n",
            "[299]\tvalidation_0-merror:0.17777\tvalidation_0-mlogloss:1.13150\tvalidation_1-merror:0.26351\tvalidation_1-mlogloss:1.28853\n",
            "[300]\tvalidation_0-merror:0.17777\tvalidation_0-mlogloss:1.13034\tvalidation_1-merror:0.26351\tvalidation_1-mlogloss:1.28717\n",
            "[301]\tvalidation_0-merror:0.17720\tvalidation_0-mlogloss:1.12927\tvalidation_1-merror:0.26351\tvalidation_1-mlogloss:1.28609\n",
            "[302]\tvalidation_0-merror:0.17777\tvalidation_0-mlogloss:1.12843\tvalidation_1-merror:0.26351\tvalidation_1-mlogloss:1.28534\n",
            "[303]\tvalidation_0-merror:0.17777\tvalidation_0-mlogloss:1.12726\tvalidation_1-merror:0.26351\tvalidation_1-mlogloss:1.28405\n",
            "[304]\tvalidation_0-merror:0.17777\tvalidation_0-mlogloss:1.12593\tvalidation_1-merror:0.26577\tvalidation_1-mlogloss:1.28262\n",
            "[305]\tvalidation_0-merror:0.17720\tvalidation_0-mlogloss:1.12470\tvalidation_1-merror:0.26577\tvalidation_1-mlogloss:1.28133\n",
            "[306]\tvalidation_0-merror:0.17720\tvalidation_0-mlogloss:1.12319\tvalidation_1-merror:0.26577\tvalidation_1-mlogloss:1.27982\n",
            "[307]\tvalidation_0-merror:0.17720\tvalidation_0-mlogloss:1.12186\tvalidation_1-merror:0.26577\tvalidation_1-mlogloss:1.27845\n",
            "[308]\tvalidation_0-merror:0.17720\tvalidation_0-mlogloss:1.12125\tvalidation_1-merror:0.26577\tvalidation_1-mlogloss:1.27783\n",
            "[309]\tvalidation_0-merror:0.17777\tvalidation_0-mlogloss:1.12034\tvalidation_1-merror:0.26577\tvalidation_1-mlogloss:1.27677\n",
            "[310]\tvalidation_0-merror:0.17777\tvalidation_0-mlogloss:1.11913\tvalidation_1-merror:0.26577\tvalidation_1-mlogloss:1.27527\n",
            "[311]\tvalidation_0-merror:0.17777\tvalidation_0-mlogloss:1.11760\tvalidation_1-merror:0.26577\tvalidation_1-mlogloss:1.27369\n",
            "[312]\tvalidation_0-merror:0.17720\tvalidation_0-mlogloss:1.11668\tvalidation_1-merror:0.26577\tvalidation_1-mlogloss:1.27275\n",
            "[313]\tvalidation_0-merror:0.17720\tvalidation_0-mlogloss:1.11542\tvalidation_1-merror:0.26577\tvalidation_1-mlogloss:1.27147\n",
            "[314]\tvalidation_0-merror:0.17777\tvalidation_0-mlogloss:1.11394\tvalidation_1-merror:0.26577\tvalidation_1-mlogloss:1.26974\n",
            "[315]\tvalidation_0-merror:0.17777\tvalidation_0-mlogloss:1.11324\tvalidation_1-merror:0.26577\tvalidation_1-mlogloss:1.26901\n",
            "[316]\tvalidation_0-merror:0.17777\tvalidation_0-mlogloss:1.11265\tvalidation_1-merror:0.26577\tvalidation_1-mlogloss:1.26842\n",
            "[317]\tvalidation_0-merror:0.17833\tvalidation_0-mlogloss:1.11197\tvalidation_1-merror:0.26577\tvalidation_1-mlogloss:1.26767\n",
            "[318]\tvalidation_0-merror:0.17833\tvalidation_0-mlogloss:1.11089\tvalidation_1-merror:0.26577\tvalidation_1-mlogloss:1.26659\n",
            "[319]\tvalidation_0-merror:0.17833\tvalidation_0-mlogloss:1.11010\tvalidation_1-merror:0.26577\tvalidation_1-mlogloss:1.26582\n",
            "[320]\tvalidation_0-merror:0.17833\tvalidation_0-mlogloss:1.10908\tvalidation_1-merror:0.26577\tvalidation_1-mlogloss:1.26480\n",
            "[321]\tvalidation_0-merror:0.17833\tvalidation_0-mlogloss:1.10816\tvalidation_1-merror:0.26577\tvalidation_1-mlogloss:1.26383\n",
            "[322]\tvalidation_0-merror:0.17833\tvalidation_0-mlogloss:1.10703\tvalidation_1-merror:0.26577\tvalidation_1-mlogloss:1.26275\n",
            "[323]\tvalidation_0-merror:0.17889\tvalidation_0-mlogloss:1.10622\tvalidation_1-merror:0.26577\tvalidation_1-mlogloss:1.26178\n",
            "[324]\tvalidation_0-merror:0.17889\tvalidation_0-mlogloss:1.10532\tvalidation_1-merror:0.26126\tvalidation_1-mlogloss:1.26050\n",
            "[325]\tvalidation_0-merror:0.17946\tvalidation_0-mlogloss:1.10487\tvalidation_1-merror:0.26126\tvalidation_1-mlogloss:1.26000\n",
            "[326]\tvalidation_0-merror:0.17889\tvalidation_0-mlogloss:1.10404\tvalidation_1-merror:0.26351\tvalidation_1-mlogloss:1.25901\n",
            "[327]\tvalidation_0-merror:0.17946\tvalidation_0-mlogloss:1.10319\tvalidation_1-merror:0.26126\tvalidation_1-mlogloss:1.25817\n",
            "[328]\tvalidation_0-merror:0.17946\tvalidation_0-mlogloss:1.10235\tvalidation_1-merror:0.26126\tvalidation_1-mlogloss:1.25736\n",
            "[329]\tvalidation_0-merror:0.17946\tvalidation_0-mlogloss:1.10134\tvalidation_1-merror:0.26126\tvalidation_1-mlogloss:1.25619\n",
            "[330]\tvalidation_0-merror:0.17889\tvalidation_0-mlogloss:1.10021\tvalidation_1-merror:0.26351\tvalidation_1-mlogloss:1.25495\n",
            "[331]\tvalidation_0-merror:0.17946\tvalidation_0-mlogloss:1.09907\tvalidation_1-merror:0.26126\tvalidation_1-mlogloss:1.25370\n",
            "[332]\tvalidation_0-merror:0.17946\tvalidation_0-mlogloss:1.09770\tvalidation_1-merror:0.26351\tvalidation_1-mlogloss:1.25225\n",
            "[333]\tvalidation_0-merror:0.17946\tvalidation_0-mlogloss:1.09627\tvalidation_1-merror:0.26577\tvalidation_1-mlogloss:1.25079\n",
            "[334]\tvalidation_0-merror:0.18002\tvalidation_0-mlogloss:1.09575\tvalidation_1-merror:0.26351\tvalidation_1-mlogloss:1.25020\n",
            "[335]\tvalidation_0-merror:0.17946\tvalidation_0-mlogloss:1.09467\tvalidation_1-merror:0.26577\tvalidation_1-mlogloss:1.24913\n",
            "[336]\tvalidation_0-merror:0.17946\tvalidation_0-mlogloss:1.09408\tvalidation_1-merror:0.26577\tvalidation_1-mlogloss:1.24859\n",
            "[337]\tvalidation_0-merror:0.18002\tvalidation_0-mlogloss:1.09356\tvalidation_1-merror:0.26577\tvalidation_1-mlogloss:1.24802\n",
            "[338]\tvalidation_0-merror:0.18002\tvalidation_0-mlogloss:1.09271\tvalidation_1-merror:0.26577\tvalidation_1-mlogloss:1.24709\n",
            "[339]\tvalidation_0-merror:0.17946\tvalidation_0-mlogloss:1.09168\tvalidation_1-merror:0.26351\tvalidation_1-mlogloss:1.24598\n",
            "[340]\tvalidation_0-merror:0.17946\tvalidation_0-mlogloss:1.09054\tvalidation_1-merror:0.26351\tvalidation_1-mlogloss:1.24472\n",
            "[341]\tvalidation_0-merror:0.17889\tvalidation_0-mlogloss:1.08949\tvalidation_1-merror:0.26351\tvalidation_1-mlogloss:1.24361\n",
            "[342]\tvalidation_0-merror:0.17946\tvalidation_0-mlogloss:1.08827\tvalidation_1-merror:0.26802\tvalidation_1-mlogloss:1.24233\n",
            "[343]\tvalidation_0-merror:0.17889\tvalidation_0-mlogloss:1.08657\tvalidation_1-merror:0.26802\tvalidation_1-mlogloss:1.24058\n",
            "[344]\tvalidation_0-merror:0.17889\tvalidation_0-mlogloss:1.08555\tvalidation_1-merror:0.26802\tvalidation_1-mlogloss:1.23958\n",
            "[345]\tvalidation_0-merror:0.17889\tvalidation_0-mlogloss:1.08428\tvalidation_1-merror:0.26802\tvalidation_1-mlogloss:1.23817\n",
            "[346]\tvalidation_0-merror:0.17889\tvalidation_0-mlogloss:1.08311\tvalidation_1-merror:0.26802\tvalidation_1-mlogloss:1.23687\n",
            "[347]\tvalidation_0-merror:0.17889\tvalidation_0-mlogloss:1.08149\tvalidation_1-merror:0.26351\tvalidation_1-mlogloss:1.23515\n",
            "[348]\tvalidation_0-merror:0.17889\tvalidation_0-mlogloss:1.08039\tvalidation_1-merror:0.26351\tvalidation_1-mlogloss:1.23384\n",
            "[349]\tvalidation_0-merror:0.17946\tvalidation_0-mlogloss:1.07926\tvalidation_1-merror:0.26351\tvalidation_1-mlogloss:1.23246\n",
            "[350]\tvalidation_0-merror:0.17946\tvalidation_0-mlogloss:1.07811\tvalidation_1-merror:0.26351\tvalidation_1-mlogloss:1.23109\n",
            "[351]\tvalidation_0-merror:0.17946\tvalidation_0-mlogloss:1.07650\tvalidation_1-merror:0.26351\tvalidation_1-mlogloss:1.22948\n",
            "[352]\tvalidation_0-merror:0.17946\tvalidation_0-mlogloss:1.07570\tvalidation_1-merror:0.26351\tvalidation_1-mlogloss:1.22861\n",
            "[353]\tvalidation_0-merror:0.17946\tvalidation_0-mlogloss:1.07513\tvalidation_1-merror:0.26351\tvalidation_1-mlogloss:1.22802\n",
            "[354]\tvalidation_0-merror:0.17946\tvalidation_0-mlogloss:1.07401\tvalidation_1-merror:0.26351\tvalidation_1-mlogloss:1.22685\n",
            "[355]\tvalidation_0-merror:0.17946\tvalidation_0-mlogloss:1.07294\tvalidation_1-merror:0.26351\tvalidation_1-mlogloss:1.22554\n",
            "[356]\tvalidation_0-merror:0.18002\tvalidation_0-mlogloss:1.07212\tvalidation_1-merror:0.26577\tvalidation_1-mlogloss:1.22460\n",
            "[357]\tvalidation_0-merror:0.18002\tvalidation_0-mlogloss:1.07109\tvalidation_1-merror:0.26577\tvalidation_1-mlogloss:1.22354\n",
            "[358]\tvalidation_0-merror:0.18002\tvalidation_0-mlogloss:1.07037\tvalidation_1-merror:0.26577\tvalidation_1-mlogloss:1.22293\n",
            "[359]\tvalidation_0-merror:0.18002\tvalidation_0-mlogloss:1.06962\tvalidation_1-merror:0.26577\tvalidation_1-mlogloss:1.22214\n",
            "[360]\tvalidation_0-merror:0.18002\tvalidation_0-mlogloss:1.06805\tvalidation_1-merror:0.26577\tvalidation_1-mlogloss:1.22039\n",
            "[361]\tvalidation_0-merror:0.18002\tvalidation_0-mlogloss:1.06702\tvalidation_1-merror:0.26577\tvalidation_1-mlogloss:1.21920\n",
            "[362]\tvalidation_0-merror:0.18002\tvalidation_0-mlogloss:1.06585\tvalidation_1-merror:0.26577\tvalidation_1-mlogloss:1.21781\n",
            "[363]\tvalidation_0-merror:0.18002\tvalidation_0-mlogloss:1.06477\tvalidation_1-merror:0.26126\tvalidation_1-mlogloss:1.21650\n",
            "[364]\tvalidation_0-merror:0.18002\tvalidation_0-mlogloss:1.06407\tvalidation_1-merror:0.26126\tvalidation_1-mlogloss:1.21581\n",
            "[365]\tvalidation_0-merror:0.18002\tvalidation_0-mlogloss:1.06324\tvalidation_1-merror:0.26126\tvalidation_1-mlogloss:1.21491\n",
            "[366]\tvalidation_0-merror:0.18002\tvalidation_0-mlogloss:1.06251\tvalidation_1-merror:0.26126\tvalidation_1-mlogloss:1.21411\n",
            "[367]\tvalidation_0-merror:0.18002\tvalidation_0-mlogloss:1.06170\tvalidation_1-merror:0.26126\tvalidation_1-mlogloss:1.21316\n",
            "[368]\tvalidation_0-merror:0.18002\tvalidation_0-mlogloss:1.06049\tvalidation_1-merror:0.26126\tvalidation_1-mlogloss:1.21181\n",
            "[369]\tvalidation_0-merror:0.18002\tvalidation_0-mlogloss:1.05963\tvalidation_1-merror:0.26126\tvalidation_1-mlogloss:1.21092\n",
            "[370]\tvalidation_0-merror:0.18002\tvalidation_0-mlogloss:1.05865\tvalidation_1-merror:0.26126\tvalidation_1-mlogloss:1.21003\n",
            "[371]\tvalidation_0-merror:0.18002\tvalidation_0-mlogloss:1.05809\tvalidation_1-merror:0.26126\tvalidation_1-mlogloss:1.20946\n",
            "[372]\tvalidation_0-merror:0.18002\tvalidation_0-mlogloss:1.05770\tvalidation_1-merror:0.26351\tvalidation_1-mlogloss:1.20900\n",
            "[373]\tvalidation_0-merror:0.17946\tvalidation_0-mlogloss:1.05682\tvalidation_1-merror:0.26351\tvalidation_1-mlogloss:1.20802\n",
            "[374]\tvalidation_0-merror:0.18002\tvalidation_0-mlogloss:1.05576\tvalidation_1-merror:0.26351\tvalidation_1-mlogloss:1.20685\n",
            "[375]\tvalidation_0-merror:0.18002\tvalidation_0-mlogloss:1.05507\tvalidation_1-merror:0.26351\tvalidation_1-mlogloss:1.20610\n",
            "[376]\tvalidation_0-merror:0.18002\tvalidation_0-mlogloss:1.05441\tvalidation_1-merror:0.26351\tvalidation_1-mlogloss:1.20550\n",
            "[377]\tvalidation_0-merror:0.18002\tvalidation_0-mlogloss:1.05385\tvalidation_1-merror:0.26126\tvalidation_1-mlogloss:1.20492\n",
            "[378]\tvalidation_0-merror:0.18002\tvalidation_0-mlogloss:1.05321\tvalidation_1-merror:0.26126\tvalidation_1-mlogloss:1.20415\n",
            "[379]\tvalidation_0-merror:0.18002\tvalidation_0-mlogloss:1.05185\tvalidation_1-merror:0.26126\tvalidation_1-mlogloss:1.20272\n",
            "[380]\tvalidation_0-merror:0.18002\tvalidation_0-mlogloss:1.05105\tvalidation_1-merror:0.26351\tvalidation_1-mlogloss:1.20180\n",
            "[381]\tvalidation_0-merror:0.17946\tvalidation_0-mlogloss:1.05064\tvalidation_1-merror:0.26351\tvalidation_1-mlogloss:1.20135\n",
            "[382]\tvalidation_0-merror:0.17889\tvalidation_0-mlogloss:1.04987\tvalidation_1-merror:0.26351\tvalidation_1-mlogloss:1.20054\n",
            "[383]\tvalidation_0-merror:0.17889\tvalidation_0-mlogloss:1.04938\tvalidation_1-merror:0.26351\tvalidation_1-mlogloss:1.19993\n",
            "[384]\tvalidation_0-merror:0.17889\tvalidation_0-mlogloss:1.04826\tvalidation_1-merror:0.26351\tvalidation_1-mlogloss:1.19887\n",
            "[385]\tvalidation_0-merror:0.17946\tvalidation_0-mlogloss:1.04743\tvalidation_1-merror:0.26351\tvalidation_1-mlogloss:1.19811\n",
            "[386]\tvalidation_0-merror:0.17946\tvalidation_0-mlogloss:1.04666\tvalidation_1-merror:0.26351\tvalidation_1-mlogloss:1.19721\n",
            "[387]\tvalidation_0-merror:0.17946\tvalidation_0-mlogloss:1.04615\tvalidation_1-merror:0.26351\tvalidation_1-mlogloss:1.19660\n",
            "[388]\tvalidation_0-merror:0.17946\tvalidation_0-mlogloss:1.04496\tvalidation_1-merror:0.26351\tvalidation_1-mlogloss:1.19518\n",
            "[389]\tvalidation_0-merror:0.17946\tvalidation_0-mlogloss:1.04470\tvalidation_1-merror:0.26351\tvalidation_1-mlogloss:1.19493\n",
            "[390]\tvalidation_0-merror:0.17946\tvalidation_0-mlogloss:1.04440\tvalidation_1-merror:0.26351\tvalidation_1-mlogloss:1.19460\n",
            "[391]\tvalidation_0-merror:0.17946\tvalidation_0-mlogloss:1.04387\tvalidation_1-merror:0.26351\tvalidation_1-mlogloss:1.19407\n",
            "[392]\tvalidation_0-merror:0.17946\tvalidation_0-mlogloss:1.04316\tvalidation_1-merror:0.26351\tvalidation_1-mlogloss:1.19339\n",
            "[393]\tvalidation_0-merror:0.17946\tvalidation_0-mlogloss:1.04234\tvalidation_1-merror:0.26351\tvalidation_1-mlogloss:1.19244\n",
            "[394]\tvalidation_0-merror:0.17946\tvalidation_0-mlogloss:1.04146\tvalidation_1-merror:0.26351\tvalidation_1-mlogloss:1.19138\n",
            "[395]\tvalidation_0-merror:0.17946\tvalidation_0-mlogloss:1.04062\tvalidation_1-merror:0.26351\tvalidation_1-mlogloss:1.19049\n",
            "[396]\tvalidation_0-merror:0.17889\tvalidation_0-mlogloss:1.03989\tvalidation_1-merror:0.26351\tvalidation_1-mlogloss:1.18958\n",
            "[397]\tvalidation_0-merror:0.17889\tvalidation_0-mlogloss:1.03949\tvalidation_1-merror:0.26351\tvalidation_1-mlogloss:1.18918\n",
            "[398]\tvalidation_0-merror:0.17889\tvalidation_0-mlogloss:1.03859\tvalidation_1-merror:0.26351\tvalidation_1-mlogloss:1.18828\n",
            "[399]\tvalidation_0-merror:0.17889\tvalidation_0-mlogloss:1.03755\tvalidation_1-merror:0.26351\tvalidation_1-mlogloss:1.18715\n",
            "[400]\tvalidation_0-merror:0.17889\tvalidation_0-mlogloss:1.03649\tvalidation_1-merror:0.26126\tvalidation_1-mlogloss:1.18608\n",
            "[401]\tvalidation_0-merror:0.17889\tvalidation_0-mlogloss:1.03555\tvalidation_1-merror:0.26126\tvalidation_1-mlogloss:1.18513\n",
            "[402]\tvalidation_0-merror:0.17889\tvalidation_0-mlogloss:1.03459\tvalidation_1-merror:0.26126\tvalidation_1-mlogloss:1.18422\n",
            "[403]\tvalidation_0-merror:0.17889\tvalidation_0-mlogloss:1.03413\tvalidation_1-merror:0.26126\tvalidation_1-mlogloss:1.18373\n",
            "[404]\tvalidation_0-merror:0.17946\tvalidation_0-mlogloss:1.03320\tvalidation_1-merror:0.26126\tvalidation_1-mlogloss:1.18287\n",
            "[405]\tvalidation_0-merror:0.18002\tvalidation_0-mlogloss:1.03245\tvalidation_1-merror:0.26126\tvalidation_1-mlogloss:1.18221\n",
            "[406]\tvalidation_0-merror:0.17946\tvalidation_0-mlogloss:1.03171\tvalidation_1-merror:0.26126\tvalidation_1-mlogloss:1.18141\n",
            "[407]\tvalidation_0-merror:0.18059\tvalidation_0-mlogloss:1.03090\tvalidation_1-merror:0.26126\tvalidation_1-mlogloss:1.18048\n",
            "[408]\tvalidation_0-merror:0.18002\tvalidation_0-mlogloss:1.03036\tvalidation_1-merror:0.26126\tvalidation_1-mlogloss:1.17990\n",
            "[409]\tvalidation_0-merror:0.18002\tvalidation_0-mlogloss:1.02980\tvalidation_1-merror:0.26126\tvalidation_1-mlogloss:1.17929\n",
            "[410]\tvalidation_0-merror:0.18002\tvalidation_0-mlogloss:1.02892\tvalidation_1-merror:0.26126\tvalidation_1-mlogloss:1.17842\n",
            "[411]\tvalidation_0-merror:0.18002\tvalidation_0-mlogloss:1.02816\tvalidation_1-merror:0.26126\tvalidation_1-mlogloss:1.17761\n",
            "[412]\tvalidation_0-merror:0.18002\tvalidation_0-mlogloss:1.02740\tvalidation_1-merror:0.26126\tvalidation_1-mlogloss:1.17666\n",
            "[413]\tvalidation_0-merror:0.18002\tvalidation_0-mlogloss:1.02670\tvalidation_1-merror:0.26126\tvalidation_1-mlogloss:1.17587\n",
            "[414]\tvalidation_0-merror:0.18002\tvalidation_0-mlogloss:1.02623\tvalidation_1-merror:0.26126\tvalidation_1-mlogloss:1.17537\n",
            "[415]\tvalidation_0-merror:0.17946\tvalidation_0-mlogloss:1.02562\tvalidation_1-merror:0.26351\tvalidation_1-mlogloss:1.17467\n",
            "[416]\tvalidation_0-merror:0.18002\tvalidation_0-mlogloss:1.02525\tvalidation_1-merror:0.26351\tvalidation_1-mlogloss:1.17434\n",
            "[417]\tvalidation_0-merror:0.17946\tvalidation_0-mlogloss:1.02425\tvalidation_1-merror:0.26351\tvalidation_1-mlogloss:1.17326\n",
            "[418]\tvalidation_0-merror:0.17946\tvalidation_0-mlogloss:1.02359\tvalidation_1-merror:0.26126\tvalidation_1-mlogloss:1.17267\n",
            "[419]\tvalidation_0-merror:0.17946\tvalidation_0-mlogloss:1.02252\tvalidation_1-merror:0.26126\tvalidation_1-mlogloss:1.17161\n",
            "[420]\tvalidation_0-merror:0.17946\tvalidation_0-mlogloss:1.02184\tvalidation_1-merror:0.26126\tvalidation_1-mlogloss:1.17079\n",
            "[421]\tvalidation_0-merror:0.17946\tvalidation_0-mlogloss:1.02112\tvalidation_1-merror:0.26126\tvalidation_1-mlogloss:1.17010\n",
            "[422]\tvalidation_0-merror:0.17946\tvalidation_0-mlogloss:1.02037\tvalidation_1-merror:0.26126\tvalidation_1-mlogloss:1.16926\n",
            "[423]\tvalidation_0-merror:0.18002\tvalidation_0-mlogloss:1.01959\tvalidation_1-merror:0.26126\tvalidation_1-mlogloss:1.16844\n",
            "[424]\tvalidation_0-merror:0.18002\tvalidation_0-mlogloss:1.01900\tvalidation_1-merror:0.26126\tvalidation_1-mlogloss:1.16778\n",
            "[425]\tvalidation_0-merror:0.17946\tvalidation_0-mlogloss:1.01841\tvalidation_1-merror:0.26126\tvalidation_1-mlogloss:1.16726\n",
            "[426]\tvalidation_0-merror:0.17946\tvalidation_0-mlogloss:1.01768\tvalidation_1-merror:0.26126\tvalidation_1-mlogloss:1.16636\n",
            "[427]\tvalidation_0-merror:0.17946\tvalidation_0-mlogloss:1.01672\tvalidation_1-merror:0.26126\tvalidation_1-mlogloss:1.16515\n",
            "[428]\tvalidation_0-merror:0.17946\tvalidation_0-mlogloss:1.01595\tvalidation_1-merror:0.26126\tvalidation_1-mlogloss:1.16427\n",
            "[429]\tvalidation_0-merror:0.17946\tvalidation_0-mlogloss:1.01500\tvalidation_1-merror:0.26126\tvalidation_1-mlogloss:1.16323\n",
            "[430]\tvalidation_0-merror:0.17946\tvalidation_0-mlogloss:1.01420\tvalidation_1-merror:0.26126\tvalidation_1-mlogloss:1.16236\n",
            "[431]\tvalidation_0-merror:0.18002\tvalidation_0-mlogloss:1.01318\tvalidation_1-merror:0.26126\tvalidation_1-mlogloss:1.16116\n",
            "[432]\tvalidation_0-merror:0.18002\tvalidation_0-mlogloss:1.01296\tvalidation_1-merror:0.26126\tvalidation_1-mlogloss:1.16093\n",
            "[433]\tvalidation_0-merror:0.18059\tvalidation_0-mlogloss:1.01209\tvalidation_1-merror:0.26126\tvalidation_1-mlogloss:1.16010\n",
            "[434]\tvalidation_0-merror:0.18059\tvalidation_0-mlogloss:1.01150\tvalidation_1-merror:0.26126\tvalidation_1-mlogloss:1.15942\n",
            "[435]\tvalidation_0-merror:0.18059\tvalidation_0-mlogloss:1.01096\tvalidation_1-merror:0.26126\tvalidation_1-mlogloss:1.15884\n",
            "[436]\tvalidation_0-merror:0.18059\tvalidation_0-mlogloss:1.01070\tvalidation_1-merror:0.26126\tvalidation_1-mlogloss:1.15868\n",
            "[437]\tvalidation_0-merror:0.18059\tvalidation_0-mlogloss:1.01005\tvalidation_1-merror:0.26126\tvalidation_1-mlogloss:1.15809\n",
            "[438]\tvalidation_0-merror:0.18059\tvalidation_0-mlogloss:1.00940\tvalidation_1-merror:0.26351\tvalidation_1-mlogloss:1.15736\n",
            "[439]\tvalidation_0-merror:0.18002\tvalidation_0-mlogloss:1.00859\tvalidation_1-merror:0.26351\tvalidation_1-mlogloss:1.15643\n",
            "[440]\tvalidation_0-merror:0.18002\tvalidation_0-mlogloss:1.00810\tvalidation_1-merror:0.26351\tvalidation_1-mlogloss:1.15610\n",
            "[441]\tvalidation_0-merror:0.18002\tvalidation_0-mlogloss:1.00750\tvalidation_1-merror:0.26351\tvalidation_1-mlogloss:1.15544\n",
            "[442]\tvalidation_0-merror:0.18002\tvalidation_0-mlogloss:1.00653\tvalidation_1-merror:0.26126\tvalidation_1-mlogloss:1.15438\n",
            "[443]\tvalidation_0-merror:0.17946\tvalidation_0-mlogloss:1.00605\tvalidation_1-merror:0.26126\tvalidation_1-mlogloss:1.15402\n",
            "[444]\tvalidation_0-merror:0.17946\tvalidation_0-mlogloss:1.00563\tvalidation_1-merror:0.26126\tvalidation_1-mlogloss:1.15353\n",
            "[445]\tvalidation_0-merror:0.17946\tvalidation_0-mlogloss:1.00519\tvalidation_1-merror:0.26126\tvalidation_1-mlogloss:1.15294\n",
            "[446]\tvalidation_0-merror:0.18002\tvalidation_0-mlogloss:1.00455\tvalidation_1-merror:0.26126\tvalidation_1-mlogloss:1.15236\n",
            "[447]\tvalidation_0-merror:0.18002\tvalidation_0-mlogloss:1.00416\tvalidation_1-merror:0.26351\tvalidation_1-mlogloss:1.15193\n",
            "[448]\tvalidation_0-merror:0.18002\tvalidation_0-mlogloss:1.00349\tvalidation_1-merror:0.26126\tvalidation_1-mlogloss:1.15119\n",
            "[449]\tvalidation_0-merror:0.18002\tvalidation_0-mlogloss:1.00268\tvalidation_1-merror:0.26126\tvalidation_1-mlogloss:1.15037\n",
            "[450]\tvalidation_0-merror:0.18002\tvalidation_0-mlogloss:1.00214\tvalidation_1-merror:0.26126\tvalidation_1-mlogloss:1.14978\n",
            "[451]\tvalidation_0-merror:0.18002\tvalidation_0-mlogloss:1.00135\tvalidation_1-merror:0.26351\tvalidation_1-mlogloss:1.14888\n",
            "[452]\tvalidation_0-merror:0.18002\tvalidation_0-mlogloss:1.00064\tvalidation_1-merror:0.26351\tvalidation_1-mlogloss:1.14801\n",
            "[453]\tvalidation_0-merror:0.18002\tvalidation_0-mlogloss:1.00023\tvalidation_1-merror:0.26351\tvalidation_1-mlogloss:1.14758\n",
            "[454]\tvalidation_0-merror:0.18002\tvalidation_0-mlogloss:0.99968\tvalidation_1-merror:0.26126\tvalidation_1-mlogloss:1.14700\n",
            "[455]\tvalidation_0-merror:0.18059\tvalidation_0-mlogloss:0.99908\tvalidation_1-merror:0.26351\tvalidation_1-mlogloss:1.14645\n",
            "[456]\tvalidation_0-merror:0.18059\tvalidation_0-mlogloss:0.99878\tvalidation_1-merror:0.26351\tvalidation_1-mlogloss:1.14619\n",
            "[457]\tvalidation_0-merror:0.18059\tvalidation_0-mlogloss:0.99816\tvalidation_1-merror:0.26351\tvalidation_1-mlogloss:1.14551\n",
            "[458]\tvalidation_0-merror:0.18059\tvalidation_0-mlogloss:0.99780\tvalidation_1-merror:0.26351\tvalidation_1-mlogloss:1.14506\n",
            "[459]\tvalidation_0-merror:0.18115\tvalidation_0-mlogloss:0.99699\tvalidation_1-merror:0.26351\tvalidation_1-mlogloss:1.14434\n",
            "[460]\tvalidation_0-merror:0.18115\tvalidation_0-mlogloss:0.99651\tvalidation_1-merror:0.26351\tvalidation_1-mlogloss:1.14391\n",
            "[461]\tvalidation_0-merror:0.18115\tvalidation_0-mlogloss:0.99587\tvalidation_1-merror:0.26351\tvalidation_1-mlogloss:1.14325\n",
            "[462]\tvalidation_0-merror:0.18059\tvalidation_0-mlogloss:0.99524\tvalidation_1-merror:0.26351\tvalidation_1-mlogloss:1.14257\n",
            "[463]\tvalidation_0-merror:0.18059\tvalidation_0-mlogloss:0.99475\tvalidation_1-merror:0.26351\tvalidation_1-mlogloss:1.14194\n",
            "[464]\tvalidation_0-merror:0.18059\tvalidation_0-mlogloss:0.99431\tvalidation_1-merror:0.26351\tvalidation_1-mlogloss:1.14154\n",
            "[465]\tvalidation_0-merror:0.18059\tvalidation_0-mlogloss:0.99383\tvalidation_1-merror:0.26351\tvalidation_1-mlogloss:1.14114\n",
            "[466]\tvalidation_0-merror:0.18059\tvalidation_0-mlogloss:0.99355\tvalidation_1-merror:0.26351\tvalidation_1-mlogloss:1.14104\n",
            "[467]\tvalidation_0-merror:0.18059\tvalidation_0-mlogloss:0.99321\tvalidation_1-merror:0.26351\tvalidation_1-mlogloss:1.14072\n",
            "[468]\tvalidation_0-merror:0.18059\tvalidation_0-mlogloss:0.99252\tvalidation_1-merror:0.26351\tvalidation_1-mlogloss:1.14001\n",
            "[469]\tvalidation_0-merror:0.18059\tvalidation_0-mlogloss:0.99185\tvalidation_1-merror:0.26351\tvalidation_1-mlogloss:1.13949\n",
            "[470]\tvalidation_0-merror:0.18059\tvalidation_0-mlogloss:0.99144\tvalidation_1-merror:0.26351\tvalidation_1-mlogloss:1.13900\n",
            "[471]\tvalidation_0-merror:0.18059\tvalidation_0-mlogloss:0.99102\tvalidation_1-merror:0.26126\tvalidation_1-mlogloss:1.13854\n",
            "[472]\tvalidation_0-merror:0.18059\tvalidation_0-mlogloss:0.99063\tvalidation_1-merror:0.26126\tvalidation_1-mlogloss:1.13811\n",
            "[473]\tvalidation_0-merror:0.18059\tvalidation_0-mlogloss:0.99007\tvalidation_1-merror:0.25901\tvalidation_1-mlogloss:1.13752\n",
            "[474]\tvalidation_0-merror:0.18059\tvalidation_0-mlogloss:0.98925\tvalidation_1-merror:0.26126\tvalidation_1-mlogloss:1.13672\n",
            "[475]\tvalidation_0-merror:0.18059\tvalidation_0-mlogloss:0.98878\tvalidation_1-merror:0.26126\tvalidation_1-mlogloss:1.13620\n",
            "[476]\tvalidation_0-merror:0.18115\tvalidation_0-mlogloss:0.98832\tvalidation_1-merror:0.26126\tvalidation_1-mlogloss:1.13573\n",
            "[477]\tvalidation_0-merror:0.18115\tvalidation_0-mlogloss:0.98745\tvalidation_1-merror:0.26126\tvalidation_1-mlogloss:1.13481\n",
            "[478]\tvalidation_0-merror:0.18115\tvalidation_0-mlogloss:0.98692\tvalidation_1-merror:0.25901\tvalidation_1-mlogloss:1.13427\n",
            "[479]\tvalidation_0-merror:0.18115\tvalidation_0-mlogloss:0.98661\tvalidation_1-merror:0.26126\tvalidation_1-mlogloss:1.13405\n",
            "[480]\tvalidation_0-merror:0.18115\tvalidation_0-mlogloss:0.98631\tvalidation_1-merror:0.25901\tvalidation_1-mlogloss:1.13374\n",
            "[481]\tvalidation_0-merror:0.18115\tvalidation_0-mlogloss:0.98591\tvalidation_1-merror:0.25901\tvalidation_1-mlogloss:1.13333\n",
            "[482]\tvalidation_0-merror:0.18115\tvalidation_0-mlogloss:0.98547\tvalidation_1-merror:0.25901\tvalidation_1-mlogloss:1.13285\n",
            "[483]\tvalidation_0-merror:0.18172\tvalidation_0-mlogloss:0.98485\tvalidation_1-merror:0.26126\tvalidation_1-mlogloss:1.13217\n",
            "[484]\tvalidation_0-merror:0.18172\tvalidation_0-mlogloss:0.98443\tvalidation_1-merror:0.26126\tvalidation_1-mlogloss:1.13168\n",
            "[485]\tvalidation_0-merror:0.18172\tvalidation_0-mlogloss:0.98387\tvalidation_1-merror:0.26126\tvalidation_1-mlogloss:1.13109\n",
            "[486]\tvalidation_0-merror:0.18115\tvalidation_0-mlogloss:0.98337\tvalidation_1-merror:0.26126\tvalidation_1-mlogloss:1.13056\n",
            "[487]\tvalidation_0-merror:0.18115\tvalidation_0-mlogloss:0.98289\tvalidation_1-merror:0.26126\tvalidation_1-mlogloss:1.13009\n",
            "[488]\tvalidation_0-merror:0.18172\tvalidation_0-mlogloss:0.98244\tvalidation_1-merror:0.26126\tvalidation_1-mlogloss:1.12964\n",
            "[489]\tvalidation_0-merror:0.18172\tvalidation_0-mlogloss:0.98192\tvalidation_1-merror:0.26126\tvalidation_1-mlogloss:1.12917\n",
            "[490]\tvalidation_0-merror:0.18172\tvalidation_0-mlogloss:0.98149\tvalidation_1-merror:0.26126\tvalidation_1-mlogloss:1.12871\n",
            "[491]\tvalidation_0-merror:0.18172\tvalidation_0-mlogloss:0.98104\tvalidation_1-merror:0.26126\tvalidation_1-mlogloss:1.12833\n",
            "[492]\tvalidation_0-merror:0.18172\tvalidation_0-mlogloss:0.98037\tvalidation_1-merror:0.26126\tvalidation_1-mlogloss:1.12750\n",
            "[493]\tvalidation_0-merror:0.18172\tvalidation_0-mlogloss:0.97999\tvalidation_1-merror:0.26126\tvalidation_1-mlogloss:1.12704\n",
            "[494]\tvalidation_0-merror:0.18172\tvalidation_0-mlogloss:0.97911\tvalidation_1-merror:0.26126\tvalidation_1-mlogloss:1.12600\n",
            "[495]\tvalidation_0-merror:0.18228\tvalidation_0-mlogloss:0.97848\tvalidation_1-merror:0.26126\tvalidation_1-mlogloss:1.12538\n",
            "[496]\tvalidation_0-merror:0.18228\tvalidation_0-mlogloss:0.97817\tvalidation_1-merror:0.26126\tvalidation_1-mlogloss:1.12508\n",
            "[497]\tvalidation_0-merror:0.18228\tvalidation_0-mlogloss:0.97769\tvalidation_1-merror:0.26126\tvalidation_1-mlogloss:1.12456\n",
            "[498]\tvalidation_0-merror:0.18228\tvalidation_0-mlogloss:0.97758\tvalidation_1-merror:0.26126\tvalidation_1-mlogloss:1.12440\n",
            "[499]\tvalidation_0-merror:0.18228\tvalidation_0-mlogloss:0.97659\tvalidation_1-merror:0.26126\tvalidation_1-mlogloss:1.12331\n",
            "CPU times: user 17min 57s, sys: 2.3 s, total: 18min\n",
            "Wall time: 11min 33s\n"
          ]
        },
        {
          "output_type": "execute_result",
          "data": {
            "text/plain": [
              "XGBClassifier(base_score=None, booster=None, callbacks=None,\n",
              "              colsample_bylevel=None, colsample_bynode=None,\n",
              "              colsample_bytree=0.4, early_stopping_rounds=None,\n",
              "              enable_categorical=False, eval_metric=None, feature_types=None,\n",
              "              gamma=9, gpu_id=None, grow_policy=None, importance_type=None,\n",
              "              interaction_constraints=None, learning_rate=0.01, max_bin=None,\n",
              "              max_cat_threshold=None, max_cat_to_onehot=None,\n",
              "              max_delta_step=None, max_depth=11, max_leaves=None,\n",
              "              min_child_weight=None, missing=nan, monotone_constraints=None,\n",
              "              n_estimators=500, n_jobs=None, num_parallel_tree=None,\n",
              "              objective='multi:softmax', predictor=None, ...)"
            ],
            "text/html": [
              "<style>#sk-container-id-11 {color: black;background-color: white;}#sk-container-id-11 pre{padding: 0;}#sk-container-id-11 div.sk-toggleable {background-color: white;}#sk-container-id-11 label.sk-toggleable__label {cursor: pointer;display: block;width: 100%;margin-bottom: 0;padding: 0.3em;box-sizing: border-box;text-align: center;}#sk-container-id-11 label.sk-toggleable__label-arrow:before {content: \"▸\";float: left;margin-right: 0.25em;color: #696969;}#sk-container-id-11 label.sk-toggleable__label-arrow:hover:before {color: black;}#sk-container-id-11 div.sk-estimator:hover label.sk-toggleable__label-arrow:before {color: black;}#sk-container-id-11 div.sk-toggleable__content {max-height: 0;max-width: 0;overflow: hidden;text-align: left;background-color: #f0f8ff;}#sk-container-id-11 div.sk-toggleable__content pre {margin: 0.2em;color: black;border-radius: 0.25em;background-color: #f0f8ff;}#sk-container-id-11 input.sk-toggleable__control:checked~div.sk-toggleable__content {max-height: 200px;max-width: 100%;overflow: auto;}#sk-container-id-11 input.sk-toggleable__control:checked~label.sk-toggleable__label-arrow:before {content: \"▾\";}#sk-container-id-11 div.sk-estimator input.sk-toggleable__control:checked~label.sk-toggleable__label {background-color: #d4ebff;}#sk-container-id-11 div.sk-label input.sk-toggleable__control:checked~label.sk-toggleable__label {background-color: #d4ebff;}#sk-container-id-11 input.sk-hidden--visually {border: 0;clip: rect(1px 1px 1px 1px);clip: rect(1px, 1px, 1px, 1px);height: 1px;margin: -1px;overflow: hidden;padding: 0;position: absolute;width: 1px;}#sk-container-id-11 div.sk-estimator {font-family: monospace;background-color: #f0f8ff;border: 1px dotted black;border-radius: 0.25em;box-sizing: border-box;margin-bottom: 0.5em;}#sk-container-id-11 div.sk-estimator:hover {background-color: #d4ebff;}#sk-container-id-11 div.sk-parallel-item::after {content: \"\";width: 100%;border-bottom: 1px solid gray;flex-grow: 1;}#sk-container-id-11 div.sk-label:hover label.sk-toggleable__label {background-color: #d4ebff;}#sk-container-id-11 div.sk-serial::before {content: \"\";position: absolute;border-left: 1px solid gray;box-sizing: border-box;top: 0;bottom: 0;left: 50%;z-index: 0;}#sk-container-id-11 div.sk-serial {display: flex;flex-direction: column;align-items: center;background-color: white;padding-right: 0.2em;padding-left: 0.2em;position: relative;}#sk-container-id-11 div.sk-item {position: relative;z-index: 1;}#sk-container-id-11 div.sk-parallel {display: flex;align-items: stretch;justify-content: center;background-color: white;position: relative;}#sk-container-id-11 div.sk-item::before, #sk-container-id-11 div.sk-parallel-item::before {content: \"\";position: absolute;border-left: 1px solid gray;box-sizing: border-box;top: 0;bottom: 0;left: 50%;z-index: -1;}#sk-container-id-11 div.sk-parallel-item {display: flex;flex-direction: column;z-index: 1;position: relative;background-color: white;}#sk-container-id-11 div.sk-parallel-item:first-child::after {align-self: flex-end;width: 50%;}#sk-container-id-11 div.sk-parallel-item:last-child::after {align-self: flex-start;width: 50%;}#sk-container-id-11 div.sk-parallel-item:only-child::after {width: 0;}#sk-container-id-11 div.sk-dashed-wrapped {border: 1px dashed gray;margin: 0 0.4em 0.5em 0.4em;box-sizing: border-box;padding-bottom: 0.4em;background-color: white;}#sk-container-id-11 div.sk-label label {font-family: monospace;font-weight: bold;display: inline-block;line-height: 1.2em;}#sk-container-id-11 div.sk-label-container {text-align: center;}#sk-container-id-11 div.sk-container {/* jupyter's `normalize.less` sets `[hidden] { display: none; }` but bootstrap.min.css set `[hidden] { display: none !important; }` so we also need the `!important` here to be able to override the default hidden behavior on the sphinx rendered scikit-learn.org. See: https://github.com/scikit-learn/scikit-learn/issues/21755 */display: inline-block !important;position: relative;}#sk-container-id-11 div.sk-text-repr-fallback {display: none;}</style><div id=\"sk-container-id-11\" class=\"sk-top-container\"><div class=\"sk-text-repr-fallback\"><pre>XGBClassifier(base_score=None, booster=None, callbacks=None,\n",
              "              colsample_bylevel=None, colsample_bynode=None,\n",
              "              colsample_bytree=0.4, early_stopping_rounds=None,\n",
              "              enable_categorical=False, eval_metric=None, feature_types=None,\n",
              "              gamma=9, gpu_id=None, grow_policy=None, importance_type=None,\n",
              "              interaction_constraints=None, learning_rate=0.01, max_bin=None,\n",
              "              max_cat_threshold=None, max_cat_to_onehot=None,\n",
              "              max_delta_step=None, max_depth=11, max_leaves=None,\n",
              "              min_child_weight=None, missing=nan, monotone_constraints=None,\n",
              "              n_estimators=500, n_jobs=None, num_parallel_tree=None,\n",
              "              objective=&#x27;multi:softmax&#x27;, predictor=None, ...)</pre><b>In a Jupyter environment, please rerun this cell to show the HTML representation or trust the notebook. <br />On GitHub, the HTML representation is unable to render, please try loading this page with nbviewer.org.</b></div><div class=\"sk-container\" hidden><div class=\"sk-item\"><div class=\"sk-estimator sk-toggleable\"><input class=\"sk-toggleable__control sk-hidden--visually\" id=\"sk-estimator-id-11\" type=\"checkbox\" checked><label for=\"sk-estimator-id-11\" class=\"sk-toggleable__label sk-toggleable__label-arrow\">XGBClassifier</label><div class=\"sk-toggleable__content\"><pre>XGBClassifier(base_score=None, booster=None, callbacks=None,\n",
              "              colsample_bylevel=None, colsample_bynode=None,\n",
              "              colsample_bytree=0.4, early_stopping_rounds=None,\n",
              "              enable_categorical=False, eval_metric=None, feature_types=None,\n",
              "              gamma=9, gpu_id=None, grow_policy=None, importance_type=None,\n",
              "              interaction_constraints=None, learning_rate=0.01, max_bin=None,\n",
              "              max_cat_threshold=None, max_cat_to_onehot=None,\n",
              "              max_delta_step=None, max_depth=11, max_leaves=None,\n",
              "              min_child_weight=None, missing=nan, monotone_constraints=None,\n",
              "              n_estimators=500, n_jobs=None, num_parallel_tree=None,\n",
              "              objective=&#x27;multi:softmax&#x27;, predictor=None, ...)</pre></div></div></div></div></div>"
            ]
          },
          "metadata": {},
          "execution_count": 156
        }
      ]
    },
    {
      "cell_type": "code",
      "source": [
        "# plotting training and validation loss and error\n",
        "# retrieve performance metrics\n",
        "results = model_ft.evals_result()\n",
        "epochs = len(results['validation_0']['merror'])\n",
        "x_axis = range(0, epochs)\n",
        "# plot log loss\n",
        "fig, ax = plt.subplots()\n",
        "ax.plot(x_axis, results['validation_0']['mlogloss'], label='Train')\n",
        "ax.plot(x_axis, results['validation_1']['mlogloss'], label='Validation')\n",
        "ax.legend()\n",
        "plt.ylabel('Log Loss')\n",
        "plt.title('XGBoost Log Loss')\n",
        "plt.show()\n",
        "# plot classification error\n",
        "fig, ax = plt.subplots()\n",
        "ax.plot(x_axis, results['validation_0']['merror'], label='Train')\n",
        "ax.plot(x_axis, results['validation_1']['merror'], label='Validation')\n",
        "ax.legend()\n",
        "plt.ylabel('Classification Error')\n",
        "plt.title('XGBoost Classification Error')\n",
        "plt.show()"
      ],
      "metadata": {
        "colab": {
          "base_uri": "https://localhost:8080/",
          "height": 887
        },
        "id": "jVyIaoEzSquX",
        "outputId": "23b404b0-6595-44b1-e0e9-ce689d652595"
      },
      "execution_count": null,
      "outputs": [
        {
          "output_type": "display_data",
          "data": {
            "text/plain": [
              "<Figure size 640x480 with 1 Axes>"
            ],
            "image/png": "[encoded data removed]"
          },
          "metadata": {}
        },
        {
          "output_type": "display_data",
          "data": {
            "text/plain": [
              "<Figure size 640x480 with 1 Axes>"
            ],
            "image/png": "[encoded data removed]"
          },
          "metadata": {}
        }
      ]
    },
    {
      "cell_type": "code",
      "source": [
        "# getting validation set results\n",
        "get_evaluation(model_ft, train_x, train_y, val_x, val_y)"
      ],
      "metadata": {
        "colab": {
          "base_uri": "https://localhost:8080/"
        },
        "id": "g_s1gYHiPMLR",
        "outputId": "f9ee9e76-9562-4ddb-90b4-47c66feb0d4f"
      },
      "execution_count": null,
      "outputs": [
        {
          "output_type": "stream",
          "name": "stdout",
          "text": [
            "Training score of XGBoost: 81.77%\n",
            "Accuracy: 73.87%\n",
            "ROC-AUC score is:  97.75 %\n",
            "The Matthews correlation coefficinet (MCC) is:  72.75 %\n",
            "Weighted specificity: 98.77%\n",
            "              precision    recall  f1-score   support\n",
            "\n",
            "           0       0.50      0.20      0.29         5\n",
            "           1       0.68      0.76      0.72        17\n",
            "           2       0.63      0.89      0.74        19\n",
            "           3       1.00      0.25      0.40        16\n",
            "           4       0.58      0.65      0.61        17\n",
            "           5       0.78      0.82      0.80        17\n",
            "           6       0.00      0.00      0.00         4\n",
            "           7       0.89      0.57      0.69        30\n",
            "           8       0.67      0.70      0.68        20\n",
            "           9       1.00      0.38      0.56        13\n",
            "          10       0.75      0.80      0.77        15\n",
            "          11       0.94      0.80      0.86        20\n",
            "          12       0.80      0.75      0.77        16\n",
            "          13       0.76      0.72      0.74        18\n",
            "          14       0.85      0.85      0.85        27\n",
            "          15       0.88      0.96      0.92        23\n",
            "          16       0.56      0.87      0.68        23\n",
            "          17       0.88      0.91      0.89        23\n",
            "          18       0.77      0.89      0.83        19\n",
            "          19       0.63      0.60      0.62        20\n",
            "          20       0.84      0.67      0.74        24\n",
            "          21       0.70      0.95      0.81        22\n",
            "          22       0.54      0.65      0.59        20\n",
            "          23       0.74      0.88      0.80        16\n",
            "\n",
            "    accuracy                           0.74       444\n",
            "   macro avg       0.72      0.69      0.68       444\n",
            "weighted avg       0.76      0.74      0.73       444\n",
            "\n"
          ]
        },
        {
          "output_type": "stream",
          "name": "stderr",
          "text": [
            "/usr/local/lib/python3.10/dist-packages/sklearn/metrics/_classification.py:1344: UndefinedMetricWarning: Precision and F-score are ill-defined and being set to 0.0 in labels with no predicted samples. Use `zero_division` parameter to control this behavior.\n",
            "  _warn_prf(average, modifier, msg_start, len(result))\n",
            "/usr/local/lib/python3.10/dist-packages/sklearn/metrics/_classification.py:1344: UndefinedMetricWarning: Precision and F-score are ill-defined and being set to 0.0 in labels with no predicted samples. Use `zero_division` parameter to control this behavior.\n",
            "  _warn_prf(average, modifier, msg_start, len(result))\n",
            "/usr/local/lib/python3.10/dist-packages/sklearn/metrics/_classification.py:1344: UndefinedMetricWarning: Precision and F-score are ill-defined and being set to 0.0 in labels with no predicted samples. Use `zero_division` parameter to control this behavior.\n",
            "  _warn_prf(average, modifier, msg_start, len(result))\n"
          ]
        }
      ]
    },
    {
      "cell_type": "markdown",
      "source": [
        "**Trying with Multinomial naive-bayes classifier**"
      ],
      "metadata": {
        "id": "OJujDmMjTAGC"
      }
    },
    {
      "cell_type": "code",
      "source": [
        "from sklearn.naive_bayes import MultinomialNB\n",
        "mnb_model =  MultinomialNB(force_alpha=True)\n",
        "mnb_model.fit(train_x_s, train_y)"
      ],
      "metadata": {
        "colab": {
          "base_uri": "https://localhost:8080/",
          "height": 74
        },
        "id": "QH7pd3y8LjiH",
        "outputId": "8b92ba2c-f54b-48f8-f374-e766b2ac7dfd"
      },
      "execution_count": null,
      "outputs": [
        {
          "output_type": "execute_result",
          "data": {
            "text/plain": [
              "MultinomialNB(force_alpha=True)"
            ],
            "text/html": [
              "<style>#sk-container-id-6 {color: black;background-color: white;}#sk-container-id-6 pre{padding: 0;}#sk-container-id-6 div.sk-toggleable {background-color: white;}#sk-container-id-6 label.sk-toggleable__label {cursor: pointer;display: block;width: 100%;margin-bottom: 0;padding: 0.3em;box-sizing: border-box;text-align: center;}#sk-container-id-6 label.sk-toggleable__label-arrow:before {content: \"▸\";float: left;margin-right: 0.25em;color: #696969;}#sk-container-id-6 label.sk-toggleable__label-arrow:hover:before {color: black;}#sk-container-id-6 div.sk-estimator:hover label.sk-toggleable__label-arrow:before {color: black;}#sk-container-id-6 div.sk-toggleable__content {max-height: 0;max-width: 0;overflow: hidden;text-align: left;background-color: #f0f8ff;}#sk-container-id-6 div.sk-toggleable__content pre {margin: 0.2em;color: black;border-radius: 0.25em;background-color: #f0f8ff;}#sk-container-id-6 input.sk-toggleable__control:checked~div.sk-toggleable__content {max-height: 200px;max-width: 100%;overflow: auto;}#sk-container-id-6 input.sk-toggleable__control:checked~label.sk-toggleable__label-arrow:before {content: \"▾\";}#sk-container-id-6 div.sk-estimator input.sk-toggleable__control:checked~label.sk-toggleable__label {background-color: #d4ebff;}#sk-container-id-6 div.sk-label input.sk-toggleable__control:checked~label.sk-toggleable__label {background-color: #d4ebff;}#sk-container-id-6 input.sk-hidden--visually {border: 0;clip: rect(1px 1px 1px 1px);clip: rect(1px, 1px, 1px, 1px);height: 1px;margin: -1px;overflow: hidden;padding: 0;position: absolute;width: 1px;}#sk-container-id-6 div.sk-estimator {font-family: monospace;background-color: #f0f8ff;border: 1px dotted black;border-radius: 0.25em;box-sizing: border-box;margin-bottom: 0.5em;}#sk-container-id-6 div.sk-estimator:hover {background-color: #d4ebff;}#sk-container-id-6 div.sk-parallel-item::after {content: \"\";width: 100%;border-bottom: 1px solid gray;flex-grow: 1;}#sk-container-id-6 div.sk-label:hover label.sk-toggleable__label {background-color: #d4ebff;}#sk-container-id-6 div.sk-serial::before {content: \"\";position: absolute;border-left: 1px solid gray;box-sizing: border-box;top: 0;bottom: 0;left: 50%;z-index: 0;}#sk-container-id-6 div.sk-serial {display: flex;flex-direction: column;align-items: center;background-color: white;padding-right: 0.2em;padding-left: 0.2em;position: relative;}#sk-container-id-6 div.sk-item {position: relative;z-index: 1;}#sk-container-id-6 div.sk-parallel {display: flex;align-items: stretch;justify-content: center;background-color: white;position: relative;}#sk-container-id-6 div.sk-item::before, #sk-container-id-6 div.sk-parallel-item::before {content: \"\";position: absolute;border-left: 1px solid gray;box-sizing: border-box;top: 0;bottom: 0;left: 50%;z-index: -1;}#sk-container-id-6 div.sk-parallel-item {display: flex;flex-direction: column;z-index: 1;position: relative;background-color: white;}#sk-container-id-6 div.sk-parallel-item:first-child::after {align-self: flex-end;width: 50%;}#sk-container-id-6 div.sk-parallel-item:last-child::after {align-self: flex-start;width: 50%;}#sk-container-id-6 div.sk-parallel-item:only-child::after {width: 0;}#sk-container-id-6 div.sk-dashed-wrapped {border: 1px dashed gray;margin: 0 0.4em 0.5em 0.4em;box-sizing: border-box;padding-bottom: 0.4em;background-color: white;}#sk-container-id-6 div.sk-label label {font-family: monospace;font-weight: bold;display: inline-block;line-height: 1.2em;}#sk-container-id-6 div.sk-label-container {text-align: center;}#sk-container-id-6 div.sk-container {/* jupyter's `normalize.less` sets `[hidden] { display: none; }` but bootstrap.min.css set `[hidden] { display: none !important; }` so we also need the `!important` here to be able to override the default hidden behavior on the sphinx rendered scikit-learn.org. See: https://github.com/scikit-learn/scikit-learn/issues/21755 */display: inline-block !important;position: relative;}#sk-container-id-6 div.sk-text-repr-fallback {display: none;}</style><div id=\"sk-container-id-6\" class=\"sk-top-container\"><div class=\"sk-text-repr-fallback\"><pre>MultinomialNB(force_alpha=True)</pre><b>In a Jupyter environment, please rerun this cell to show the HTML representation or trust the notebook. <br />On GitHub, the HTML representation is unable to render, please try loading this page with nbviewer.org.</b></div><div class=\"sk-container\" hidden><div class=\"sk-item\"><div class=\"sk-estimator sk-toggleable\"><input class=\"sk-toggleable__control sk-hidden--visually\" id=\"sk-estimator-id-6\" type=\"checkbox\" checked><label for=\"sk-estimator-id-6\" class=\"sk-toggleable__label sk-toggleable__label-arrow\">MultinomialNB</label><div class=\"sk-toggleable__content\"><pre>MultinomialNB(force_alpha=True)</pre></div></div></div></div></div>"
            ]
          },
          "metadata": {},
          "execution_count": 139
        }
      ]
    },
    {
      "cell_type": "code",
      "source": [
        "# getting validation set results\n",
        "get_evaluation(mnb_model, train_x_s, train_y, val_x_s, val_y)"
      ],
      "metadata": {
        "colab": {
          "base_uri": "https://localhost:8080/"
        },
        "id": "pJ1KRET1Ljqo",
        "outputId": "9e033d7b-554c-4df0-836e-b887f15e06b0"
      },
      "execution_count": null,
      "outputs": [
        {
          "output_type": "stream",
          "name": "stdout",
          "text": [
            "Training score of XGBoost: 66.48%\n",
            "Accuracy: 42.57%\n",
            "ROC-AUC score is:  88.56 %\n",
            "The Matthews correlation coefficinet (MCC) is:  41.33 %\n",
            "Weighted specificity: 97.40%\n",
            "              precision    recall  f1-score   support\n",
            "\n",
            "           0       0.00      0.00      0.00         5\n",
            "           1       0.38      0.65      0.48        17\n",
            "           2       0.16      0.89      0.27        19\n",
            "           3       1.00      0.06      0.12        16\n",
            "           4       0.25      0.06      0.10        17\n",
            "           5       0.25      0.88      0.39        17\n",
            "           6       0.00      0.00      0.00         4\n",
            "           7       1.00      0.03      0.06        30\n",
            "           8       0.37      0.35      0.36        20\n",
            "           9       0.00      0.00      0.00        13\n",
            "          10       0.64      0.60      0.62        15\n",
            "          11       0.92      0.55      0.69        20\n",
            "          12       0.00      0.00      0.00        16\n",
            "          13       0.00      0.00      0.00        18\n",
            "          14       0.53      0.37      0.43        27\n",
            "          15       1.00      0.39      0.56        23\n",
            "          16       0.40      0.09      0.14        23\n",
            "          17       0.76      0.83      0.79        23\n",
            "          18       0.55      0.84      0.67        19\n",
            "          19       0.62      0.40      0.48        20\n",
            "          20       0.62      0.42      0.50        24\n",
            "          21       0.49      0.95      0.65        22\n",
            "          22       0.39      0.35      0.37        20\n",
            "          23       0.64      0.88      0.74        16\n",
            "\n",
            "    accuracy                           0.43       444\n",
            "   macro avg       0.46      0.40      0.35       444\n",
            "weighted avg       0.52      0.43      0.38       444\n",
            "\n"
          ]
        },
        {
          "output_type": "stream",
          "name": "stderr",
          "text": [
            "/usr/local/lib/python3.10/dist-packages/sklearn/metrics/_classification.py:1344: UndefinedMetricWarning: Precision and F-score are ill-defined and being set to 0.0 in labels with no predicted samples. Use `zero_division` parameter to control this behavior.\n",
            "  _warn_prf(average, modifier, msg_start, len(result))\n",
            "/usr/local/lib/python3.10/dist-packages/sklearn/metrics/_classification.py:1344: UndefinedMetricWarning: Precision and F-score are ill-defined and being set to 0.0 in labels with no predicted samples. Use `zero_division` parameter to control this behavior.\n",
            "  _warn_prf(average, modifier, msg_start, len(result))\n",
            "/usr/local/lib/python3.10/dist-packages/sklearn/metrics/_classification.py:1344: UndefinedMetricWarning: Precision and F-score are ill-defined and being set to 0.0 in labels with no predicted samples. Use `zero_division` parameter to control this behavior.\n",
            "  _warn_prf(average, modifier, msg_start, len(result))\n"
          ]
        }
      ]
    },
    {
      "cell_type": "code",
      "source": [],
      "metadata": {
        "id": "hlgf8x4RLj79"
      },
      "execution_count": null,
      "outputs": []
    },
    {
      "cell_type": "markdown",
      "source": [
        "**saving the best model based on validation performance**"
      ],
      "metadata": {
        "id": "Hq_TTNU3TO3d"
      }
    },
    {
      "cell_type": "code",
      "source": [
        "# save the classifier as pickle\n",
        "import pickle\n",
        "pickle_out = open(\"/content/drive/MyDrive/IC_Evaluation/XGB_final\", \"wb\")\n",
        "pickle.dump(xgb_model, pickle_out)\n",
        "pickle_out.close()"
      ],
      "metadata": {
        "id": "yFInK8F_yUyO"
      },
      "execution_count": null,
      "outputs": []
    },
    {
      "cell_type": "markdown",
      "source": [
        "### loading trained feature extractor, selector and classifier to evaluate test data"
      ],
      "metadata": {
        "id": "I5dFKLodRX3G"
      }
    },
    {
      "cell_type": "code",
      "source": [
        "# getting multiclass feature selector pickle file\n",
        "tfid_path = \"/content/drive/MyDrive/IC_Evaluation/fe_xgb_tfid\"\n",
        "feats_in = open(tfid_path, \"rb\")\n",
        "tfid_ft_extractor = pickle.load(feats_in)\n",
        "\n",
        "\n",
        "# loading feature extractor\n",
        "fs_path = \"/content/drive/MyDrive/IC_Evaluation/ft_selection_xgb_tfid\"\n",
        "fs_in = open(fs_path, \"rb\")\n",
        "fs_selector = pickle.load(fs_in)\n",
        "\n",
        "# loading model\n",
        "model_path = \"/content/drive/MyDrive/IC_Evaluation/XGB_final\"\n",
        "model_in = open(model_path, 'rb')\n",
        "loaded_model = pickle.load(model_in)"
      ],
      "metadata": {
        "id": "q-_QvUx4RnHM"
      },
      "execution_count": null,
      "outputs": []
    },
    {
      "cell_type": "code",
      "source": [
        "## getting the data\n",
        "test_resume = test_data['resume'].values\n",
        "test_y = test_data['category_label'].values"
      ],
      "metadata": {
        "id": "XV9e_vOdT1r2"
      },
      "execution_count": null,
      "outputs": []
    },
    {
      "cell_type": "code",
      "source": [
        "# extract features\n",
        "test_ft = tfid_ft_extractor.transform(test_resume)\n",
        "print(f\"shape before feature extraction: {test_ft.shape}\")\n",
        "# feature selection\n",
        "x_test = fs_selector.transform(test_ft)\n",
        "print(f\"shape after feature extraction: {x_test.shape}\")"
      ],
      "metadata": {
        "colab": {
          "base_uri": "https://localhost:8080/"
        },
        "id": "L1jITnPXT11y",
        "outputId": "06763547-652c-4618-9dd4-4405c220151d"
      },
      "execution_count": null,
      "outputs": [
        {
          "output_type": "stream",
          "name": "stdout",
          "text": [
            "shape before feature extraction: (277, 32008)\n",
            "shape after feature extraction: (277, 19204)\n"
          ]
        }
      ]
    },
    {
      "cell_type": "code",
      "source": [
        "# getting classification results\n",
        "print(f\"===========> classification results on the test data <================\\n\")\n",
        "# prediction for test data\n",
        "prediction = loaded_model.predict(x_test)\n",
        "\n",
        "# accuracy\n",
        "acc = metrics.accuracy_score(test_y, prediction)\n",
        "print(f\"Accuracy: {100*acc:.2f}%\")\n",
        "\n",
        "# ROC-AUC\n",
        "roc_auc = roc_auc_score(test_y, model.predict_proba(x_test),  multi_class=\"ovr\")\n",
        "print(\"ROC-AUC score is: \", round(100*roc_auc, 2), \"%\")\n",
        "\n",
        "# Matthew's coefficent\n",
        "mcc = matthews_corrcoef(test_y, prediction)\n",
        "print(\"The Matthews correlation coefficinet (MCC) is: \", round(100*mcc, 2), \"%\")\n",
        "\n",
        "# specificity\n",
        "sp = specificity_score(test_y, prediction, average='weighted')\n",
        "print(f\"Weighted specificity: {100*sp:.2f}%\")\n",
        "\n",
        "# classification reports\n",
        "print(classification_report(test_y, prediction))"
      ],
      "metadata": {
        "colab": {
          "base_uri": "https://localhost:8080/"
        },
        "id": "J5F5plXPT1-x",
        "outputId": "2dc4c283-bfea-4ac7-ad25-b569654029ed"
      },
      "execution_count": null,
      "outputs": [
        {
          "output_type": "stream",
          "name": "stdout",
          "text": [
            "===========> classification results on the test data <================\n",
            "\n",
            "Accuracy: 71.48%\n",
            "ROC-AUC score is:  96.79 %\n",
            "The Matthews correlation coefficinet (MCC) is:  70.21 %\n",
            "Weighted specificity: 98.69%\n",
            "              precision    recall  f1-score   support\n",
            "\n",
            "           0       0.50      0.40      0.44         5\n",
            "           1       1.00      0.69      0.82        13\n",
            "           2       0.59      0.71      0.65        14\n",
            "           3       0.55      0.55      0.55        11\n",
            "           4       0.50      0.55      0.52        11\n",
            "           5       0.87      1.00      0.93        13\n",
            "           6       1.00      0.67      0.80         3\n",
            "           7       0.62      0.38      0.48        13\n",
            "           8       0.75      0.69      0.72        13\n",
            "           9       0.50      0.43      0.46         7\n",
            "          10       0.85      0.92      0.88        12\n",
            "          11       0.73      0.85      0.79        13\n",
            "          12       0.57      0.62      0.59        13\n",
            "          13       0.64      0.64      0.64        11\n",
            "          14       0.73      0.85      0.79        13\n",
            "          15       0.83      0.83      0.83        12\n",
            "          16       0.82      0.69      0.75        13\n",
            "          17       0.80      0.92      0.86        13\n",
            "          18       0.92      0.92      0.92        12\n",
            "          19       0.69      0.69      0.69        13\n",
            "          20       0.70      0.58      0.64        12\n",
            "          21       0.59      0.77      0.67        13\n",
            "          22       0.71      0.77      0.74        13\n",
            "          23       0.78      0.64      0.70        11\n",
            "\n",
            "    accuracy                           0.71       277\n",
            "   macro avg       0.72      0.70      0.70       277\n",
            "weighted avg       0.72      0.71      0.71       277\n",
            "\n"
          ]
        }
      ]
    },
    {
      "cell_type": "markdown",
      "source": [
        "### for the script"
      ],
      "metadata": {
        "id": "AhJZvReIWZtw"
      }
    },
    {
      "cell_type": "code",
      "source": [
        "# function to get sub direcotories name and subdirectories name with path\n",
        "import os\n",
        "from os import walk\n",
        "import shutil\n",
        "def get_subdir_name_n_path(src_path):\n",
        "  sub_dir = []\n",
        "  sub_dir_w_path = []\n",
        "  # getting sub-directories\n",
        "  for (dir_path, dir_names, file_names) in walk(src_path):\n",
        "    sub_dir.extend(dir_names)\n",
        "    break\n",
        "  # assigning sub-directories name\n",
        "  for i in range(len(sub_dir)):\n",
        "    sub_path = os.path.join(src_path+'/'+sub_dir[i]+'/')\n",
        "    sub_dir_w_path.append(sub_path)\n",
        "\n",
        "  return sub_dir, sub_dir_w_path"
      ],
      "metadata": {
        "id": "V7TqHPrzT2Hl"
      },
      "execution_count": null,
      "outputs": []
    },
    {
      "cell_type": "code",
      "source": [
        "# function to get files within a sub-directory\n",
        "\n",
        "def get_subdir_files(src_dir):\n",
        "  sub_files = []\n",
        "  only_names = []\n",
        "  for file in os.listdir(src_dir):\n",
        "    if(os.path.isfile(os.path.join(src_dir, file))):\n",
        "      file_name = os.path.join(src_dir, file)\n",
        "      sub_files.append(file_name)\n",
        "      only_names.append(file)\n",
        "  return sub_files, only_names"
      ],
      "metadata": {
        "id": "FSV-4WrcT2PV"
      },
      "execution_count": null,
      "outputs": []
    },
    {
      "cell_type": "code",
      "source": [
        "# function to get all files within subdirectoris as well\n",
        "def get_all_files_with_name(src_dir):\n",
        "  all_files_path = []\n",
        "  all_files_name = []\n",
        "  for path, subdirs, files in os.walk(src_dir):\n",
        "    for name in files:\n",
        "      # file name with path\n",
        "      file_name = os.path.join(path, name)\n",
        "      all_files_path.append(file_name)\n",
        "      # get the names\n",
        "      all_files_name.append(name)\n",
        "  return all_files_path, all_files_name"
      ],
      "metadata": {
        "id": "pw5zEWeFcGjZ"
      },
      "execution_count": null,
      "outputs": []
    },
    {
      "cell_type": "code",
      "source": [
        "# functon to create a directory\n",
        "def make_directory(root_path, dir_name):\n",
        "  # defining path\n",
        "  path = os.path.join(root_path, dir_name)\n",
        "\n",
        "  # we can give a directory name that already exist by mistake, therefore, using try except\n",
        "  try:\n",
        "    os.mkdir(path)\n",
        "    print(f\"Directory created successfully at: {path}\")\n",
        "  except OSError as error:\n",
        "      print(error)\n",
        "  return path"
      ],
      "metadata": {
        "id": "4oAUjCNYcJeL"
      },
      "execution_count": null,
      "outputs": []
    },
    {
      "cell_type": "code",
      "source": [
        "# get only file name\n",
        "def get_only_fname(src_path):\n",
        "  only_names = []\n",
        "  for path, subdirs, files in os.walk(dummy_path):\n",
        "    for name in files:\n",
        "      # file name with path\n",
        "      file_name = os.path.join(path, name)\n",
        "      only_names.append(name)\n",
        "      # only the file name\n",
        "      # print(name) # get the file name\n",
        "  return only_names\n"
      ],
      "metadata": {
        "id": "IcMnt-fniTN0"
      },
      "execution_count": null,
      "outputs": []
    },
    {
      "cell_type": "code",
      "source": [
        "# now checking this function by creating a test directory, which is needed to move some data in the test folder\n",
        "root_dir = '/content/drive/MyDrive/IC_Evaluation/'\n",
        "test_path = make_directory(root_dir, 'dummy_test_3')"
      ],
      "metadata": {
        "colab": {
          "base_uri": "https://localhost:8080/"
        },
        "id": "Hbu_X5kkcN5i",
        "outputId": "5fcb837f-91b0-4262-90b6-0d7b56468c42"
      },
      "execution_count": null,
      "outputs": [
        {
          "output_type": "stream",
          "name": "stdout",
          "text": [
            "Directory created successfully at: /content/drive/MyDrive/IC_Evaluation/dummy_test_3\n"
          ]
        }
      ]
    },
    {
      "cell_type": "code",
      "source": [
        "test_fold_path = '/content/drive/MyDrive/IC_Evaluation/test'\n",
        "\n",
        "# checking the function with our root directory\n",
        "test_fold_names, test_fold_paths = get_subdir_name_n_path(test_fold_path)"
      ],
      "metadata": {
        "id": "VkZPZ5cucV4C"
      },
      "execution_count": null,
      "outputs": []
    },
    {
      "cell_type": "code",
      "source": [
        "print(f\"Total classes in test folder: {len(test_fold_names)}\")"
      ],
      "metadata": {
        "colab": {
          "base_uri": "https://localhost:8080/"
        },
        "id": "TgktJQg1conO",
        "outputId": "fdc489bd-acdf-4dcb-bc1f-ecf9626457c3"
      },
      "execution_count": null,
      "outputs": [
        {
          "output_type": "stream",
          "name": "stdout",
          "text": [
            "Total classes in test folder: 24\n"
          ]
        }
      ]
    },
    {
      "cell_type": "code",
      "source": [
        "# first of all, I will create 24 sub-directory for 24 classes according to their name\n",
        "for i in range(len(test_fold_names)):\n",
        "  # getting the corresponding files of current sub-directory\n",
        "  sub_resumes_path, sub_resumes_name = get_subdir_files(test_fold_paths[i])\n",
        "\n",
        "  for k in range(len(sub_resumes_path)):\n",
        "    shutil.copy(sub_resumes_path[k], test_path+'/'+sub_resumes_name[k])\n",
        "\n",
        "print(\"copy completed...!\")"
      ],
      "metadata": {
        "colab": {
          "base_uri": "https://localhost:8080/"
        },
        "id": "qJyglaCTcr_J",
        "outputId": "2f2bda1d-bbab-447c-ba12-e24f8d2225aa"
      },
      "execution_count": null,
      "outputs": [
        {
          "output_type": "stream",
          "name": "stdout",
          "text": [
            "copy completed...!\n"
          ]
        }
      ]
    },
    {
      "cell_type": "code",
      "source": [
        "# now checking this function by creating a test directory, which is needed to move some data in the test folder\n",
        "root_dir = '/content/drive/MyDrive/IC_Evaluation/'\n",
        "test_path_2 = make_directory(root_dir, 'dummy_test_4')"
      ],
      "metadata": {
        "colab": {
          "base_uri": "https://localhost:8080/"
        },
        "id": "H47795rNc8ZD",
        "outputId": "e1ec2587-dca2-45e4-d14d-2399e2005e04"
      },
      "execution_count": null,
      "outputs": [
        {
          "output_type": "stream",
          "name": "stdout",
          "text": [
            "Directory created successfully at: /content/drive/MyDrive/IC_Evaluation/dummy_test_4\n"
          ]
        }
      ]
    },
    {
      "cell_type": "code",
      "source": [
        "# first of all, I will create 24 sub-directory for 24 classes according to their name\n",
        "for i in range(len(test_fold_names)):\n",
        "  # getting the corresponding files of current sub-directory\n",
        "  sub_resumes_path, sub_resumes_name = get_subdir_files(test_fold_paths[i])\n",
        "\n",
        "  for k in range(len(sub_resumes_path)):\n",
        "    shutil.copy(sub_resumes_path[k], test_path_2+'/'+sub_resumes_name[k])\n",
        "\n",
        "print(\"copy completed...!\")"
      ],
      "metadata": {
        "colab": {
          "base_uri": "https://localhost:8080/"
        },
        "id": "7e_3v3WWdOxm",
        "outputId": "72a2ac2d-58db-4fb0-ca06-a7bb0cbc77f9"
      },
      "execution_count": null,
      "outputs": [
        {
          "output_type": "stream",
          "name": "stdout",
          "text": [
            "copy completed...!\n"
          ]
        }
      ]
    },
    {
      "cell_type": "code",
      "source": [
        "# checking files\n",
        "dummy_test_3_path, dummy_test_3_name = get_all_files_with_name(test_path)\n",
        "dummy_test_4_path, dummy_test_4_name = get_all_files_with_name(test_path_2)\n",
        "\n",
        "print(\"Total test resumes copied to dummy test folder 3: \",len(dummy_test_3_path))\n",
        "print(\"Total test resumes copied to dummy test folder 4: \",len(dummy_test_4_path))\n",
        "\n",
        "print(\"Total test resumes names in dummy test folder 3: \",len(dummy_test_3_name))\n",
        "print(\"Total test resumes names in dummy test folder 4: \",len(dummy_test_4_name))"
      ],
      "metadata": {
        "colab": {
          "base_uri": "https://localhost:8080/"
        },
        "id": "rAZsQdz2dZFU",
        "outputId": "9c8f2ad0-ced8-40ac-8f67-dcd7453da47f"
      },
      "execution_count": null,
      "outputs": [
        {
          "output_type": "stream",
          "name": "stdout",
          "text": [
            "Total test resumes copied to dummy test folder 3:  277\n",
            "Total test resumes copied to dummy test folder 4:  277\n",
            "Total test resumes names in dummy test folder 3:  277\n",
            "Total test resumes names in dummy test folder 4:  277\n"
          ]
        }
      ]
    },
    {
      "cell_type": "code",
      "source": [
        "# take an input directory where the test resumes are kept\n",
        "input_dir = test_path # in this case i am taking dummy test_3 folder\n",
        "\n",
        "# read all the files from the given directory, and their names\n",
        "all_test_resumes, all_resume_names = get_all_files_with_name(input_dir)\n",
        "print('total test resumes with path: ',len(all_test_resumes))\n",
        "print('total test resumes with only name: ',len(all_resume_names))"
      ],
      "metadata": {
        "colab": {
          "base_uri": "https://localhost:8080/"
        },
        "id": "tzWOlz76d7OD",
        "outputId": "7f02a072-c22b-4b10-e23c-e504ca66185e"
      },
      "execution_count": null,
      "outputs": [
        {
          "output_type": "stream",
          "name": "stdout",
          "text": [
            "total test resumes with path:  277\n",
            "total test resumes with only name:  277\n"
          ]
        }
      ]
    },
    {
      "cell_type": "code",
      "source": [
        "# now, all files should be read and extract raw data from those\n",
        "# then processes those raw data\n",
        "def process_resume(resumes):\n",
        "  resume_text = []\n",
        "  for i in range(len(resumes)):\n",
        "    # getting text\n",
        "    raw_text = extract_text_from_pdf(resumes[i])\n",
        "    # preprocess those text\n",
        "    processed_text = preprocess_text(raw_text)\n",
        "    # append to the list\n",
        "    resume_text.append(processed_text)\n",
        "  return resume_text"
      ],
      "metadata": {
        "id": "WOkbQBf_e5C6"
      },
      "execution_count": null,
      "outputs": []
    },
    {
      "cell_type": "code",
      "source": [
        "processed_resume_text = process_resume(all_test_resumes)\n",
        "print('total resumes processed: ',len(processed_resume_text))\n",
        "processed_resume_text[0]"
      ],
      "metadata": {
        "colab": {
          "base_uri": "https://localhost:8080/",
          "height": 141
        },
        "id": "A0T9enOGk1ut",
        "outputId": "f4c62200-5bdd-4729-f27e-23023347a6f3"
      },
      "execution_count": null,
      "outputs": [
        {
          "output_type": "stream",
          "name": "stdout",
          "text": [
            "total resumes processed:  277\n"
          ]
        },
        {
          "output_type": "execute_result",
          "data": {
            "text/plain": [
              "'general liability claim representative summary claims representative highly motivated su ess driven several years experience insurance industry skills claims file management processes litigation resolution strong interpersonal communication skills self directed team player critical thinker experience general liability claim representative company name city state recognized continued outstanding customer service nominated synch award su essfully determine coverage communicate insured based application policy information facts allegations case aggressively investigate evaluate reserve negotiate assigned claims ordance best practices organize workflow maintain efficiency productivity recognized su essfully indentifying resources activities required properly investigate claims involving subrogation risk control fraud effectively manage litigated claims maintain ounts business partners ensure sustain quality results auto claims unit manager company name city state monitor performance team eight automobile claim representatives using tools techniques available implement plans improve performance timely effectively communicate expectations hold unit meetings organize workflow maintain efficiency productivity coach develop technically professionally order improve business results maintain positive morale office proactively understand plan communicate objectives philosophy company unit goals expectations changes workflows ability analyze team results independently create implement appropriate action plans order achieve needed results automobile liability claims representative company name city state determine coverage supervise investigation automobile idents telephone site determine liability direct auto claims representatives pay property damage claims liability determined adverse managed uninsured underinsured motorist property injury claims manage reported claims special investigations completed reports outcome investigations awarded home work privileges due superior time management skills supervise litigated claims support company legal counsel senior general liability claims representative company name city state directly responsible investigating general liability claims slip falls municipality claims involving wrongful death allegations required work closely clients complete investigation claims determine liability evaluate settlements required understand services offered assist outside sales presentations conjunction risk management general counsel supervised litigated claims managed multimillion dollar settlements conjunction risk management partners defense counsel education training b journalism southern illinois university city state journalism skills coverage analysis customer service presentations litigation management claim investigations time management'"
            ],
            "application/vnd.google.colaboratory.intrinsic+json": {
              "type": "string"
            }
          },
          "metadata": {},
          "execution_count": 189
        }
      ]
    },
    {
      "cell_type": "code",
      "source": [
        "# now we will extract features from resume text and perform feature selection\n",
        "def feat_extract_n_select(resume_text):\n",
        "\n",
        "  # getting multiclass feature selector pickle file\n",
        "  tfid_path = \"/content/drive/MyDrive/IC_Evaluation/fe_xgb_tfid\"\n",
        "  feats_in = open(tfid_path, \"rb\")\n",
        "  tfid_ft_extractor = pickle.load(feats_in)\n",
        "\n",
        "  # loading feature extractor\n",
        "  fs_path = \"/content/drive/MyDrive/IC_Evaluation/ft_selection_xgb_tfid\"\n",
        "  fs_in = open(fs_path, \"rb\")\n",
        "  fs_selector = pickle.load(fs_in)\n",
        "\n",
        "  resume_features = tfid_ft_extractor.transform(resume_text)\n",
        "  selected_resume_feat = fs_selector.transform(resume_features)\n",
        "\n",
        "  return selected_resume_feat"
      ],
      "metadata": {
        "id": "DEU_NIoalLPP"
      },
      "execution_count": null,
      "outputs": []
    },
    {
      "cell_type": "code",
      "source": [
        "# apply the function\n",
        "X_test = feat_extract_n_select(processed_resume_text)\n",
        "print(\"shape after feature selection: \", X_test.shape)"
      ],
      "metadata": {
        "colab": {
          "base_uri": "https://localhost:8080/"
        },
        "id": "IUXA2Io7mOSy",
        "outputId": "dab261d0-f17f-489c-cce4-27967d68cf2a"
      },
      "execution_count": null,
      "outputs": [
        {
          "output_type": "stream",
          "name": "stdout",
          "text": [
            "shape after feature selection:  (277, 19204)\n"
          ]
        }
      ]
    },
    {
      "cell_type": "code",
      "source": [
        "# getting list of text labels, as we will convert predicted numerical list into text\n",
        "# and the file will be moved into predicted class folder\n",
        "text_labels = list(labels_dict.keys())\n",
        "print(text_labels)"
      ],
      "metadata": {
        "colab": {
          "base_uri": "https://localhost:8080/"
        },
        "id": "9mcFV2RAmkU5",
        "outputId": "dc472d45-d98a-425a-9323-990eb7c20b9d"
      },
      "execution_count": null,
      "outputs": [
        {
          "output_type": "stream",
          "name": "stdout",
          "text": [
            "['AUTOMOBILE', 'AVIATION', 'BUSINESS-DEVELOPMENT', 'APPAREL', 'ARTS', 'ACCOUNTANT', 'BPO', 'BANKING', 'ADVOCATE', 'AGRICULTURE', 'CONSTRUCTION', 'FITNESS', 'CONSULTANT', 'DIGITAL-MEDIA', 'ENGINEERING', 'DESIGNER', 'FINANCE', 'CHEF', 'HR', 'HEALTHCARE', 'PUBLIC-RELATIONS', 'INFORMATION-TECHNOLOGY', 'SALES', 'TEACHER']\n"
          ]
        }
      ]
    },
    {
      "cell_type": "code",
      "source": [
        "# our model prediction and categorization of resumes\n",
        "import csv\n",
        "def categorize_resumes(resumes, resume_names, resume_paths, labels_list, input_dir):\n",
        "  # load model\n",
        "  model_path = \"/content/drive/MyDrive/IC_Evaluation/XGB_final\"\n",
        "  model_in = open(model_path, 'rb')\n",
        "  loaded_model = pickle.load(model_in)\n",
        "\n",
        "  categories_resumes = []\n",
        "  a = 0\n",
        "  for resume in resumes:\n",
        "    resume_name = resume_names[a]\n",
        "    resume_path = resume_paths[a]\n",
        "    pred_categ_label = loaded_model.predict(resume)\n",
        "    pred_categ_name = labels_list[int(pred_categ_label)]\n",
        "\n",
        "    # appending file and predicted category into a list\n",
        "    categories_resumes.append([resume_path, pred_categ_name])\n",
        "    # print('file_path: ', resume_path)\n",
        "    # print('filename: ', resume_name,'predicted: ', pred_categ_name)\n",
        "\n",
        "    # defining destination folder name, input folder based on requirements\n",
        "    dest_name= os.path.join(input_dir+'/'+pred_categ_name)\n",
        "    # checking is there any folder named by the predicted class to the dest folder\n",
        "    if(os.path.isdir(dest_name)):\n",
        "      shutil.move(resume_path, dest_name+'/'+resume_name)\n",
        "    else:\n",
        "      new_dir = make_directory(input_dir+'/', pred_categ_name)\n",
        "      shutil.move(resume_path, new_dir+'/'+resume_name)\n",
        "    a+=1\n",
        "\n",
        "  # making csv file\n",
        "  print(\"All test resumes as categorized and moved into destination folder with corresponding class folders...!\")\n",
        "\n",
        "  # making csv file to the destination folder\n",
        "  with open(input_dir+'/'+ 'categorized_resumes.csv', 'w', encoding='UTF8', newline='') as p:\n",
        "    writer = csv.writer(p)\n",
        "    writer.writerows(categories_resumes)\n",
        "\n",
        "  print(\"CSV file for categorized resumes also added to the destination folder...!!\")\n"
      ],
      "metadata": {
        "id": "JWhDFZU4nUim"
      },
      "execution_count": null,
      "outputs": []
    },
    {
      "cell_type": "code",
      "source": [
        "# categorize resume\n",
        "categorize_resumes(X_test, all_resume_names, all_test_resumes, text_labels, input_dir)"
      ],
      "metadata": {
        "colab": {
          "base_uri": "https://localhost:8080/"
        },
        "id": "-C5xxizCqeKq",
        "outputId": "fb5d0578-3fed-4521-a76f-1706c93021f4"
      },
      "execution_count": null,
      "outputs": [
        {
          "output_type": "stream",
          "name": "stdout",
          "text": [
            "Directory created successfully at: /content/drive/MyDrive/IC_Evaluation/dummy_test_3/AUTOMOBILE\n",
            "Directory created successfully at: /content/drive/MyDrive/IC_Evaluation/dummy_test_3/CONSULTANT\n",
            "Directory created successfully at: /content/drive/MyDrive/IC_Evaluation/dummy_test_3/ARTS\n",
            "Directory created successfully at: /content/drive/MyDrive/IC_Evaluation/dummy_test_3/AGRICULTURE\n",
            "Directory created successfully at: /content/drive/MyDrive/IC_Evaluation/dummy_test_3/AVIATION\n",
            "Directory created successfully at: /content/drive/MyDrive/IC_Evaluation/dummy_test_3/ENGINEERING\n",
            "Directory created successfully at: /content/drive/MyDrive/IC_Evaluation/dummy_test_3/INFORMATION-TECHNOLOGY\n",
            "Directory created successfully at: /content/drive/MyDrive/IC_Evaluation/dummy_test_3/SALES\n",
            "Directory created successfully at: /content/drive/MyDrive/IC_Evaluation/dummy_test_3/HR\n",
            "Directory created successfully at: /content/drive/MyDrive/IC_Evaluation/dummy_test_3/APPAREL\n",
            "Directory created successfully at: /content/drive/MyDrive/IC_Evaluation/dummy_test_3/BUSINESS-DEVELOPMENT\n",
            "Directory created successfully at: /content/drive/MyDrive/IC_Evaluation/dummy_test_3/CHEF\n",
            "Directory created successfully at: /content/drive/MyDrive/IC_Evaluation/dummy_test_3/HEALTHCARE\n",
            "Directory created successfully at: /content/drive/MyDrive/IC_Evaluation/dummy_test_3/DESIGNER\n",
            "Directory created successfully at: /content/drive/MyDrive/IC_Evaluation/dummy_test_3/FITNESS\n",
            "Directory created successfully at: /content/drive/MyDrive/IC_Evaluation/dummy_test_3/PUBLIC-RELATIONS\n",
            "Directory created successfully at: /content/drive/MyDrive/IC_Evaluation/dummy_test_3/TEACHER\n",
            "Directory created successfully at: /content/drive/MyDrive/IC_Evaluation/dummy_test_3/ACCOUNTANT\n",
            "Directory created successfully at: /content/drive/MyDrive/IC_Evaluation/dummy_test_3/BPO\n",
            "Directory created successfully at: /content/drive/MyDrive/IC_Evaluation/dummy_test_3/ADVOCATE\n",
            "Directory created successfully at: /content/drive/MyDrive/IC_Evaluation/dummy_test_3/BANKING\n",
            "Directory created successfully at: /content/drive/MyDrive/IC_Evaluation/dummy_test_3/FINANCE\n",
            "Directory created successfully at: /content/drive/MyDrive/IC_Evaluation/dummy_test_3/DIGITAL-MEDIA\n",
            "Directory created successfully at: /content/drive/MyDrive/IC_Evaluation/dummy_test_3/CONSTRUCTION\n",
            "All test resumes as categorized and moved into destination folder with corresponding class folders...!\n",
            "CSV file for categorized resumes also added to the destination folder...!!\n"
          ]
        }
      ]
    },
    {
      "cell_type": "code",
      "source": [],
      "metadata": {
        "id": "veHXqxfnqsO4"
      },
      "execution_count": null,
      "outputs": []
    }
  ]
}